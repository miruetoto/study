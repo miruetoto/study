{
 "cells": [
  {
   "cell_type": "markdown",
   "id": "mediterranean-interest",
   "metadata": {},
   "source": [
    "\n",
    "### About this doc \n",
    "\n",
    "\n",
    "아래를 요약함 <br>\n",
    "Goodfellow, I., Pouget-Abadie, J., Mirza, M., Xu, B., Warde-Farley, D., Ozair, S., ... & Bengio, Y. (2014). Generative adversarial nets. In Advances in neural information processing systems (pp. 2672-2680)."
   ]
  },
  {
   "cell_type": "markdown",
   "id": "dimensional-being",
   "metadata": {},
   "source": [
    "### 용어요약"
   ]
  },
  {
   "cell_type": "markdown",
   "id": "caring-intellectual",
   "metadata": {},
   "source": [
    "$z_i$: 노이즈자료\n",
    "\n",
    "\n",
    "$p_z(z)$: 노이즈의 덴시티 \n",
    "\n",
    "\n",
    "$x_i$: 관측한자료 \n",
    "\n",
    "\n",
    "$p_x(x)$: 관측자료의 덴시티\n",
    "\n",
    "\n",
    "$p_g(x)$: generator의 distribution\n",
    "\n",
    "\n",
    "$\\theta_g$: 제너레이터가 추정한 심층망의 파라메터값\n",
    "\n",
    "\n",
    "$G_{\\theta_g}(z_i)$: 제너레이터가 만든 심층망의 출력 "
   ]
  },
  {
   "cell_type": "markdown",
   "id": "controlling-concept",
   "metadata": {},
   "source": [
    "$y_i$: 디스크리미네이터가 받는 입력자료 "
   ]
  },
  {
   "cell_type": "markdown",
   "id": "sexual-nashville",
   "metadata": {},
   "source": [
    "$D_{\\theta_g}(y_i)$: "
   ]
  },
  {
   "cell_type": "markdown",
   "id": "stopped-catch",
   "metadata": {},
   "source": [
    "### 제너레이터"
   ]
  },
  {
   "cell_type": "markdown",
   "id": "intended-myrtle",
   "metadata": {},
   "source": [
    "\n",
    "(#) 우리가 관측한 자료 $\\{x_i\\}_ {i=1}^{n}$가 평균이 $500$이고 분산이 $5^2$인 정규분포 생성되었다고 가정하자. \n",
    "\n",
    "(#) 제너레이터는 주어진 자료 $\\{x_i\\}_ {i=1}^{n}$로부터 generator's distribution $p_g(x)$를 알고 싶다. \n",
    "\n",
    "(#) 즉 제너레이터의 목적은 \n",
    "\n",
    "$\n",
    "p_g(x) \\approx \\frac{1}{\\sqrt{5\\times 2\\pi}}\\exp\\left(\\frac{-(x-500)^2}{2\\times 5^2}\\right)\n",
    "$\n",
    "\n",
    "가 되도록 $p_g(x)$를 학습하는 것이다. \n",
    "\n",
    "(#) 제너레이터는 이러한 목적을 달성하기 위해서 평균이 0이고 분산이 1인 정규분포$p_z(z)$ 에서 노이즈 $\\{z_i\\}_ {i=1}^{n}$ 를 발생시키고 노이즈로부터 $x_i$를 학습하는 MLP를 쌓는다. \n",
    "\n",
    "(#) 즉 아래를 만족하는 적당한 함수 $G_{\\theta_g}(z_i)$를 학습한다. \n",
    "\n",
    "$x_i \\approx G_{\\bf \\theta_g}(z_i)$\n",
    "\n",
    "당연히 학습을 잘 했다면 $G_{\\bf \\theta_g}(z_i)=5\\times z_i + 500$이 되도록 학습이 될 것이고 이때 ${\\bf \\theta_g}=(500,5)$가 된다. \n"
   ]
  },
  {
   "cell_type": "markdown",
   "id": "musical-retention",
   "metadata": {},
   "source": [
    "### 디스크리미네이터"
   ]
  },
  {
   "cell_type": "markdown",
   "id": "equal-joyce",
   "metadata": {},
   "source": [
    "(#) 제너레이터와 별도로 디스크리미네이터는 입력으로 $\\{x_i\\}$ 혹은 $\\{G_{\\bf \\theta_g}(z_i)\\}$를 받는다. \n",
    "\n",
    "(#) 편의상 이러한 자료를 $\\{y_i\\}$라고 하자. 즉 \n",
    "$\n",
    "\\{y_i\\}:=\\{x_i\\} \\cup \\{G_{\\bf \\theta_g}(z_i)\\}\n",
    "$"
   ]
  },
  {
   "cell_type": "markdown",
   "id": "together-exhibition",
   "metadata": {},
   "source": [
    "(#) $\\{x_i\\}$는 총 $n$개 있고, $\\{G_{\\theta_g}(z_i)\\}$역시 총 $n$개가 있으므로 $\\{y_i\\}$는 $2n$개가 있을 것이다. "
   ]
  },
  {
   "cell_type": "markdown",
   "id": "descending-examination",
   "metadata": {},
   "source": [
    "(#) 디스크리미네이터는 입력이 $\\{x_i\\}$일 경우에는 1을 출력하고 입력이 $\\{G_{\\bf \\theta_g}(z_i)\\}$일 경우에는 0을 출력하는 함수 $D_{\\bf \\theta_d}(y_i)$를 학습한다. \n",
    "\n",
    "(#) 따라서 $D_{\\bf \\theta_d}(y_i)$가 자료 $\\{y_i\\}:=\\{x_i\\} \\cup \\{G_{\\bf \\theta_g}(z_i)\\}$으로부터 파라메터 $\\theta_d$를 잘 학습했다면 $D_{\\bf \\theta_d}(y_i)$는 아래와 같은 성질을 가져야 한다. \n",
    "- $y_i \\in \\{x_i\\}$이면 $D_{\\bf \\theta_d}(y_i) \\approx 1$이다.\n",
    "- $y_i \\in \\{G_{\\bf \\theta_g}(z_i)\\}$이면 $D_{\\bf \\theta_d}(y_i) \\approx 0$이다. \n"
   ]
  },
  {
   "cell_type": "markdown",
   "id": "hired-makeup",
   "metadata": {},
   "source": [
    "(#) 디스크리미네이터의 관점에서 보자. 디스크리미네이터는\n",
    "1. $D_{\\bf \\theta_d}(G_{\\bf \\theta_g}(z_i))$의 값들이 작을 수록 \n",
    "2. $D_{\\bf \\theta_d}(x_i)$의 값들이 클수록 \n",
    "\n",
    "학습이 잘 되었다고 판단한다.  \n",
    "\n",
    "(#) 따라서 디스크리미네이터는 아래식을 만족하는 $\\bf \\theta_d$를 찾고 싶어한다. 이때 $\\bf \\theta_g$는 고정된 값이다. \n",
    "\n",
    "$\n",
    "\\underset{\\bf \\theta_d}{\\operatorname{argmin}}\\frac{1}{n}\\sum_{i=1}^{n} \\left[ \\log D_{\\bf \\theta_d}(x_i) +\\log \\left(1- D_{\\bf \\theta_d}(G_{\\bf \\theta_g}(z_i)) \\right) \\right] \n",
    "$"
   ]
  },
  {
   "cell_type": "code",
   "execution_count": null,
   "id": "fluid-accessory",
   "metadata": {},
   "outputs": [],
   "source": []
  }
 ],
 "metadata": {
  "kernelspec": {
   "display_name": "Python 3",
   "language": "python",
   "name": "python3"
  },
  "language_info": {
   "codemirror_mode": {
    "name": "ipython",
    "version": 3
   },
   "file_extension": ".py",
   "mimetype": "text/x-python",
   "name": "python",
   "nbconvert_exporter": "python",
   "pygments_lexer": "ipython3",
   "version": "3.8.5"
  }
 },
 "nbformat": 4,
 "nbformat_minor": 5
}
