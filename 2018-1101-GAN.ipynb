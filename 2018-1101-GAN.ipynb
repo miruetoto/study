{
 "cells": [
  {
   "cell_type": "markdown",
   "id": "collective-somerset",
   "metadata": {},
   "source": [
    "\n",
    "### About this doc \n",
    "\n",
    "\n",
    "아래를 요약함 <br>\n",
    "Goodfellow, I., Pouget-Abadie, J., Mirza, M., Xu, B., Warde-Farley, D., Ozair, S., ... & Bengio, Y. (2014). Generative adversarial nets. In Advances in neural information processing systems (pp. 2672-2680)."
   ]
  },
  {
   "cell_type": "markdown",
   "id": "ruled-belle",
   "metadata": {},
   "source": [
    "### 용어요약"
   ]
  },
  {
   "cell_type": "markdown",
   "id": "large-arbitration",
   "metadata": {},
   "source": [
    "$z_i$: 노이즈자료\n",
    "\n",
    "\n",
    "$p_z(z)$: 노이즈의 덴시티 \n",
    "\n",
    "\n",
    "$x_i$: 관측한자료 \n",
    "\n",
    "\n",
    "$p_x(x)$: 관측자료의 덴시티\n",
    "\n",
    "\n",
    "$p_g(x)$: generator의 distribution\n",
    "\n",
    "\n",
    "$\\theta_g$: 제너레이터가 추정한 심층망의 파라메터값\n",
    "\n",
    "\n",
    "$G_{\\theta_g}(z_i)$: 제너레이터가 만든 심층망의 출력, "
   ]
  },
  {
   "cell_type": "markdown",
   "id": "retained-filename",
   "metadata": {},
   "source": [
    "$y_i$: 디스크리미네이터가 받는 입력자료. 그러니까 $\\{x_i\\}$와 $\\{G_{\\theta_g}(z_i)\\}$를 합친것. "
   ]
  },
  {
   "cell_type": "markdown",
   "id": "studied-possible",
   "metadata": {},
   "source": [
    "$\\theta_d$: 디스크리미네이터가 만든 심층망의 파라메터값"
   ]
  },
  {
   "cell_type": "markdown",
   "id": "regulation-valuable",
   "metadata": {},
   "source": [
    "$D_{\\theta_d}(y_i)$: 디스크리미네이터가 만든 심층망의 출력 (0 or 1)"
   ]
  },
  {
   "cell_type": "markdown",
   "id": "theoretical-bridges",
   "metadata": {},
   "source": [
    "### 제너레이터"
   ]
  },
  {
   "cell_type": "markdown",
   "id": "arabic-lounge",
   "metadata": {},
   "source": [
    "\n",
    "(#) 우리가 관측한 자료 $\\{x_i\\}_ {i=1}^{n}$가 평균이 $500$이고 분산이 $5^2$인 정규분포 생성되었다고 가정하자. \n",
    "\n",
    "(#) 제너레이터는 주어진 자료 $\\{x_i\\}_ {i=1}^{n}$로부터 generator's distribution $p_g(x)$를 알고 싶다. \n",
    "\n",
    "(#) 즉 제너레이터의 목적은 \n",
    "\n",
    "$\n",
    "p_g(x) \\approx \\frac{1}{\\sqrt{5\\times 2\\pi}}\\exp\\left(\\frac{-(x-500)^2}{2\\times 5^2}\\right)\n",
    "$\n",
    "\n",
    "가 되도록 $p_g(x)$를 학습하는 것이다. \n",
    "\n",
    "(#) 제너레이터는 이러한 목적을 달성하기 위해서 평균이 0이고 분산이 1인 정규분포$p_z(z)$ 에서 노이즈 $\\{z_i\\}_ {i=1}^{n}$ 를 발생시키고 노이즈로부터 $x_i$를 학습하는 MLP를 쌓는다. \n",
    "\n",
    "(#) 즉 아래를 만족하는 적당한 함수 $G_{\\theta_g}(z_i)$를 학습한다. \n",
    "\n",
    "$x_i \\approx G_{\\bf \\theta_g}(z_i)$\n",
    "\n",
    "당연히 학습을 잘 했다면 $G_{\\bf \\theta_g}(z_i)=5\\times z_i + 500$이 되도록 학습이 될 것이고 이때 ${\\bf \\theta_g}=(500,5)$가 된다. \n"
   ]
  },
  {
   "cell_type": "markdown",
   "id": "electrical-monitor",
   "metadata": {},
   "source": [
    "### 디스크리미네이터"
   ]
  },
  {
   "cell_type": "markdown",
   "id": "valid-cooler",
   "metadata": {},
   "source": [
    "(#) 제너레이터와 별도로 디스크리미네이터는 입력으로 $\\{x_i\\}$ 혹은 $\\{G_{\\theta_g}(z_i)\\}$를 받는다. \n",
    "\n",
    "(#) 편의상 이러한 자료를 $\\{y_i\\}$라고 하자. 즉 \n",
    "$\n",
    "\\{y_i\\}:=\\{x_i\\} \\cup \\{G_{\\theta_g}(z_i)\\}\n",
    "$"
   ]
  },
  {
   "cell_type": "markdown",
   "id": "loving-basket",
   "metadata": {},
   "source": [
    "(#) $\\{x_i\\}$는 총 $n$개 있고, $\\{G_{\\theta_g}(z_i)\\}$역시 총 $n$개가 있으므로 $\\{y_i\\}$는 $2n$개가 있을 것이다. "
   ]
  },
  {
   "cell_type": "markdown",
   "id": "every-unknown",
   "metadata": {},
   "source": [
    "(#) 디스크리미네이터는 입력이 $\\{x_i\\}$일 경우에는 1을 출력하고 입력이 $\\{G_{\\theta_g}(z_i)\\}$일 경우에는 0을 출력하는 함수 $D_{\\theta_d}(y_i)$를 학습한다. \n",
    "\n",
    "- 진짜자료면 1\n",
    "- 가짜자료면 0 "
   ]
  },
  {
   "cell_type": "markdown",
   "id": "indoor-distribution",
   "metadata": {},
   "source": [
    "(#) 따라서 $D_{\\bf \\theta_d}(y_i)$가 자료 $\\{y_i\\}:=\\{x_i\\} \\cup \\{G_{\\bf \\theta_g}(z_i)\\}$으로부터 파라메터 $\\theta_d$를 잘 학습했다면 $D_{\\bf \\theta_d}(y_i)$는 아래와 같은 성질을 가져야 한다. \n",
    "- $y_i \\in \\{x_i\\}$이면 $D_{\\bf \\theta_d}(y_i) \\approx 1$이다.\n",
    "- $y_i \\in \\{G_{\\bf \\theta_g}(z_i)\\}$이면 $D_{\\bf \\theta_d}(y_i) \\approx 0$이다. \n"
   ]
  },
  {
   "cell_type": "markdown",
   "id": "silver-huntington",
   "metadata": {},
   "source": [
    "(#) 디스크리미네이터의 관점에서 보자. 디스크리미네이터는\n",
    "1. $D_{\\theta_d}(G_{\\theta_g}(z_i))$의 값들이 작을 수록 \n",
    "2. $D_{\\theta_d}(x_i)$의 값들이 클수록 \n",
    "\n",
    "학습이 잘 되었다고 판단한다.  \n",
    "\n",
    "(#) 따라서 디스크리미네이터는 아래식을 만족하는 $\\theta_d$를 찾고 싶어한다. 이때 $\\theta_g$는 고정된 값이다. \n",
    "\n",
    "$\n",
    "\\underset{\\bf \\theta_d}{\\operatorname{argmin}}\\frac{1}{n}\\sum_{i=1}^{n} \\left[ \\log D_{\\bf \\theta_d}(x_i) +\\log \\left(1- D_{\\bf \\theta_d}(G_{\\bf \\theta_g}(z_i)) \\right) \\right] \n",
    "$"
   ]
  },
  {
   "cell_type": "markdown",
   "id": "unauthorized-sound",
   "metadata": {},
   "source": [
    "### 싸움"
   ]
  },
  {
   "cell_type": "markdown",
   "id": "technical-denial",
   "metadata": {},
   "source": [
    "(#) 앞에서 말한것 처럼 디스크리미네이터는 아래식을 만족하는 $\\bf \\theta_d$를 찾고 싶어한다. 이때 $\\theta_g$는 고정된 값이다. \n",
    "\n",
    "$\\underset{\\theta_d}{\\operatorname{argmin}}\\frac{1}{n}\\sum_{i=1}^{n} \\left[ \\log D_{\\theta_d}(x_i) +\\log \\left(1- D_{\\theta_d}(G_{\\theta_g}(z_i)) \\right) \\right]$\n"
   ]
  },
  {
   "cell_type": "markdown",
   "id": "international-survival",
   "metadata": {},
   "source": [
    "(#) 반면에 제너레이터는 $D_{\\theta_d}(G_{\\theta_g}(z_i))$값들이 커야지 학습이 잘 된 것이고 볼 수 있다. 즉 제너레이터는 아래식을 만족하는 $\\theta_g$를 찾고 싶어한다. 이때 $\\theta_d$는 고정된 값이다.  \n",
    "\n",
    "$\\underset{\\bf \\theta_d}{\\operatorname{argmin}}\\frac{1}{n}\\sum_{i=1}^{n} \\log \\left(1-D_ {\\bf \\theta_d}(G_{\\bf \\theta_g}(z_i))\\right)$"
   ]
  },
  {
   "cell_type": "markdown",
   "id": "brilliant-blink",
   "metadata": {},
   "source": [
    "(#) 우리가 원하는 것은 \n",
    "\n",
    "> 굉장히 성능이 좋은 디스크리미네이터조차도 구분하기가 쉽지않은 가짜 샘플을 만드는 제너레이너를 찾는 것\n",
    "\n",
    "이다. "
   ]
  },
  {
   "cell_type": "markdown",
   "id": "oriental-borough",
   "metadata": {},
   "source": [
    "(#) 이안굿펠로우는 요걸 달성하기 위해서 아래를 구하면 된다고 주장한다. \n",
    "\n",
    "$\\underset{G_{\\theta_g}}{\\operatorname{argmin}} \\max_{D_{\\theta_d}} V(D_{\\theta_d},G_{\\theta_g})$\n",
    "\n",
    "여기에서 \n",
    "\n",
    "\n",
    "$V(D_{\\theta_d},G_{\\theta_g})=E_{x \\sim p_{data}}[\\log D_{ \\theta_d}(x)] + E_{z \\sim p_z(z)}[\\log (1-D_{\\theta_d}(G_{\\theta_g}(z))]$\n",
    "\n",
    "이다. \n",
    "\n",
    "- $D_{\\theta_d}(x)$: 진짜자료를 입력을 받았을때 판별자가 내리는 판단. 따라서 1일수록 좋은 판단.  \n",
    "- $D_{\\theta_d}(G_{\\theta_g}(z))$: 가짜자료를 입력을 받았을때 판별자가 내리는 판단. 따라서 0일수록 좋은판단. \n",
    "- $1-D_{\\theta_d}(G_{\\theta_g}(z))$: 이건 다시 1일수록 좋다. 즉 1일수록 판별자가 좋은 판단을 한것임 \n",
    "- $E_{x \\sim p_{data}}[\\log D_{ \\theta_d}(x)]$: 진짜자료를 입력받았을때 판별자가 내리는 판단의 평균. 즉 1일수록 판단력이 좋다. \n",
    "- $E_{z \\sim p_z(z)}[\\log (1-D_{\\theta_d}(G_{\\theta_g}(z))]$: 가짜자료를 입력받았을때 판별자가 내리는 판단의 평균. 역시 1일수록 판단력이 좋다. \n",
    "- $V(D_{\\theta_d},G_{\\theta_g})$의 값이 클수록 판별자의 판단력이 좋은것임. \n",
    "- $V(D_{\\theta_d},G_{\\theta_g})$의 값이 값이 작을수록 생성자의 실력이 좋은것임. \n",
    "- $\\underset{G_{\\theta_g}}{\\operatorname{argmin}} \\max_{D_{\\theta_d}} V(D_{\\theta_d},G_{\\theta_g})$에서 잘보면 맥시멈이 먼저 취해지는데 이는 GAN이 (1) 판별자의 판단력 먼저키우고 (2) 생성자의 재현력을 나중에 키우는 전략을 취한다는 것을 알려줌. (하기사 판별이 꽝이면 제대로 생성된건지 아닌지 모르니까) "
   ]
  },
  {
   "cell_type": "markdown",
   "id": "superb-roommate",
   "metadata": {},
   "source": [
    "\n",
    "(#) 즉 \n",
    "\n",
    "(1) $\\underset{\\theta_d}{\\operatorname{argmin}}\\frac{1}{n}\\sum_{i=1}^{n} \\left[ \\log D_{\\theta_d}(x_i) +\\log \\left(1- D_{\\theta_d}(G_{\\theta_g}(z_i)) \\right) \\right]$ \n",
    "\n",
    "(2) $\\underset{\\theta_d}{\\operatorname{argmin}}\\frac{1}{n}\\sum_{i=1}^{n} \\log \\left(1-D_ {\\theta_d}(G_{\\theta_g}(z_i))\\right)$ \n",
    "\n",
    "를 최소화하는 $\\theta_d$, $\\theta_g$를 반복적으로 찾아가면서 업데이트하면 쉽게 문제를 해결할 수 있다. \n"
   ]
  },
  {
   "cell_type": "code",
   "execution_count": null,
   "id": "amazing-watch",
   "metadata": {},
   "outputs": [],
   "source": []
  }
 ],
 "metadata": {
  "kernelspec": {
   "display_name": "Python 3",
   "language": "python",
   "name": "python3"
  },
  "language_info": {
   "codemirror_mode": {
    "name": "ipython",
    "version": 3
   },
   "file_extension": ".py",
   "mimetype": "text/x-python",
   "name": "python",
   "nbconvert_exporter": "python",
   "pygments_lexer": "ipython3",
   "version": "3.8.5"
  }
 },
 "nbformat": 4,
 "nbformat_minor": 5
}
