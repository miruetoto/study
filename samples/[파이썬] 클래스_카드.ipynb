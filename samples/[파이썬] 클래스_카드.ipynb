{
 "cells": [
  {
   "cell_type": "markdown",
   "metadata": {},
   "source": [
    "# 1. (누가 만든것을 활용하여) `Card`라는 클래스생성자를 정의"
   ]
  },
  {
   "cell_type": "code",
   "execution_count": 108,
   "metadata": {},
   "outputs": [
    {
     "data": {
      "text/plain": [
       "__main__.Card"
      ]
     },
     "execution_count": 108,
     "metadata": {},
     "output_type": "execute_result"
    }
   ],
   "source": [
    "import collections\n",
    "Card = collections.namedtuple('Card',['rank','suit'])\n",
    "Card"
   ]
  },
  {
   "cell_type": "markdown",
   "metadata": {},
   "source": [
    "# 2. `Card`라는 클래스생성자의 **밈**을 알고 싶다면 `dir`을 활용하라. "
   ]
  },
  {
   "cell_type": "code",
   "execution_count": 112,
   "metadata": {},
   "outputs": [
    {
     "data": {
      "text/plain": [
       "['__add__',\n",
       " '__class__',\n",
       " '__contains__',\n",
       " '__delattr__',\n",
       " '__dir__',\n",
       " '__doc__',\n",
       " '__eq__',\n",
       " '__format__',\n",
       " '__ge__',\n",
       " '__getattribute__',\n",
       " '__getitem__',\n",
       " '__getnewargs__',\n",
       " '__gt__',\n",
       " '__hash__',\n",
       " '__init__',\n",
       " '__init_subclass__',\n",
       " '__iter__',\n",
       " '__le__',\n",
       " '__len__',\n",
       " '__lt__',\n",
       " '__module__',\n",
       " '__mul__',\n",
       " '__ne__',\n",
       " '__new__',\n",
       " '__reduce__',\n",
       " '__reduce_ex__',\n",
       " '__repr__',\n",
       " '__rmul__',\n",
       " '__setattr__',\n",
       " '__sizeof__',\n",
       " '__slots__',\n",
       " '__str__',\n",
       " '__subclasshook__',\n",
       " '_asdict',\n",
       " '_field_defaults',\n",
       " '_fields',\n",
       " '_fields_defaults',\n",
       " '_make',\n",
       " '_replace',\n",
       " 'count',\n",
       " 'index',\n",
       " 'rank',\n",
       " 'suit']"
      ]
     },
     "execution_count": 112,
     "metadata": {},
     "output_type": "execute_result"
    }
   ],
   "source": [
    "dir(Card)"
   ]
  },
  {
   "cell_type": "markdown",
   "metadata": {},
   "source": [
    "# 3. `Card`라는 클래스생성자를 활용하여 클래스를 생성하고 그것을 `bear_card`에 저장하라. "
   ]
  },
  {
   "cell_type": "markdown",
   "metadata": {},
   "source": [
    "(참고) `bear_card`를 이용하여 카드한장을 표현해볼 수 있다. "
   ]
  },
  {
   "cell_type": "code",
   "execution_count": 107,
   "metadata": {},
   "outputs": [
    {
     "data": {
      "text/plain": [
       "Card(rank='9', suit='diamonds')"
      ]
     },
     "execution_count": 107,
     "metadata": {},
     "output_type": "execute_result"
    }
   ],
   "source": [
    "bear_card=Card('9','diamonds')\n",
    "bear_card"
   ]
  },
  {
   "cell_type": "markdown",
   "metadata": {},
   "source": [
    "# 4. 나도 클래스생성자를 만들어보자. `FrenchDeck` 이라는 클래스생성자를 만들것이다. "
   ]
  },
  {
   "cell_type": "markdown",
   "metadata": {},
   "source": [
    "## (1) `FrenchDeck`이라는 클래스생성자를 정의하기전 사전코드이해 "
   ]
  },
  {
   "cell_type": "code",
   "execution_count": 117,
   "metadata": {},
   "outputs": [
    {
     "data": {
      "text/plain": [
       "['2', '3', '4', '5', '6', '7', '8', '9', '10']"
      ]
     },
     "execution_count": 117,
     "metadata": {},
     "output_type": "execute_result"
    }
   ],
   "source": [
    "ranks=[str(n) for n in range(2,11)]\n",
    "ranks"
   ]
  },
  {
   "cell_type": "code",
   "execution_count": 118,
   "metadata": {},
   "outputs": [
    {
     "data": {
      "text/plain": [
       "['spades', 'diamond', 'clubs', 'heaters']"
      ]
     },
     "execution_count": 118,
     "metadata": {},
     "output_type": "execute_result"
    }
   ],
   "source": [
    "suits='spades diamond clubs heaters'.split()\n",
    "suits"
   ]
  },
  {
   "cell_type": "code",
   "execution_count": 119,
   "metadata": {},
   "outputs": [
    {
     "data": {
      "text/plain": [
       "[Card(rank='2', suit='spades'),\n",
       " Card(rank='3', suit='spades'),\n",
       " Card(rank='4', suit='spades'),\n",
       " Card(rank='5', suit='spades'),\n",
       " Card(rank='6', suit='spades'),\n",
       " Card(rank='7', suit='spades'),\n",
       " Card(rank='8', suit='spades'),\n",
       " Card(rank='9', suit='spades'),\n",
       " Card(rank='10', suit='spades'),\n",
       " Card(rank='2', suit='diamond'),\n",
       " Card(rank='3', suit='diamond'),\n",
       " Card(rank='4', suit='diamond'),\n",
       " Card(rank='5', suit='diamond'),\n",
       " Card(rank='6', suit='diamond'),\n",
       " Card(rank='7', suit='diamond'),\n",
       " Card(rank='8', suit='diamond'),\n",
       " Card(rank='9', suit='diamond'),\n",
       " Card(rank='10', suit='diamond'),\n",
       " Card(rank='2', suit='clubs'),\n",
       " Card(rank='3', suit='clubs'),\n",
       " Card(rank='4', suit='clubs'),\n",
       " Card(rank='5', suit='clubs'),\n",
       " Card(rank='6', suit='clubs'),\n",
       " Card(rank='7', suit='clubs'),\n",
       " Card(rank='8', suit='clubs'),\n",
       " Card(rank='9', suit='clubs'),\n",
       " Card(rank='10', suit='clubs'),\n",
       " Card(rank='2', suit='heaters'),\n",
       " Card(rank='3', suit='heaters'),\n",
       " Card(rank='4', suit='heaters'),\n",
       " Card(rank='5', suit='heaters'),\n",
       " Card(rank='6', suit='heaters'),\n",
       " Card(rank='7', suit='heaters'),\n",
       " Card(rank='8', suit='heaters'),\n",
       " Card(rank='9', suit='heaters'),\n",
       " Card(rank='10', suit='heaters')]"
      ]
     },
     "execution_count": 119,
     "metadata": {},
     "output_type": "execute_result"
    }
   ],
   "source": [
    "[Card(rank,suit) for suit in suits for rank in ranks]"
   ]
  },
  {
   "cell_type": "markdown",
   "metadata": {},
   "source": [
    "## (2) `FrenchDeck` 클래스생성자 정의"
   ]
  },
  {
   "cell_type": "code",
   "execution_count": 125,
   "metadata": {},
   "outputs": [],
   "source": [
    "class FrenchDeck:\n",
    "    ranks = [str(n) for n in range(2,11)]\n",
    "    suits = 'spades diamond clubs heaters'.split()\n",
    "    \n",
    "    def __init__(self):\n",
    "        self._cards = [Card(rank,suit) for suit in suits for rank in ranks]\n",
    "    def __len__(self):\n",
    "        return len(self._cards)\n",
    "    def __getitem__(self,position):\n",
    "        return self._cards[position]"
   ]
  },
  {
   "cell_type": "markdown",
   "metadata": {},
   "source": [
    "# 5. `FrenchDeck`라는 클래스생성자를 활용하여 인스턴스를 생성하고 그것을 `deck`에 저장하라. "
   ]
  },
  {
   "cell_type": "code",
   "execution_count": 124,
   "metadata": {},
   "outputs": [],
   "source": [
    "deck = FrenchDeck()"
   ]
  },
  {
   "cell_type": "markdown",
   "metadata": {},
   "source": [
    "# 6. `__len__`을 정의한 덕분에 `deck`인스턴스에 아래와 같은 기능을 활용할 수 있다. "
   ]
  },
  {
   "cell_type": "code",
   "execution_count": 127,
   "metadata": {},
   "outputs": [
    {
     "data": {
      "text/plain": [
       "36"
      ]
     },
     "execution_count": 127,
     "metadata": {},
     "output_type": "execute_result"
    }
   ],
   "source": [
    "len(deck)"
   ]
  },
  {
   "cell_type": "markdown",
   "metadata": {},
   "source": [
    "# 7. `__getitem__`을 정의한 덕분에 `deck`인스턴스에 아래와 같은 기능을 활용할 수 있다. "
   ]
  },
  {
   "cell_type": "code",
   "execution_count": 129,
   "metadata": {},
   "outputs": [
    {
     "data": {
      "text/plain": [
       "Card(rank='2', suit='spades')"
      ]
     },
     "execution_count": 129,
     "metadata": {},
     "output_type": "execute_result"
    }
   ],
   "source": [
    "deck[0]"
   ]
  },
  {
   "cell_type": "code",
   "execution_count": 130,
   "metadata": {},
   "outputs": [
    {
     "data": {
      "text/plain": [
       "Card(rank='10', suit='heaters')"
      ]
     },
     "execution_count": 130,
     "metadata": {},
     "output_type": "execute_result"
    }
   ],
   "source": [
    "deck[-1]"
   ]
  },
  {
   "cell_type": "code",
   "execution_count": 131,
   "metadata": {},
   "outputs": [
    {
     "data": {
      "text/plain": [
       "[Card(rank='2', suit='spades'),\n",
       " Card(rank='3', suit='spades'),\n",
       " Card(rank='4', suit='spades')]"
      ]
     },
     "execution_count": 131,
     "metadata": {},
     "output_type": "execute_result"
    }
   ],
   "source": [
    "deck[:3]"
   ]
  },
  {
   "cell_type": "code",
   "execution_count": 132,
   "metadata": {},
   "outputs": [
    {
     "data": {
      "text/plain": [
       "[Card(rank='5', suit='diamond'), Card(rank='9', suit='clubs')]"
      ]
     },
     "execution_count": 132,
     "metadata": {},
     "output_type": "execute_result"
    }
   ],
   "source": [
    "deck[12::13]"
   ]
  },
  {
   "cell_type": "code",
   "execution_count": 133,
   "metadata": {},
   "outputs": [
    {
     "data": {
      "text/plain": [
       "Card(rank='4', suit='diamond')"
      ]
     },
     "execution_count": 133,
     "metadata": {},
     "output_type": "execute_result"
    }
   ],
   "source": [
    "from random import choice \n",
    "choice(deck)"
   ]
  },
  {
   "cell_type": "code",
   "execution_count": 134,
   "metadata": {},
   "outputs": [
    {
     "name": "stdout",
     "output_type": "stream",
     "text": [
      "Card(rank='2', suit='spades')\n",
      "Card(rank='3', suit='spades')\n",
      "Card(rank='4', suit='spades')\n",
      "Card(rank='5', suit='spades')\n",
      "Card(rank='6', suit='spades')\n",
      "Card(rank='7', suit='spades')\n",
      "Card(rank='8', suit='spades')\n",
      "Card(rank='9', suit='spades')\n",
      "Card(rank='10', suit='spades')\n",
      "Card(rank='2', suit='diamond')\n",
      "Card(rank='3', suit='diamond')\n",
      "Card(rank='4', suit='diamond')\n",
      "Card(rank='5', suit='diamond')\n",
      "Card(rank='6', suit='diamond')\n",
      "Card(rank='7', suit='diamond')\n",
      "Card(rank='8', suit='diamond')\n",
      "Card(rank='9', suit='diamond')\n",
      "Card(rank='10', suit='diamond')\n",
      "Card(rank='2', suit='clubs')\n",
      "Card(rank='3', suit='clubs')\n",
      "Card(rank='4', suit='clubs')\n",
      "Card(rank='5', suit='clubs')\n",
      "Card(rank='6', suit='clubs')\n",
      "Card(rank='7', suit='clubs')\n",
      "Card(rank='8', suit='clubs')\n",
      "Card(rank='9', suit='clubs')\n",
      "Card(rank='10', suit='clubs')\n",
      "Card(rank='2', suit='heaters')\n",
      "Card(rank='3', suit='heaters')\n",
      "Card(rank='4', suit='heaters')\n",
      "Card(rank='5', suit='heaters')\n",
      "Card(rank='6', suit='heaters')\n",
      "Card(rank='7', suit='heaters')\n",
      "Card(rank='8', suit='heaters')\n",
      "Card(rank='9', suit='heaters')\n",
      "Card(rank='10', suit='heaters')\n"
     ]
    }
   ],
   "source": [
    "for i in deck: \n",
    "    print(i)"
   ]
  },
  {
   "cell_type": "code",
   "execution_count": 135,
   "metadata": {},
   "outputs": [
    {
     "name": "stdout",
     "output_type": "stream",
     "text": [
      "Card(rank='10', suit='heaters')\n",
      "Card(rank='9', suit='heaters')\n",
      "Card(rank='8', suit='heaters')\n",
      "Card(rank='7', suit='heaters')\n",
      "Card(rank='6', suit='heaters')\n",
      "Card(rank='5', suit='heaters')\n",
      "Card(rank='4', suit='heaters')\n",
      "Card(rank='3', suit='heaters')\n",
      "Card(rank='2', suit='heaters')\n",
      "Card(rank='10', suit='clubs')\n",
      "Card(rank='9', suit='clubs')\n",
      "Card(rank='8', suit='clubs')\n",
      "Card(rank='7', suit='clubs')\n",
      "Card(rank='6', suit='clubs')\n",
      "Card(rank='5', suit='clubs')\n",
      "Card(rank='4', suit='clubs')\n",
      "Card(rank='3', suit='clubs')\n",
      "Card(rank='2', suit='clubs')\n",
      "Card(rank='10', suit='diamond')\n",
      "Card(rank='9', suit='diamond')\n",
      "Card(rank='8', suit='diamond')\n",
      "Card(rank='7', suit='diamond')\n",
      "Card(rank='6', suit='diamond')\n",
      "Card(rank='5', suit='diamond')\n",
      "Card(rank='4', suit='diamond')\n",
      "Card(rank='3', suit='diamond')\n",
      "Card(rank='2', suit='diamond')\n",
      "Card(rank='10', suit='spades')\n",
      "Card(rank='9', suit='spades')\n",
      "Card(rank='8', suit='spades')\n",
      "Card(rank='7', suit='spades')\n",
      "Card(rank='6', suit='spades')\n",
      "Card(rank='5', suit='spades')\n",
      "Card(rank='4', suit='spades')\n",
      "Card(rank='3', suit='spades')\n",
      "Card(rank='2', suit='spades')\n"
     ]
    }
   ],
   "source": [
    "for i in reversed(deck): \n",
    "    print(i)"
   ]
  },
  {
   "cell_type": "markdown",
   "metadata": {},
   "source": [
    "# 8. `FrenchDeck` 클래스생성자를 조금 변형해서 새로운 클래스생성자를 정의하고 싶다. "
   ]
  },
  {
   "cell_type": "markdown",
   "metadata": {},
   "source": [
    "- 새로운 클래스 생성자의 이름은 `FrenchDeck_new`라고 하자. \n",
    "- 새로운 기능으로 `say`를 넣자. "
   ]
  },
  {
   "cell_type": "code",
   "execution_count": 149,
   "metadata": {},
   "outputs": [],
   "source": [
    "class FrenchDeck_new(FrenchDeck):\n",
    "    def say(self):\n",
    "        print (\"나에게는 {}개의 rank와 {}개의 suits로 조합된 {}개의 카드가 있어!\".format(len(self.ranks),len(self.suits),len(self._cards))) "
   ]
  },
  {
   "cell_type": "code",
   "execution_count": 150,
   "metadata": {},
   "outputs": [],
   "source": [
    "deck_new = FrenchDeck_new()"
   ]
  },
  {
   "cell_type": "code",
   "execution_count": 151,
   "metadata": {},
   "outputs": [
    {
     "data": {
      "text/plain": [
       "['__class__',\n",
       " '__delattr__',\n",
       " '__dict__',\n",
       " '__dir__',\n",
       " '__doc__',\n",
       " '__eq__',\n",
       " '__format__',\n",
       " '__ge__',\n",
       " '__getattribute__',\n",
       " '__getitem__',\n",
       " '__gt__',\n",
       " '__hash__',\n",
       " '__init__',\n",
       " '__init_subclass__',\n",
       " '__le__',\n",
       " '__len__',\n",
       " '__lt__',\n",
       " '__module__',\n",
       " '__ne__',\n",
       " '__new__',\n",
       " '__reduce__',\n",
       " '__reduce_ex__',\n",
       " '__repr__',\n",
       " '__setattr__',\n",
       " '__sizeof__',\n",
       " '__str__',\n",
       " '__subclasshook__',\n",
       " '__weakref__',\n",
       " '_cards',\n",
       " 'ranks',\n",
       " 'say',\n",
       " 'suits']"
      ]
     },
     "execution_count": 151,
     "metadata": {},
     "output_type": "execute_result"
    }
   ],
   "source": [
    "dir(deck_new)"
   ]
  },
  {
   "cell_type": "code",
   "execution_count": 147,
   "metadata": {},
   "outputs": [
    {
     "name": "stdout",
     "output_type": "stream",
     "text": [
      "나에게는 9개의 rank와 4개의 suits로 조합된 36개의 카드가 있어!\n"
     ]
    }
   ],
   "source": [
    "deck_new.say()"
   ]
  },
  {
   "cell_type": "markdown",
   "metadata": {},
   "source": [
    "### ***(참고) 아래와 같이 해도된다?***"
   ]
  },
  {
   "cell_type": "code",
   "execution_count": 153,
   "metadata": {},
   "outputs": [
    {
     "name": "stdout",
     "output_type": "stream",
     "text": [
      "나에게는 9개의 rank와 4개의 suits로 조합된 36개의 카드가 있어!\n"
     ]
    }
   ],
   "source": [
    "FrenchDeck_new().say()"
   ]
  }
 ],
 "metadata": {
  "kernelspec": {
   "display_name": "Python 3",
   "language": "python",
   "name": "python3"
  },
  "language_info": {
   "codemirror_mode": {
    "name": "ipython",
    "version": 3
   },
   "file_extension": ".py",
   "mimetype": "text/x-python",
   "name": "python",
   "nbconvert_exporter": "python",
   "pygments_lexer": "ipython3",
   "version": "3.7.6"
  }
 },
 "nbformat": 4,
 "nbformat_minor": 4
}
