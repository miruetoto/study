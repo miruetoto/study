{
 "cells": [
  {
   "cell_type": "markdown",
   "metadata": {},
   "source": [
    "# 1. `kormaps2014`설치"
   ]
  },
  {
   "cell_type": "markdown",
   "metadata": {},
   "source": [
    "1. 커맨드에가서 `sudo ln -s /bin/tar /bin/gtar`를 친다. 이걸 쳐야지 Rstudio에서 `devtools::install_github()`함수가 잘 실행된다. \n",
    "2. Rstudio에 가서 `devtools::install_github(\"cardiomoon/kormaps2014\")`를 친다. \n",
    "\n",
    "***2의단계에 앞서 `install.packages(\"stringi\")`를 실행해야 `devtools::install_github(\"cardiomoon/kormaps2014\")`가 실행된다고 주장하는 사람도 있음. 나는 그냥 해도되는거같음. 오히려 나는 `install.packages(\"mapproj\")`를 실행해야 했음.*** "
   ]
  },
  {
   "cell_type": "code",
   "execution_count": 1,
   "metadata": {},
   "outputs": [],
   "source": [
    "library(kormaps2014)"
   ]
  },
  {
   "cell_type": "markdown",
   "metadata": {},
   "source": [
    "# 2. 패키지 내부탐색: `areacode`, `kormap1` 데이터프레임 살펴보기 "
   ]
  },
  {
   "cell_type": "markdown",
   "metadata": {},
   "source": [
    "패키지를 설치하면 몇가지 데이터들이 알아서 로드된다. 우리가 사용하는 것은 `areacode`, `kormap1` 이다. "
   ]
  },
  {
   "cell_type": "code",
   "execution_count": 2,
   "metadata": {},
   "outputs": [
    {
     "data": {
      "text/html": [
       "<table>\n",
       "<caption>A data.frame: 17 × 3</caption>\n",
       "<thead>\n",
       "\t<tr><th scope=col>code</th><th scope=col>name</th><th scope=col>name1</th></tr>\n",
       "\t<tr><th scope=col>&lt;int&gt;</th><th scope=col>&lt;fct&gt;</th><th scope=col>&lt;fct&gt;</th></tr>\n",
       "</thead>\n",
       "<tbody>\n",
       "\t<tr><td>11</td><td>서울특별시    </td><td>서울</td></tr>\n",
       "\t<tr><td>21</td><td>부산광역시    </td><td>부산</td></tr>\n",
       "\t<tr><td>22</td><td>대구광역시    </td><td>대구</td></tr>\n",
       "\t<tr><td>23</td><td>인천광역시    </td><td>인천</td></tr>\n",
       "\t<tr><td>24</td><td>광주광역시    </td><td>광주</td></tr>\n",
       "\t<tr><td>25</td><td>대전광역시    </td><td>대전</td></tr>\n",
       "\t<tr><td>26</td><td>울산광역시    </td><td>울산</td></tr>\n",
       "\t<tr><td>29</td><td>세종특별자치시</td><td>세종</td></tr>\n",
       "\t<tr><td>31</td><td>경기도        </td><td>경기</td></tr>\n",
       "\t<tr><td>32</td><td>강원도        </td><td>강원</td></tr>\n",
       "\t<tr><td>33</td><td>충청북도      </td><td>충북</td></tr>\n",
       "\t<tr><td>34</td><td>충청남도      </td><td>충남</td></tr>\n",
       "\t<tr><td>35</td><td>전라북도      </td><td>전북</td></tr>\n",
       "\t<tr><td>36</td><td>전라남도      </td><td>전남</td></tr>\n",
       "\t<tr><td>37</td><td>경상북도      </td><td>경북</td></tr>\n",
       "\t<tr><td>38</td><td>경상남도      </td><td>경남</td></tr>\n",
       "\t<tr><td>39</td><td>제주특별자치도</td><td>제주</td></tr>\n",
       "</tbody>\n",
       "</table>\n"
      ],
      "text/latex": [
       "A data.frame: 17 × 3\n",
       "\\begin{tabular}{lll}\n",
       " code & name & name1\\\\\n",
       " <int> & <fct> & <fct>\\\\\n",
       "\\hline\n",
       "\t 11 & 서울특별시     & 서울\\\\\n",
       "\t 21 & 부산광역시     & 부산\\\\\n",
       "\t 22 & 대구광역시     & 대구\\\\\n",
       "\t 23 & 인천광역시     & 인천\\\\\n",
       "\t 24 & 광주광역시     & 광주\\\\\n",
       "\t 25 & 대전광역시     & 대전\\\\\n",
       "\t 26 & 울산광역시     & 울산\\\\\n",
       "\t 29 & 세종특별자치시 & 세종\\\\\n",
       "\t 31 & 경기도         & 경기\\\\\n",
       "\t 32 & 강원도         & 강원\\\\\n",
       "\t 33 & 충청북도       & 충북\\\\\n",
       "\t 34 & 충청남도       & 충남\\\\\n",
       "\t 35 & 전라북도       & 전북\\\\\n",
       "\t 36 & 전라남도       & 전남\\\\\n",
       "\t 37 & 경상북도       & 경북\\\\\n",
       "\t 38 & 경상남도       & 경남\\\\\n",
       "\t 39 & 제주특별자치도 & 제주\\\\\n",
       "\\end{tabular}\n"
      ],
      "text/markdown": [
       "\n",
       "A data.frame: 17 × 3\n",
       "\n",
       "| code &lt;int&gt; | name &lt;fct&gt; | name1 &lt;fct&gt; |\n",
       "|---|---|---|\n",
       "| 11 | 서울특별시     | 서울 |\n",
       "| 21 | 부산광역시     | 부산 |\n",
       "| 22 | 대구광역시     | 대구 |\n",
       "| 23 | 인천광역시     | 인천 |\n",
       "| 24 | 광주광역시     | 광주 |\n",
       "| 25 | 대전광역시     | 대전 |\n",
       "| 26 | 울산광역시     | 울산 |\n",
       "| 29 | 세종특별자치시 | 세종 |\n",
       "| 31 | 경기도         | 경기 |\n",
       "| 32 | 강원도         | 강원 |\n",
       "| 33 | 충청북도       | 충북 |\n",
       "| 34 | 충청남도       | 충남 |\n",
       "| 35 | 전라북도       | 전북 |\n",
       "| 36 | 전라남도       | 전남 |\n",
       "| 37 | 경상북도       | 경북 |\n",
       "| 38 | 경상남도       | 경남 |\n",
       "| 39 | 제주특별자치도 | 제주 |\n",
       "\n"
      ],
      "text/plain": [
       "   code name           name1\n",
       "1  11   서울특별시     서울 \n",
       "2  21   부산광역시     부산 \n",
       "3  22   대구광역시     대구 \n",
       "4  23   인천광역시     인천 \n",
       "5  24   광주광역시     광주 \n",
       "6  25   대전광역시     대전 \n",
       "7  26   울산광역시     울산 \n",
       "8  29   세종특별자치시 세종 \n",
       "9  31   경기도         경기 \n",
       "10 32   강원도         강원 \n",
       "11 33   충청북도       충북 \n",
       "12 34   충청남도       충남 \n",
       "13 35   전라북도       전북 \n",
       "14 36   전라남도       전남 \n",
       "15 37   경상북도       경북 \n",
       "16 38   경상남도       경남 \n",
       "17 39   제주특별자치도 제주 "
      ]
     },
     "metadata": {},
     "output_type": "display_data"
    }
   ],
   "source": [
    "areacode"
   ]
  },
  {
   "cell_type": "code",
   "execution_count": 3,
   "metadata": {},
   "outputs": [
    {
     "name": "stdout",
     "output_type": "stream",
     "text": [
      "'data.frame':\t8831 obs. of  15 variables:\n",
      " $ id       : chr  \"0\" \"0\" \"0\" \"0\" ...\n",
      " $ long     : num  138 138 138 138 138 ...\n",
      " $ lat      : num  50.7 50.7 50.7 50.7 50.7 ...\n",
      " $ order    : int  1 2 3 4 5 6 7 8 9 10 ...\n",
      " $ hole     : logi  FALSE FALSE FALSE FALSE FALSE FALSE ...\n",
      " $ piece    : Factor w/ 113 levels \"1\",\"2\",\"3\",\"4\",..: 1 1 1 1 1 1 1 1 1 1 ...\n",
      " $ group    : Factor w/ 205 levels \"0.1\",\"1.1\",\"1.2\",..: 1 1 1 1 1 1 1 1 1 1 ...\n",
      " $ SP_ID    : Factor w/ 17 levels \"0\",\"1\",\"10\",\"11\",..: 1 1 1 1 1 1 1 1 1 1 ...\n",
      " $ SIDO_CD  : Factor w/ 17 levels \"11\",\"21\",\"22\",..: 1 1 1 1 1 1 1 1 1 1 ...\n",
      " $ SIDO_NM  : Factor w/ 17 levels \"\\xb0\\xad\\xbf\\xf8\\xb5\\xb5\",..: 9 9 9 9 9 9 9 9 9 9 ...\n",
      " $ BASE_YEAR: Factor w/ 1 level \"2014\": 1 1 1 1 1 1 1 1 1 1 ...\n",
      " $ name     : Factor w/ 17 levels \"강원도\",\"경기도\",..: 9 9 9 9 9 9 9 9 9 9 ...\n",
      " $ name1    : Factor w/ 17 levels \"\\xb0\\xad\\xbf\\xf8\\xb5\\xb5\",..: 9 9 9 9 9 9 9 9 9 9 ...\n",
      " $ region   : Factor w/ 17 levels \"11\",\"21\",\"22\",..: 1 1 1 1 1 1 1 1 1 1 ...\n",
      " $ code     : Factor w/ 17 levels \"11\",\"21\",\"22\",..: 1 1 1 1 1 1 1 1 1 1 ...\n"
     ]
    }
   ],
   "source": [
    "str(kormap1)"
   ]
  },
  {
   "cell_type": "markdown",
   "metadata": {},
   "source": [
    "***`kormap1`을 살펴봐도 먼소린지 모르겠지만 하여튼 이게 있어야 지도가 그려진다.***"
   ]
  },
  {
   "cell_type": "markdown",
   "metadata": {},
   "source": [
    "# 3. `areacode` -> `newdf` "
   ]
  },
  {
   "cell_type": "code",
   "execution_count": 4,
   "metadata": {},
   "outputs": [
    {
     "data": {
      "text/html": [
       "<table>\n",
       "<caption>A data.frame: 6 × 3</caption>\n",
       "<thead>\n",
       "\t<tr><th></th><th scope=col>code</th><th scope=col>name</th><th scope=col>name1</th></tr>\n",
       "\t<tr><th></th><th scope=col>&lt;int&gt;</th><th scope=col>&lt;fct&gt;</th><th scope=col>&lt;fct&gt;</th></tr>\n",
       "</thead>\n",
       "<tbody>\n",
       "\t<tr><th scope=row>1</th><td>11</td><td>서울특별시</td><td>서울</td></tr>\n",
       "\t<tr><th scope=row>2</th><td>21</td><td>부산광역시</td><td>부산</td></tr>\n",
       "\t<tr><th scope=row>3</th><td>22</td><td>대구광역시</td><td>대구</td></tr>\n",
       "\t<tr><th scope=row>4</th><td>23</td><td>인천광역시</td><td>인천</td></tr>\n",
       "\t<tr><th scope=row>5</th><td>24</td><td>광주광역시</td><td>광주</td></tr>\n",
       "\t<tr><th scope=row>6</th><td>25</td><td>대전광역시</td><td>대전</td></tr>\n",
       "</tbody>\n",
       "</table>\n"
      ],
      "text/latex": [
       "A data.frame: 6 × 3\n",
       "\\begin{tabular}{r|lll}\n",
       "  & code & name & name1\\\\\n",
       "  & <int> & <fct> & <fct>\\\\\n",
       "\\hline\n",
       "\t1 & 11 & 서울특별시 & 서울\\\\\n",
       "\t2 & 21 & 부산광역시 & 부산\\\\\n",
       "\t3 & 22 & 대구광역시 & 대구\\\\\n",
       "\t4 & 23 & 인천광역시 & 인천\\\\\n",
       "\t5 & 24 & 광주광역시 & 광주\\\\\n",
       "\t6 & 25 & 대전광역시 & 대전\\\\\n",
       "\\end{tabular}\n"
      ],
      "text/markdown": [
       "\n",
       "A data.frame: 6 × 3\n",
       "\n",
       "| <!--/--> | code &lt;int&gt; | name &lt;fct&gt; | name1 &lt;fct&gt; |\n",
       "|---|---|---|---|\n",
       "| 1 | 11 | 서울특별시 | 서울 |\n",
       "| 2 | 21 | 부산광역시 | 부산 |\n",
       "| 3 | 22 | 대구광역시 | 대구 |\n",
       "| 4 | 23 | 인천광역시 | 인천 |\n",
       "| 5 | 24 | 광주광역시 | 광주 |\n",
       "| 6 | 25 | 대전광역시 | 대전 |\n",
       "\n"
      ],
      "text/plain": [
       "  code name       name1\n",
       "1 11   서울특별시 서울 \n",
       "2 21   부산광역시 부산 \n",
       "3 22   대구광역시 대구 \n",
       "4 23   인천광역시 인천 \n",
       "5 24   광주광역시 광주 \n",
       "6 25   대전광역시 대전 "
      ]
     },
     "metadata": {},
     "output_type": "display_data"
    }
   ],
   "source": [
    "head(areacode)"
   ]
  },
  {
   "cell_type": "markdown",
   "metadata": {},
   "source": [
    "`areacode`데이터 프레임에서 `code`, `name`열을 추출하고 내가 시각화하고 싶은 데이터 `pop`열을 합쳐 새로운 데이터 프레임 `newdf`를 만든다. \n",
    "\n",
    "`pop`데이터는 그냥 대충 `runif()`를 통해서 추출한 값으로 채워넣음. "
   ]
  },
  {
   "cell_type": "code",
   "execution_count": 5,
   "metadata": {},
   "outputs": [
    {
     "data": {
      "text/html": [
       "<table>\n",
       "<caption>A data.frame: 17 × 3</caption>\n",
       "<thead>\n",
       "\t<tr><th scope=col>code</th><th scope=col>name</th><th scope=col>pop</th></tr>\n",
       "\t<tr><th scope=col>&lt;int&gt;</th><th scope=col>&lt;fct&gt;</th><th scope=col>&lt;dbl&gt;</th></tr>\n",
       "</thead>\n",
       "<tbody>\n",
       "\t<tr><td>11</td><td>서울특별시    </td><td>0.56228786</td></tr>\n",
       "\t<tr><td>21</td><td>부산광역시    </td><td>0.17466976</td></tr>\n",
       "\t<tr><td>22</td><td>대구광역시    </td><td>0.54708891</td></tr>\n",
       "\t<tr><td>23</td><td>인천광역시    </td><td>0.72824175</td></tr>\n",
       "\t<tr><td>24</td><td>광주광역시    </td><td>0.06400674</td></tr>\n",
       "\t<tr><td>25</td><td>대전광역시    </td><td>0.53070275</td></tr>\n",
       "\t<tr><td>26</td><td>울산광역시    </td><td>0.95287530</td></tr>\n",
       "\t<tr><td>29</td><td>세종특별자치시</td><td>0.10591852</td></tr>\n",
       "\t<tr><td>31</td><td>경기도        </td><td>0.24607106</td></tr>\n",
       "\t<tr><td>32</td><td>강원도        </td><td>0.28545470</td></tr>\n",
       "\t<tr><td>33</td><td>충청북도      </td><td>0.23978184</td></tr>\n",
       "\t<tr><td>34</td><td>충청남도      </td><td>0.12038173</td></tr>\n",
       "\t<tr><td>35</td><td>전라북도      </td><td>0.99722248</td></tr>\n",
       "\t<tr><td>36</td><td>전라남도      </td><td>0.05262155</td></tr>\n",
       "\t<tr><td>37</td><td>경상북도      </td><td>0.17783468</td></tr>\n",
       "\t<tr><td>38</td><td>경상남도      </td><td>0.49949788</td></tr>\n",
       "\t<tr><td>39</td><td>제주특별자치도</td><td>0.42797581</td></tr>\n",
       "</tbody>\n",
       "</table>\n"
      ],
      "text/latex": [
       "A data.frame: 17 × 3\n",
       "\\begin{tabular}{lll}\n",
       " code & name & pop\\\\\n",
       " <int> & <fct> & <dbl>\\\\\n",
       "\\hline\n",
       "\t 11 & 서울특별시     & 0.56228786\\\\\n",
       "\t 21 & 부산광역시     & 0.17466976\\\\\n",
       "\t 22 & 대구광역시     & 0.54708891\\\\\n",
       "\t 23 & 인천광역시     & 0.72824175\\\\\n",
       "\t 24 & 광주광역시     & 0.06400674\\\\\n",
       "\t 25 & 대전광역시     & 0.53070275\\\\\n",
       "\t 26 & 울산광역시     & 0.95287530\\\\\n",
       "\t 29 & 세종특별자치시 & 0.10591852\\\\\n",
       "\t 31 & 경기도         & 0.24607106\\\\\n",
       "\t 32 & 강원도         & 0.28545470\\\\\n",
       "\t 33 & 충청북도       & 0.23978184\\\\\n",
       "\t 34 & 충청남도       & 0.12038173\\\\\n",
       "\t 35 & 전라북도       & 0.99722248\\\\\n",
       "\t 36 & 전라남도       & 0.05262155\\\\\n",
       "\t 37 & 경상북도       & 0.17783468\\\\\n",
       "\t 38 & 경상남도       & 0.49949788\\\\\n",
       "\t 39 & 제주특별자치도 & 0.42797581\\\\\n",
       "\\end{tabular}\n"
      ],
      "text/markdown": [
       "\n",
       "A data.frame: 17 × 3\n",
       "\n",
       "| code &lt;int&gt; | name &lt;fct&gt; | pop &lt;dbl&gt; |\n",
       "|---|---|---|\n",
       "| 11 | 서울특별시     | 0.56228786 |\n",
       "| 21 | 부산광역시     | 0.17466976 |\n",
       "| 22 | 대구광역시     | 0.54708891 |\n",
       "| 23 | 인천광역시     | 0.72824175 |\n",
       "| 24 | 광주광역시     | 0.06400674 |\n",
       "| 25 | 대전광역시     | 0.53070275 |\n",
       "| 26 | 울산광역시     | 0.95287530 |\n",
       "| 29 | 세종특별자치시 | 0.10591852 |\n",
       "| 31 | 경기도         | 0.24607106 |\n",
       "| 32 | 강원도         | 0.28545470 |\n",
       "| 33 | 충청북도       | 0.23978184 |\n",
       "| 34 | 충청남도       | 0.12038173 |\n",
       "| 35 | 전라북도       | 0.99722248 |\n",
       "| 36 | 전라남도       | 0.05262155 |\n",
       "| 37 | 경상북도       | 0.17783468 |\n",
       "| 38 | 경상남도       | 0.49949788 |\n",
       "| 39 | 제주특별자치도 | 0.42797581 |\n",
       "\n"
      ],
      "text/plain": [
       "   code name           pop       \n",
       "1  11   서울특별시     0.56228786\n",
       "2  21   부산광역시     0.17466976\n",
       "3  22   대구광역시     0.54708891\n",
       "4  23   인천광역시     0.72824175\n",
       "5  24   광주광역시     0.06400674\n",
       "6  25   대전광역시     0.53070275\n",
       "7  26   울산광역시     0.95287530\n",
       "8  29   세종특별자치시 0.10591852\n",
       "9  31   경기도         0.24607106\n",
       "10 32   강원도         0.28545470\n",
       "11 33   충청북도       0.23978184\n",
       "12 34   충청남도       0.12038173\n",
       "13 35   전라북도       0.99722248\n",
       "14 36   전라남도       0.05262155\n",
       "15 37   경상북도       0.17783468\n",
       "16 38   경상남도       0.49949788\n",
       "17 39   제주특별자치도 0.42797581"
      ]
     },
     "metadata": {},
     "output_type": "display_data"
    }
   ],
   "source": [
    "pop<-runif(17) # 17은 광역단체수 \n",
    "newdf<-cbind(areacode[1:2],pop)\n",
    "newdf"
   ]
  },
  {
   "cell_type": "markdown",
   "metadata": {},
   "source": [
    "# 4. 이제 `newdf`와 `kormap1` 두개의 데이터 프레임을 이용하여 그림을 그리자. "
   ]
  },
  {
   "cell_type": "markdown",
   "metadata": {},
   "source": [
    "나는 이단계에서 `install.packages(\"mapproj\")`를 먼저 실행했다. 이걸 깔아야지 에러없이 그려졌음. \n",
    "\n",
    "그리는 단계에서 `newdf`와 `kormap1` 두개의 데이터 프레임을 사용한다. "
   ]
  },
  {
   "cell_type": "code",
   "execution_count": 20,
   "metadata": {},
   "outputs": [],
   "source": [
    "#install.packages(\"mapproj\")\n",
    "library(ggplot2)\n",
    "p <-ggplot(newdf,aes(map_id=code,alpha=pop))+\n",
    "    geom_map(map=kormap1,colour=\"grey80\",size=0.2)+\n",
    "    expand_limits(x=kormap1$long,y=kormap1$lat)+\n",
    "    ggtitle(\"지도그리는 예제\")+\n",
    "    coord_map()+theme_void()+guides(fill=FALSE)+guides(alpha=FALSE)+\n",
    "    theme(plot.title=element_text(face=\"bold.italic\",hjust=0.5,size=rel(1.5)))"
   ]
  },
  {
   "cell_type": "code",
   "execution_count": 21,
   "metadata": {},
   "outputs": [
    {
     "data": {
      "image/png": "[encoded data removed]",
      "text/plain": [
       "plot without title"
      ]
     },
     "metadata": {
      "image/png": {
       "height": 420,
       "width": 420
      },
      "text/plain": {
       "height": 420,
       "width": 420
      }
     },
     "output_type": "display_data"
    }
   ],
   "source": [
    "p"
   ]
  }
 ],
 "metadata": {
  "kernelspec": {
   "display_name": "R",
   "language": "R",
   "name": "ir"
  },
  "language_info": {
   "codemirror_mode": "r",
   "file_extension": ".r",
   "mimetype": "text/x-r-source",
   "name": "R",
   "pygments_lexer": "r",
   "version": "3.6.1"
  }
 },
 "nbformat": 4,
 "nbformat_minor": 4
}
