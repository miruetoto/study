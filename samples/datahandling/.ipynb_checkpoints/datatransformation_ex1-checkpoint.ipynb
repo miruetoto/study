{
 "cells": [
  {
   "cell_type": "code",
   "execution_count": 1,
   "metadata": {},
   "outputs": [
    {
     "name": "stderr",
     "output_type": "stream",
     "text": [
      "R[write to console]: Loading required package: usethis\n",
      "\n"
     ]
    }
   ],
   "source": [
    "import requests\n",
    "exec(requests.get('http://miruetoto.github.io/my_code/datahandling.py').text)"
   ]
  },
  {
   "cell_type": "code",
   "execution_count": 2,
   "metadata": {},
   "outputs": [
    {
     "data": {
      "text/html": [
       "<div>\n",
       "<style scoped>\n",
       "    .dataframe tbody tr th:only-of-type {\n",
       "        vertical-align: middle;\n",
       "    }\n",
       "\n",
       "    .dataframe tbody tr th {\n",
       "        vertical-align: top;\n",
       "    }\n",
       "\n",
       "    .dataframe thead th {\n",
       "        text-align: right;\n",
       "    }\n",
       "</style>\n",
       "<table border=\"1\" class=\"dataframe\">\n",
       "  <thead>\n",
       "    <tr style=\"text-align: right;\">\n",
       "      <th></th>\n",
       "      <th>X1</th>\n",
       "      <th>X2</th>\n",
       "      <th>X3</th>\n",
       "      <th>X4</th>\n",
       "      <th>X5</th>\n",
       "    </tr>\n",
       "  </thead>\n",
       "  <tbody>\n",
       "    <tr>\n",
       "      <th>0</th>\n",
       "      <td>1.952325</td>\n",
       "      <td>0.750560</td>\n",
       "      <td>0.061019</td>\n",
       "      <td>-1.243886</td>\n",
       "      <td>-0.450834</td>\n",
       "    </tr>\n",
       "    <tr>\n",
       "      <th>1</th>\n",
       "      <td>0.764952</td>\n",
       "      <td>2.252746</td>\n",
       "      <td>0.884245</td>\n",
       "      <td>-0.161423</td>\n",
       "      <td>-0.482494</td>\n",
       "    </tr>\n",
       "    <tr>\n",
       "      <th>2</th>\n",
       "      <td>-0.757050</td>\n",
       "      <td>-0.301659</td>\n",
       "      <td>-1.660691</td>\n",
       "      <td>-0.204107</td>\n",
       "      <td>-1.271683</td>\n",
       "    </tr>\n",
       "    <tr>\n",
       "      <th>3</th>\n",
       "      <td>0.267726</td>\n",
       "      <td>-0.447897</td>\n",
       "      <td>0.940252</td>\n",
       "      <td>0.682368</td>\n",
       "      <td>-0.547726</td>\n",
       "    </tr>\n",
       "    <tr>\n",
       "      <th>4</th>\n",
       "      <td>-0.261421</td>\n",
       "      <td>-0.669381</td>\n",
       "      <td>0.151214</td>\n",
       "      <td>1.335119</td>\n",
       "      <td>0.365026</td>\n",
       "    </tr>\n",
       "    <tr>\n",
       "      <th>5</th>\n",
       "      <td>-0.923590</td>\n",
       "      <td>0.594425</td>\n",
       "      <td>0.769066</td>\n",
       "      <td>1.206525</td>\n",
       "      <td>1.076129</td>\n",
       "    </tr>\n",
       "    <tr>\n",
       "      <th>6</th>\n",
       "      <td>-0.583318</td>\n",
       "      <td>-0.263787</td>\n",
       "      <td>0.191812</td>\n",
       "      <td>0.409335</td>\n",
       "      <td>-0.199219</td>\n",
       "    </tr>\n",
       "    <tr>\n",
       "      <th>7</th>\n",
       "      <td>-2.380327</td>\n",
       "      <td>-1.267790</td>\n",
       "      <td>-0.792809</td>\n",
       "      <td>0.939739</td>\n",
       "      <td>0.727437</td>\n",
       "    </tr>\n",
       "    <tr>\n",
       "      <th>8</th>\n",
       "      <td>0.979262</td>\n",
       "      <td>2.429773</td>\n",
       "      <td>-1.241528</td>\n",
       "      <td>1.063134</td>\n",
       "      <td>-0.953531</td>\n",
       "    </tr>\n",
       "    <tr>\n",
       "      <th>9</th>\n",
       "      <td>0.042039</td>\n",
       "      <td>-0.719593</td>\n",
       "      <td>0.673374</td>\n",
       "      <td>-0.040979</td>\n",
       "      <td>-0.166881</td>\n",
       "    </tr>\n",
       "  </tbody>\n",
       "</table>\n",
       "</div>"
      ],
      "text/plain": [
       "         X1        X2        X3        X4        X5\n",
       "0  1.952325  0.750560  0.061019 -1.243886 -0.450834\n",
       "1  0.764952  2.252746  0.884245 -0.161423 -0.482494\n",
       "2 -0.757050 -0.301659 -1.660691 -0.204107 -1.271683\n",
       "3  0.267726 -0.447897  0.940252  0.682368 -0.547726\n",
       "4 -0.261421 -0.669381  0.151214  1.335119  0.365026\n",
       "5 -0.923590  0.594425  0.769066  1.206525  1.076129\n",
       "6 -0.583318 -0.263787  0.191812  0.409335 -0.199219\n",
       "7 -2.380327 -1.267790 -0.792809  0.939739  0.727437\n",
       "8  0.979262  2.429773 -1.241528  1.063134 -0.953531\n",
       "9  0.042039 -0.719593  0.673374 -0.040979 -0.166881"
      ]
     },
     "execution_count": 2,
     "metadata": {},
     "output_type": "execute_result"
    }
   ],
   "source": [
    "A=initpd(\"n\",n=10,p=5)\n",
    "A"
   ]
  },
  {
   "cell_type": "code",
   "execution_count": 3,
   "metadata": {},
   "outputs": [
    {
     "data": {
      "text/plain": [
       "matrix([[ 1.95232463,  1.95232463,  1.95232463,  1.95232463],\n",
       "        [ 0.76495246,  0.76495246,  0.76495246,  0.76495246],\n",
       "        [-0.75705036, -0.75705036, -0.75705036, -0.75705036],\n",
       "        [ 0.26772564,  0.26772564,  0.26772564,  0.26772564],\n",
       "        [-0.26142083, -0.26142083, -0.26142083, -0.26142083],\n",
       "        [-0.92359038, -0.92359038, -0.92359038, -0.92359038],\n",
       "        [-0.583318  , -0.583318  , -0.583318  , -0.583318  ],\n",
       "        [-2.38032652, -2.38032652, -2.38032652, -2.38032652],\n",
       "        [ 0.97926238,  0.97926238,  0.97926238,  0.97926238],\n",
       "        [ 0.04203858,  0.04203858,  0.04203858,  0.04203858]])"
      ]
     },
     "execution_count": 3,
     "metadata": {},
     "output_type": "execute_result"
    }
   ],
   "source": [
    "cbind(A.X1,A['X1'],A.loc[:,'X1'],A.iloc[:,0])"
   ]
  }
 ],
 "metadata": {
  "kernelspec": {
   "display_name": "Python 3",
   "language": "python",
   "name": "python3"
  },
  "language_info": {
   "codemirror_mode": {
    "name": "ipython",
    "version": 3
   },
   "file_extension": ".py",
   "mimetype": "text/x-python",
   "name": "python",
   "nbconvert_exporter": "python",
   "pygments_lexer": "ipython3",
   "version": "3.6.7"
  }
 },
 "nbformat": 4,
 "nbformat_minor": 4
}
