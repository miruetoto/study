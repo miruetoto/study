{
 "cells": [
  {
   "cell_type": "code",
   "execution_count": 5,
   "metadata": {},
   "outputs": [
    {
     "name": "stdout",
     "output_type": "stream",
     "text": [
      "The rpy2.ipython extension is already loaded. To reload it, use:\n",
      "  %reload_ext rpy2.ipython\n"
     ]
    },
    {
     "name": "stderr",
     "output_type": "stream",
     "text": [
      "R[write to console]: ── \u001b[1mAttaching packages\u001b[22m ─────────────────────────────────────── tidyverse 1.3.0 ──\n",
      "\n",
      "R[write to console]: \u001b[32m✔\u001b[39m \u001b[34mggplot2\u001b[39m 3.2.1     \u001b[32m✔\u001b[39m \u001b[34mpurrr  \u001b[39m 0.3.3\n",
      "\u001b[32m✔\u001b[39m \u001b[34mtibble \u001b[39m 2.1.3     \u001b[32m✔\u001b[39m \u001b[34mdplyr  \u001b[39m 0.8.4\n",
      "\u001b[32m✔\u001b[39m \u001b[34mtidyr  \u001b[39m 1.0.2     \u001b[32m✔\u001b[39m \u001b[34mstringr\u001b[39m 1.4.0\n",
      "\u001b[32m✔\u001b[39m \u001b[34mreadr  \u001b[39m 1.3.1     \u001b[32m✔\u001b[39m \u001b[34mforcats\u001b[39m 0.4.0\n",
      "\n",
      "R[write to console]: ── \u001b[1mConflicts\u001b[22m ────────────────────────────────────────── tidyverse_conflicts() ──\n",
      "\u001b[31m✖\u001b[39m \u001b[34mdplyr\u001b[39m::\u001b[32mfilter()\u001b[39m masks \u001b[34mstats\u001b[39m::filter()\n",
      "\u001b[31m✖\u001b[39m \u001b[34mdplyr\u001b[39m::\u001b[32mlag()\u001b[39m    masks \u001b[34mstats\u001b[39m::lag()\n",
      "\n"
     ]
    },
    {
     "data": {
      "text/html": [
       "\n",
       "        <span>StrVector with 19 elements.</span>\n",
       "        <table>\n",
       "        <tbody>\n",
       "          <tr>\n",
       "          \n",
       "            <td>\n",
       "            'forcats'\n",
       "            </td>\n",
       "          \n",
       "            <td>\n",
       "            'stringr'\n",
       "            </td>\n",
       "          \n",
       "            <td>\n",
       "            'dplyr'\n",
       "            </td>\n",
       "          \n",
       "            <td>\n",
       "            ...\n",
       "            </td>\n",
       "          \n",
       "            <td>\n",
       "            'datasets'\n",
       "            </td>\n",
       "          \n",
       "            <td>\n",
       "            'methods'\n",
       "            </td>\n",
       "          \n",
       "            <td>\n",
       "            'base'\n",
       "            </td>\n",
       "          \n",
       "          </tr>\n",
       "        </tbody>\n",
       "        </table>\n",
       "        "
      ],
      "text/plain": [
       "R object with classes: ('character',) mapped to:\n",
       "['forcats', 'stringr', 'dplyr', 'purrr', ..., 'utils', 'datasets', 'methods', 'base']"
      ]
     },
     "execution_count": 5,
     "metadata": {},
     "output_type": "execute_result"
    }
   ],
   "source": [
    "import requests\n",
    "exec(requests.get('http://miruetoto.github.io/my_code/datahandling.py').text)\n",
    "%load_ext rpy2.ipython\n",
    "ro.r('library(devtools)')\n",
    "ro.r('library(tidyverse)')"
   ]
  },
  {
   "cell_type": "code",
   "execution_count": 6,
   "metadata": {},
   "outputs": [
    {
     "data": {
      "text/html": [
       "<div>\n",
       "<style scoped>\n",
       "    .dataframe tbody tr th:only-of-type {\n",
       "        vertical-align: middle;\n",
       "    }\n",
       "\n",
       "    .dataframe tbody tr th {\n",
       "        vertical-align: top;\n",
       "    }\n",
       "\n",
       "    .dataframe thead th {\n",
       "        text-align: right;\n",
       "    }\n",
       "</style>\n",
       "<table border=\"1\" class=\"dataframe\">\n",
       "  <thead>\n",
       "    <tr style=\"text-align: right;\">\n",
       "      <th></th>\n",
       "      <th>XY1</th>\n",
       "      <th>XY2</th>\n",
       "      <th>XZ1</th>\n",
       "      <th>XZ2</th>\n",
       "      <th>X5</th>\n",
       "    </tr>\n",
       "  </thead>\n",
       "  <tbody>\n",
       "    <tr>\n",
       "      <th>0</th>\n",
       "      <td>0.528919</td>\n",
       "      <td>-0.242760</td>\n",
       "      <td>0.033203</td>\n",
       "      <td>0.998790</td>\n",
       "      <td>0.242043</td>\n",
       "    </tr>\n",
       "    <tr>\n",
       "      <th>1</th>\n",
       "      <td>-0.101135</td>\n",
       "      <td>0.003584</td>\n",
       "      <td>-0.332874</td>\n",
       "      <td>0.710346</td>\n",
       "      <td>0.138710</td>\n",
       "    </tr>\n",
       "    <tr>\n",
       "      <th>2</th>\n",
       "      <td>-0.677328</td>\n",
       "      <td>1.819449</td>\n",
       "      <td>-0.276280</td>\n",
       "      <td>1.802434</td>\n",
       "      <td>-0.946542</td>\n",
       "    </tr>\n",
       "    <tr>\n",
       "      <th>3</th>\n",
       "      <td>-1.119075</td>\n",
       "      <td>0.616950</td>\n",
       "      <td>1.769668</td>\n",
       "      <td>-3.017228</td>\n",
       "      <td>1.120271</td>\n",
       "    </tr>\n",
       "    <tr>\n",
       "      <th>4</th>\n",
       "      <td>0.260958</td>\n",
       "      <td>-1.321360</td>\n",
       "      <td>0.197089</td>\n",
       "      <td>0.830399</td>\n",
       "      <td>1.979389</td>\n",
       "    </tr>\n",
       "    <tr>\n",
       "      <th>5</th>\n",
       "      <td>1.048164</td>\n",
       "      <td>-0.786895</td>\n",
       "      <td>-0.037706</td>\n",
       "      <td>-0.844599</td>\n",
       "      <td>-1.049493</td>\n",
       "    </tr>\n",
       "    <tr>\n",
       "      <th>6</th>\n",
       "      <td>-0.457475</td>\n",
       "      <td>-0.021482</td>\n",
       "      <td>0.049784</td>\n",
       "      <td>-0.484592</td>\n",
       "      <td>-0.666874</td>\n",
       "    </tr>\n",
       "    <tr>\n",
       "      <th>7</th>\n",
       "      <td>-0.035493</td>\n",
       "      <td>-0.310628</td>\n",
       "      <td>0.457238</td>\n",
       "      <td>1.415232</td>\n",
       "      <td>1.622169</td>\n",
       "    </tr>\n",
       "    <tr>\n",
       "      <th>8</th>\n",
       "      <td>-0.386477</td>\n",
       "      <td>-0.257498</td>\n",
       "      <td>-2.308940</td>\n",
       "      <td>-1.418814</td>\n",
       "      <td>0.107713</td>\n",
       "    </tr>\n",
       "    <tr>\n",
       "      <th>9</th>\n",
       "      <td>-0.036828</td>\n",
       "      <td>0.950592</td>\n",
       "      <td>0.343997</td>\n",
       "      <td>-0.661165</td>\n",
       "      <td>-0.988995</td>\n",
       "    </tr>\n",
       "  </tbody>\n",
       "</table>\n",
       "</div>"
      ],
      "text/plain": [
       "        XY1       XY2       XZ1       XZ2        X5\n",
       "0  0.528919 -0.242760  0.033203  0.998790  0.242043\n",
       "1 -0.101135  0.003584 -0.332874  0.710346  0.138710\n",
       "2 -0.677328  1.819449 -0.276280  1.802434 -0.946542\n",
       "3 -1.119075  0.616950  1.769668 -3.017228  1.120271\n",
       "4  0.260958 -1.321360  0.197089  0.830399  1.979389\n",
       "5  1.048164 -0.786895 -0.037706 -0.844599 -1.049493\n",
       "6 -0.457475 -0.021482  0.049784 -0.484592 -0.666874\n",
       "7 -0.035493 -0.310628  0.457238  1.415232  1.622169\n",
       "8 -0.386477 -0.257498 -2.308940 -1.418814  0.107713\n",
       "9 -0.036828  0.950592  0.343997 -0.661165 -0.988995"
      ]
     },
     "execution_count": 6,
     "metadata": {},
     "output_type": "execute_result"
    }
   ],
   "source": [
    "A=initpd(\"n\",n=10,p=5)\n",
    "A.columns=['XY1','XY2','XZ1','XZ2','X5']\n",
    "A"
   ]
  },
  {
   "cell_type": "code",
   "execution_count": 7,
   "metadata": {},
   "outputs": [],
   "source": [
    "push(A,\"A\")"
   ]
  },
  {
   "cell_type": "code",
   "execution_count": 9,
   "metadata": {},
   "outputs": [
    {
     "name": "stdout",
     "output_type": "stream",
     "text": [
      "          XY1          XY2\n",
      "0  0.52891911 -0.242760166\n",
      "1 -0.10113476  0.003584053\n",
      "2 -0.67732760  1.819448575\n",
      "3 -1.11907509  0.616949829\n",
      "4  0.26095826 -1.321360213\n",
      "5  1.04816436 -0.786894647\n",
      "6 -0.45747471 -0.021482387\n",
      "7 -0.03549259 -0.310628140\n",
      "8 -0.38647704 -0.257498148\n",
      "9 -0.03682760  0.950591754\n"
     ]
    }
   ],
   "source": [
    "%%R \n",
    "select(A,starts_with(\"XY\"))"
   ]
  },
  {
   "cell_type": "code",
   "execution_count": 11,
   "metadata": {},
   "outputs": [
    {
     "name": "stdout",
     "output_type": "stream",
     "text": [
      "           XY2        XZ2\n",
      "0 -0.242760166  0.9987896\n",
      "1  0.003584053  0.7103462\n",
      "2  1.819448575  1.8024337\n",
      "3  0.616949829 -3.0172281\n",
      "4 -1.321360213  0.8303994\n",
      "5 -0.786894647 -0.8445988\n",
      "6 -0.021482387 -0.4845917\n",
      "7 -0.310628140  1.4152322\n",
      "8 -0.257498148 -1.4188144\n",
      "9  0.950591754 -0.6611648\n"
     ]
    }
   ],
   "source": [
    "%%R \n",
    "select(A,ends_with(\"2\"))"
   ]
  },
  {
   "cell_type": "code",
   "execution_count": 13,
   "metadata": {},
   "outputs": [
    {
     "name": "stdout",
     "output_type": "stream",
     "text": [
      "          XY1          XY2\n",
      "0  0.52891911 -0.242760166\n",
      "1 -0.10113476  0.003584053\n",
      "2 -0.67732760  1.819448575\n",
      "3 -1.11907509  0.616949829\n",
      "4  0.26095826 -1.321360213\n",
      "5  1.04816436 -0.786894647\n",
      "6 -0.45747471 -0.021482387\n",
      "7 -0.03549259 -0.310628140\n",
      "8 -0.38647704 -0.257498148\n",
      "9 -0.03682760  0.950591754\n"
     ]
    }
   ],
   "source": [
    "%%R\n",
    "select(A,contains(\"Y\"))"
   ]
  },
  {
   "cell_type": "code",
   "execution_count": null,
   "metadata": {},
   "outputs": [],
   "source": []
  }
 ],
 "metadata": {
  "kernelspec": {
   "display_name": "Python 3",
   "language": "python",
   "name": "python3"
  },
  "language_info": {
   "codemirror_mode": {
    "name": "ipython",
    "version": 3
   },
   "file_extension": ".py",
   "mimetype": "text/x-python",
   "name": "python",
   "nbconvert_exporter": "python",
   "pygments_lexer": "ipython3",
   "version": "3.8.1"
  }
 },
 "nbformat": 4,
 "nbformat_minor": 4
}
