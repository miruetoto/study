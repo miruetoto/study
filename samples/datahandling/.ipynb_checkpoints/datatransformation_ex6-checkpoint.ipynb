{
 "cells": [
  {
   "cell_type": "code",
   "execution_count": 3,
   "metadata": {},
   "outputs": [
    {
     "name": "stdout",
     "output_type": "stream",
     "text": [
      "The rpy2.ipython extension is already loaded. To reload it, use:\n",
      "  %reload_ext rpy2.ipython\n"
     ]
    },
    {
     "data": {
      "text/html": [
       "\n",
       "        <span>StrVector with 19 elements.</span>\n",
       "        <table>\n",
       "        <tbody>\n",
       "          <tr>\n",
       "          \n",
       "            <td>\n",
       "            'forcats'\n",
       "            </td>\n",
       "          \n",
       "            <td>\n",
       "            'stringr'\n",
       "            </td>\n",
       "          \n",
       "            <td>\n",
       "            'dplyr'\n",
       "            </td>\n",
       "          \n",
       "            <td>\n",
       "            ...\n",
       "            </td>\n",
       "          \n",
       "            <td>\n",
       "            'datasets'\n",
       "            </td>\n",
       "          \n",
       "            <td>\n",
       "            'methods'\n",
       "            </td>\n",
       "          \n",
       "            <td>\n",
       "            'base'\n",
       "            </td>\n",
       "          \n",
       "          </tr>\n",
       "        </tbody>\n",
       "        </table>\n",
       "        "
      ],
      "text/plain": [
       "R object with classes: ('character',) mapped to:\n",
       "['forcats', 'stringr', 'dplyr', 'purrr', ..., 'utils', 'datasets', 'methods', 'base']"
      ]
     },
     "execution_count": 3,
     "metadata": {},
     "output_type": "execute_result"
    }
   ],
   "source": [
    "import requests\n",
    "exec(requests.get('http://miruetoto.github.io/my_code/datahandling.py').text)\n",
    "%load_ext rpy2.ipython\n",
    "ro.r('library(devtools)')\n",
    "ro.r('library(tidyverse)')"
   ]
  },
  {
   "cell_type": "code",
   "execution_count": 4,
   "metadata": {},
   "outputs": [
    {
     "data": {
      "text/html": [
       "<div>\n",
       "<style scoped>\n",
       "    .dataframe tbody tr th:only-of-type {\n",
       "        vertical-align: middle;\n",
       "    }\n",
       "\n",
       "    .dataframe tbody tr th {\n",
       "        vertical-align: top;\n",
       "    }\n",
       "\n",
       "    .dataframe thead th {\n",
       "        text-align: right;\n",
       "    }\n",
       "</style>\n",
       "<table border=\"1\" class=\"dataframe\">\n",
       "  <thead>\n",
       "    <tr style=\"text-align: right;\">\n",
       "      <th></th>\n",
       "      <th>XY1</th>\n",
       "      <th>XY2</th>\n",
       "      <th>XZ1</th>\n",
       "      <th>XZ2</th>\n",
       "      <th>X5</th>\n",
       "    </tr>\n",
       "  </thead>\n",
       "  <tbody>\n",
       "    <tr>\n",
       "      <th>0</th>\n",
       "      <td>-2.125295</td>\n",
       "      <td>-0.721852</td>\n",
       "      <td>1.274510</td>\n",
       "      <td>0.814394</td>\n",
       "      <td>-0.232550</td>\n",
       "    </tr>\n",
       "    <tr>\n",
       "      <th>1</th>\n",
       "      <td>-1.184979</td>\n",
       "      <td>-1.440731</td>\n",
       "      <td>-2.124829</td>\n",
       "      <td>-0.464062</td>\n",
       "      <td>1.009654</td>\n",
       "    </tr>\n",
       "    <tr>\n",
       "      <th>2</th>\n",
       "      <td>-0.051393</td>\n",
       "      <td>-1.428855</td>\n",
       "      <td>-0.302226</td>\n",
       "      <td>0.593804</td>\n",
       "      <td>0.041890</td>\n",
       "    </tr>\n",
       "    <tr>\n",
       "      <th>3</th>\n",
       "      <td>0.297346</td>\n",
       "      <td>0.395648</td>\n",
       "      <td>0.431407</td>\n",
       "      <td>-1.872710</td>\n",
       "      <td>-0.336747</td>\n",
       "    </tr>\n",
       "    <tr>\n",
       "      <th>4</th>\n",
       "      <td>-0.221428</td>\n",
       "      <td>0.721255</td>\n",
       "      <td>-1.167410</td>\n",
       "      <td>0.977357</td>\n",
       "      <td>-0.085041</td>\n",
       "    </tr>\n",
       "    <tr>\n",
       "      <th>5</th>\n",
       "      <td>-1.091516</td>\n",
       "      <td>1.998321</td>\n",
       "      <td>1.850558</td>\n",
       "      <td>-0.630604</td>\n",
       "      <td>-0.477197</td>\n",
       "    </tr>\n",
       "    <tr>\n",
       "      <th>6</th>\n",
       "      <td>-0.300348</td>\n",
       "      <td>0.731258</td>\n",
       "      <td>-0.312928</td>\n",
       "      <td>0.598709</td>\n",
       "      <td>1.637210</td>\n",
       "    </tr>\n",
       "    <tr>\n",
       "      <th>7</th>\n",
       "      <td>-2.221266</td>\n",
       "      <td>1.158039</td>\n",
       "      <td>0.049515</td>\n",
       "      <td>1.732593</td>\n",
       "      <td>0.228101</td>\n",
       "    </tr>\n",
       "    <tr>\n",
       "      <th>8</th>\n",
       "      <td>1.776319</td>\n",
       "      <td>0.075342</td>\n",
       "      <td>-0.355377</td>\n",
       "      <td>-0.650944</td>\n",
       "      <td>2.293544</td>\n",
       "    </tr>\n",
       "    <tr>\n",
       "      <th>9</th>\n",
       "      <td>-0.716560</td>\n",
       "      <td>-0.221908</td>\n",
       "      <td>0.369134</td>\n",
       "      <td>-1.511270</td>\n",
       "      <td>-1.665845</td>\n",
       "    </tr>\n",
       "  </tbody>\n",
       "</table>\n",
       "</div>"
      ],
      "text/plain": [
       "        XY1       XY2       XZ1       XZ2        X5\n",
       "0 -2.125295 -0.721852  1.274510  0.814394 -0.232550\n",
       "1 -1.184979 -1.440731 -2.124829 -0.464062  1.009654\n",
       "2 -0.051393 -1.428855 -0.302226  0.593804  0.041890\n",
       "3  0.297346  0.395648  0.431407 -1.872710 -0.336747\n",
       "4 -0.221428  0.721255 -1.167410  0.977357 -0.085041\n",
       "5 -1.091516  1.998321  1.850558 -0.630604 -0.477197\n",
       "6 -0.300348  0.731258 -0.312928  0.598709  1.637210\n",
       "7 -2.221266  1.158039  0.049515  1.732593  0.228101\n",
       "8  1.776319  0.075342 -0.355377 -0.650944  2.293544\n",
       "9 -0.716560 -0.221908  0.369134 -1.511270 -1.665845"
      ]
     },
     "execution_count": 4,
     "metadata": {},
     "output_type": "execute_result"
    }
   ],
   "source": [
    "A=initpd(\"n\",n=10,p=5)\n",
    "A.columns=['XY1','XY2','XZ1','XZ2','X5']\n",
    "A"
   ]
  },
  {
   "cell_type": "code",
   "execution_count": 5,
   "metadata": {},
   "outputs": [],
   "source": [
    "push(A,\"A\")"
   ]
  },
  {
   "cell_type": "code",
   "execution_count": 7,
   "metadata": {},
   "outputs": [
    {
     "name": "stdout",
     "output_type": "stream",
     "text": [
      "          XZ1        XZ2\n",
      "0  1.27451032  0.8143941\n",
      "1 -2.12482935 -0.4640617\n",
      "2 -0.30222561  0.5938040\n",
      "3  0.43140732 -1.8727096\n",
      "4 -1.16741017  0.9773566\n",
      "5  1.85055825 -0.6306045\n",
      "6 -0.31292808  0.5987088\n",
      "7  0.04951466  1.7325935\n",
      "8 -0.35537734 -0.6509440\n",
      "9  0.36913401 -1.5112701\n"
     ]
    }
   ],
   "source": [
    "%%R\n",
    "select(A,contains(\"Z\"))"
   ]
  },
  {
   "cell_type": "code",
   "execution_count": 8,
   "metadata": {},
   "outputs": [
    {
     "name": "stdout",
     "output_type": "stream",
     "text": [
      "          XZ1        XZ2         XY1         XY2         X5\n",
      "0  1.27451032  0.8143941 -2.12529470 -0.72185173 -0.2325496\n",
      "1 -2.12482935 -0.4640617 -1.18497865 -1.44073111  1.0096541\n",
      "2 -0.30222561  0.5938040 -0.05139304 -1.42885501  0.0418901\n",
      "3  0.43140732 -1.8727096  0.29734571  0.39564849 -0.3367472\n",
      "4 -1.16741017  0.9773566 -0.22142838  0.72125477 -0.0850409\n",
      "5  1.85055825 -0.6306045 -1.09151589  1.99832102 -0.4771966\n",
      "6 -0.31292808  0.5987088 -0.30034786  0.73125832  1.6372098\n",
      "7  0.04951466  1.7325935 -2.22126643  1.15803885  0.2281008\n",
      "8 -0.35537734 -0.6509440  1.77631853  0.07534233  2.2935439\n",
      "9  0.36913401 -1.5112701 -0.71655951 -0.22190828 -1.6658451\n"
     ]
    }
   ],
   "source": [
    "%%R\n",
    "select(A,contains(\"Z\"),everything())"
   ]
  },
  {
   "cell_type": "code",
   "execution_count": null,
   "metadata": {},
   "outputs": [],
   "source": []
  }
 ],
 "metadata": {
  "kernelspec": {
   "display_name": "Python 3",
   "language": "python",
   "name": "python3"
  },
  "language_info": {
   "codemirror_mode": {
    "name": "ipython",
    "version": 3
   },
   "file_extension": ".py",
   "mimetype": "text/x-python",
   "name": "python",
   "nbconvert_exporter": "python",
   "pygments_lexer": "ipython3",
   "version": "3.8.1"
  }
 },
 "nbformat": 4,
 "nbformat_minor": 4
}
