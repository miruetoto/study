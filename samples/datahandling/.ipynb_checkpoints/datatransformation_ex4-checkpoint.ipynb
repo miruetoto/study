{
 "cells": [
  {
   "cell_type": "code",
   "execution_count": 4,
   "metadata": {},
   "outputs": [
    {
     "name": "stderr",
     "output_type": "stream",
     "text": [
      "R[write to console]: Loading required package: usethis\n",
      "\n",
      "/home/cgb/anaconda3/envs/py20190129/lib/python3.8/site-packages/rpy2/robjects/pandas2ri.py:14: FutureWarning: pandas.core.index is deprecated and will be removed in a future version.  The public classes are available in the top-level namespace.\n",
      "  from pandas.core.index import Index as PandasIndex\n",
      "/home/cgb/anaconda3/envs/py20190129/lib/python3.8/site-packages/rpy2/robjects/pandas2ri.py:34: UserWarning: pandas >= 1.0 is not supported.\n",
      "  warnings.warn('pandas >= 1.0 is not supported.')\n"
     ]
    },
    {
     "data": {
      "text/plain": [
       "array(['devtools', 'usethis', 'tools', 'stats', 'graphics', 'grDevices',\n",
       "       'utils', 'datasets', 'methods', 'base'], dtype='<U9')"
      ]
     },
     "execution_count": 4,
     "metadata": {},
     "output_type": "execute_result"
    }
   ],
   "source": [
    "import requests\n",
    "exec(requests.get('http://miruetoto.github.io/my_code/datahandling.py').text)\n",
    "%load_ext rpy2.ipython\n",
    "%R library(devtools)"
   ]
  },
  {
   "cell_type": "code",
   "execution_count": 5,
   "metadata": {},
   "outputs": [
    {
     "data": {
      "text/html": [
       "<div>\n",
       "<style scoped>\n",
       "    .dataframe tbody tr th:only-of-type {\n",
       "        vertical-align: middle;\n",
       "    }\n",
       "\n",
       "    .dataframe tbody tr th {\n",
       "        vertical-align: top;\n",
       "    }\n",
       "\n",
       "    .dataframe thead th {\n",
       "        text-align: right;\n",
       "    }\n",
       "</style>\n",
       "<table border=\"1\" class=\"dataframe\">\n",
       "  <thead>\n",
       "    <tr style=\"text-align: right;\">\n",
       "      <th></th>\n",
       "      <th>X1</th>\n",
       "      <th>X2</th>\n",
       "      <th>X3</th>\n",
       "      <th>X4</th>\n",
       "      <th>X5</th>\n",
       "    </tr>\n",
       "  </thead>\n",
       "  <tbody>\n",
       "    <tr>\n",
       "      <th>0</th>\n",
       "      <td>1.368908</td>\n",
       "      <td>0.858559</td>\n",
       "      <td>0.807492</td>\n",
       "      <td>-0.108469</td>\n",
       "      <td>-1.023661</td>\n",
       "    </tr>\n",
       "    <tr>\n",
       "      <th>1</th>\n",
       "      <td>-0.507842</td>\n",
       "      <td>1.585481</td>\n",
       "      <td>0.445708</td>\n",
       "      <td>1.257961</td>\n",
       "      <td>-0.204827</td>\n",
       "    </tr>\n",
       "    <tr>\n",
       "      <th>2</th>\n",
       "      <td>-0.652893</td>\n",
       "      <td>-0.549504</td>\n",
       "      <td>1.631453</td>\n",
       "      <td>-0.270579</td>\n",
       "      <td>0.242676</td>\n",
       "    </tr>\n",
       "    <tr>\n",
       "      <th>3</th>\n",
       "      <td>0.641776</td>\n",
       "      <td>0.750097</td>\n",
       "      <td>-0.685668</td>\n",
       "      <td>0.034932</td>\n",
       "      <td>-1.182680</td>\n",
       "    </tr>\n",
       "    <tr>\n",
       "      <th>4</th>\n",
       "      <td>-1.810188</td>\n",
       "      <td>0.450857</td>\n",
       "      <td>-0.981795</td>\n",
       "      <td>0.157461</td>\n",
       "      <td>0.673013</td>\n",
       "    </tr>\n",
       "    <tr>\n",
       "      <th>5</th>\n",
       "      <td>-1.817306</td>\n",
       "      <td>1.898616</td>\n",
       "      <td>0.845115</td>\n",
       "      <td>-1.532169</td>\n",
       "      <td>-0.971624</td>\n",
       "    </tr>\n",
       "    <tr>\n",
       "      <th>6</th>\n",
       "      <td>-0.685792</td>\n",
       "      <td>-0.788520</td>\n",
       "      <td>-0.471992</td>\n",
       "      <td>1.195728</td>\n",
       "      <td>-1.337973</td>\n",
       "    </tr>\n",
       "    <tr>\n",
       "      <th>7</th>\n",
       "      <td>1.316218</td>\n",
       "      <td>-0.405133</td>\n",
       "      <td>-0.694914</td>\n",
       "      <td>1.212832</td>\n",
       "      <td>-0.122664</td>\n",
       "    </tr>\n",
       "    <tr>\n",
       "      <th>8</th>\n",
       "      <td>-1.415315</td>\n",
       "      <td>0.901608</td>\n",
       "      <td>-0.427437</td>\n",
       "      <td>0.621868</td>\n",
       "      <td>-0.011121</td>\n",
       "    </tr>\n",
       "    <tr>\n",
       "      <th>9</th>\n",
       "      <td>-0.149201</td>\n",
       "      <td>-0.937741</td>\n",
       "      <td>-1.127168</td>\n",
       "      <td>0.957020</td>\n",
       "      <td>0.200028</td>\n",
       "    </tr>\n",
       "  </tbody>\n",
       "</table>\n",
       "</div>"
      ],
      "text/plain": [
       "         X1        X2        X3        X4        X5\n",
       "0  1.368908  0.858559  0.807492 -0.108469 -1.023661\n",
       "1 -0.507842  1.585481  0.445708  1.257961 -0.204827\n",
       "2 -0.652893 -0.549504  1.631453 -0.270579  0.242676\n",
       "3  0.641776  0.750097 -0.685668  0.034932 -1.182680\n",
       "4 -1.810188  0.450857 -0.981795  0.157461  0.673013\n",
       "5 -1.817306  1.898616  0.845115 -1.532169 -0.971624\n",
       "6 -0.685792 -0.788520 -0.471992  1.195728 -1.337973\n",
       "7  1.316218 -0.405133 -0.694914  1.212832 -0.122664\n",
       "8 -1.415315  0.901608 -0.427437  0.621868 -0.011121\n",
       "9 -0.149201 -0.937741 -1.127168  0.957020  0.200028"
      ]
     },
     "execution_count": 5,
     "metadata": {},
     "output_type": "execute_result"
    }
   ],
   "source": [
    "A=initpd(\"n\",n=10,p=5)\n",
    "push(A,\"A\")\n",
    "A"
   ]
  },
  {
   "cell_type": "code",
   "execution_count": 8,
   "metadata": {},
   "outputs": [
    {
     "name": "stdout",
     "output_type": "stream",
     "text": [
      "           X4          X5\n",
      "0 -0.10846900 -1.02366066\n",
      "1  1.25796080 -0.20482742\n",
      "2 -0.27057876  0.24267619\n",
      "3  0.03493223 -1.18268019\n",
      "4  0.15746089  0.67301341\n",
      "5 -1.53216950 -0.97162446\n",
      "6  1.19572795 -1.33797340\n",
      "7  1.21283225 -0.12266381\n",
      "8  0.62186807 -0.01112068\n",
      "9  0.95701955  0.20002833\n"
     ]
    }
   ],
   "source": [
    "%%R \n",
    "library(tidyverse)\n",
    "select(A,-(X1:X3))"
   ]
  },
  {
   "cell_type": "code",
   "execution_count": 9,
   "metadata": {},
   "outputs": [
    {
     "name": "stdout",
     "output_type": "stream",
     "text": [
      "           X4          X5\n",
      "0 -0.10846900 -1.02366066\n",
      "1  1.25796080 -0.20482742\n",
      "2 -0.27057876  0.24267619\n",
      "3  0.03493223 -1.18268019\n",
      "4  0.15746089  0.67301341\n",
      "5 -1.53216950 -0.97162446\n",
      "6  1.19572795 -1.33797340\n",
      "7  1.21283225 -0.12266381\n",
      "8  0.62186807 -0.01112068\n",
      "9  0.95701955  0.20002833\n"
     ]
    }
   ],
   "source": [
    "%%R \n",
    "select(A,-(1:3))"
   ]
  },
  {
   "cell_type": "code",
   "execution_count": 10,
   "metadata": {},
   "outputs": [
    {
     "name": "stdout",
     "output_type": "stream",
     "text": [
      "           X4          X5\n",
      "0 -0.10846900 -1.02366066\n",
      "1  1.25796080 -0.20482742\n",
      "2 -0.27057876  0.24267619\n",
      "3  0.03493223 -1.18268019\n",
      "4  0.15746089  0.67301341\n",
      "5 -1.53216950 -0.97162446\n",
      "6  1.19572795 -1.33797340\n",
      "7  1.21283225 -0.12266381\n",
      "8  0.62186807 -0.01112068\n",
      "9  0.95701955  0.20002833\n"
     ]
    }
   ],
   "source": [
    "%%R \n",
    "select(A,c(-1,-2,-3))"
   ]
  },
  {
   "cell_type": "code",
   "execution_count": null,
   "metadata": {},
   "outputs": [],
   "source": []
  }
 ],
 "metadata": {
  "kernelspec": {
   "display_name": "Python 3",
   "language": "python",
   "name": "python3"
  },
  "language_info": {
   "codemirror_mode": {
    "name": "ipython",
    "version": 3
   },
   "file_extension": ".py",
   "mimetype": "text/x-python",
   "name": "python",
   "nbconvert_exporter": "python",
   "pygments_lexer": "ipython3",
   "version": "3.8.1"
  }
 },
 "nbformat": 4,
 "nbformat_minor": 4
}
