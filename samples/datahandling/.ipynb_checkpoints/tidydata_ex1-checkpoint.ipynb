{
 "cells": [
  {
   "cell_type": "code",
   "execution_count": 13,
   "metadata": {},
   "outputs": [],
   "source": [
    "xx<-c(0,2,3,5,1,4,1,4,2.5)\n",
    "yx<-c(0,0,0,0,1,1,2,2,3)\n",
    "zx<-c(5,4,-4,-5,4,-4,2,-2,0)"
   ]
  },
  {
   "cell_type": "code",
   "execution_count": 9,
   "metadata": {},
   "outputs": [
    {
     "name": "stderr",
     "output_type": "stream",
     "text": [
      "── \u001b[1mAttaching packages\u001b[22m ─────────────────────────────────────── tidyverse 1.3.0 ──\n",
      "\n",
      "\u001b[32m✔\u001b[39m \u001b[34mggplot2\u001b[39m 3.2.1     \u001b[32m✔\u001b[39m \u001b[34mpurrr  \u001b[39m 0.3.3\n",
      "\u001b[32m✔\u001b[39m \u001b[34mtibble \u001b[39m 2.1.3     \u001b[32m✔\u001b[39m \u001b[34mdplyr  \u001b[39m 0.8.4\n",
      "\u001b[32m✔\u001b[39m \u001b[34mtidyr  \u001b[39m 1.0.2     \u001b[32m✔\u001b[39m \u001b[34mstringr\u001b[39m 1.4.0\n",
      "\u001b[32m✔\u001b[39m \u001b[34mreadr  \u001b[39m 1.3.1     \u001b[32m✔\u001b[39m \u001b[34mforcats\u001b[39m 0.4.0\n",
      "\n",
      "── \u001b[1mConflicts\u001b[22m ────────────────────────────────────────── tidyverse_conflicts() ──\n",
      "\u001b[31m✖\u001b[39m \u001b[34mdplyr\u001b[39m::\u001b[32mfilter()\u001b[39m masks \u001b[34mstats\u001b[39m::filter()\n",
      "\u001b[31m✖\u001b[39m \u001b[34mdplyr\u001b[39m::\u001b[32mlag()\u001b[39m    masks \u001b[34mstats\u001b[39m::lag()\n",
      "\n"
     ]
    }
   ],
   "source": [
    "#install.packages(\"plot3D\")\n",
    "library(tidyverse)\n",
    "library(plot3D)"
   ]
  },
  {
   "cell_type": "code",
   "execution_count": 16,
   "metadata": {},
   "outputs": [
    {
     "data": {
      "text/html": [
       "<table>\n",
       "<caption>A tibble: 9 x 3</caption>\n",
       "<thead>\n",
       "\t<tr><th scope=col>x</th><th scope=col>y</th><th scope=col>z</th></tr>\n",
       "\t<tr><th scope=col>&lt;dbl&gt;</th><th scope=col>&lt;dbl&gt;</th><th scope=col>&lt;dbl&gt;</th></tr>\n",
       "</thead>\n",
       "<tbody>\n",
       "\t<tr><td>0.0</td><td>0</td><td> 5</td></tr>\n",
       "\t<tr><td>2.0</td><td>0</td><td> 4</td></tr>\n",
       "\t<tr><td>3.0</td><td>0</td><td>-4</td></tr>\n",
       "\t<tr><td>5.0</td><td>0</td><td>-5</td></tr>\n",
       "\t<tr><td>1.0</td><td>1</td><td> 4</td></tr>\n",
       "\t<tr><td>4.0</td><td>1</td><td>-4</td></tr>\n",
       "\t<tr><td>1.0</td><td>2</td><td> 2</td></tr>\n",
       "\t<tr><td>4.0</td><td>2</td><td>-2</td></tr>\n",
       "\t<tr><td>2.5</td><td>3</td><td> 0</td></tr>\n",
       "</tbody>\n",
       "</table>\n"
      ],
      "text/latex": [
       "A tibble: 9 x 3\n",
       "\\begin{tabular}{lll}\n",
       " x & y & z\\\\\n",
       " <dbl> & <dbl> & <dbl>\\\\\n",
       "\\hline\n",
       "\t 0.0 & 0 &  5\\\\\n",
       "\t 2.0 & 0 &  4\\\\\n",
       "\t 3.0 & 0 & -4\\\\\n",
       "\t 5.0 & 0 & -5\\\\\n",
       "\t 1.0 & 1 &  4\\\\\n",
       "\t 4.0 & 1 & -4\\\\\n",
       "\t 1.0 & 2 &  2\\\\\n",
       "\t 4.0 & 2 & -2\\\\\n",
       "\t 2.5 & 3 &  0\\\\\n",
       "\\end{tabular}\n"
      ],
      "text/markdown": [
       "\n",
       "A tibble: 9 x 3\n",
       "\n",
       "| x &lt;dbl&gt; | y &lt;dbl&gt; | z &lt;dbl&gt; |\n",
       "|---|---|---|\n",
       "| 0.0 | 0 |  5 |\n",
       "| 2.0 | 0 |  4 |\n",
       "| 3.0 | 0 | -4 |\n",
       "| 5.0 | 0 | -5 |\n",
       "| 1.0 | 1 |  4 |\n",
       "| 4.0 | 1 | -4 |\n",
       "| 1.0 | 2 |  2 |\n",
       "| 4.0 | 2 | -2 |\n",
       "| 2.5 | 3 |  0 |\n",
       "\n"
      ],
      "text/plain": [
       "  x   y z \n",
       "1 0.0 0  5\n",
       "2 2.0 0  4\n",
       "3 3.0 0 -4\n",
       "4 5.0 0 -5\n",
       "5 1.0 1  4\n",
       "6 4.0 1 -4\n",
       "7 1.0 2  2\n",
       "8 4.0 2 -2\n",
       "9 2.5 3  0"
      ]
     },
     "metadata": {},
     "output_type": "display_data"
    }
   ],
   "source": [
    "tibble(x=x,y=y,z=z)"
   ]
  },
  {
   "cell_type": "code",
   "execution_count": 15,
   "metadata": {},
   "outputs": [
    {
     "data": {
      "text/html": [
       "<table>\n",
       "<caption>A tibble: 9 x 3</caption>\n",
       "<thead>\n",
       "\t<tr><th scope=col>x</th><th scope=col>y</th><th scope=col>z</th></tr>\n",
       "\t<tr><th scope=col>&lt;dbl&gt;</th><th scope=col>&lt;dbl&gt;</th><th scope=col>&lt;dbl&gt;</th></tr>\n",
       "</thead>\n",
       "<tbody>\n",
       "\t<tr><td>0.0</td><td>0</td><td> 5</td></tr>\n",
       "\t<tr><td>2.0</td><td>0</td><td> 4</td></tr>\n",
       "\t<tr><td>3.0</td><td>0</td><td>-4</td></tr>\n",
       "\t<tr><td>5.0</td><td>0</td><td>-5</td></tr>\n",
       "\t<tr><td>1.0</td><td>1</td><td> 4</td></tr>\n",
       "\t<tr><td>4.0</td><td>1</td><td>-4</td></tr>\n",
       "\t<tr><td>1.0</td><td>2</td><td> 2</td></tr>\n",
       "\t<tr><td>4.0</td><td>2</td><td>-2</td></tr>\n",
       "\t<tr><td>2.5</td><td>3</td><td> 0</td></tr>\n",
       "</tbody>\n",
       "</table>\n"
      ],
      "text/latex": [
       "A tibble: 9 x 3\n",
       "\\begin{tabular}{lll}\n",
       " x & y & z\\\\\n",
       " <dbl> & <dbl> & <dbl>\\\\\n",
       "\\hline\n",
       "\t 0.0 & 0 &  5\\\\\n",
       "\t 2.0 & 0 &  4\\\\\n",
       "\t 3.0 & 0 & -4\\\\\n",
       "\t 5.0 & 0 & -5\\\\\n",
       "\t 1.0 & 1 &  4\\\\\n",
       "\t 4.0 & 1 & -4\\\\\n",
       "\t 1.0 & 2 &  2\\\\\n",
       "\t 4.0 & 2 & -2\\\\\n",
       "\t 2.5 & 3 &  0\\\\\n",
       "\\end{tabular}\n"
      ],
      "text/markdown": [
       "\n",
       "A tibble: 9 x 3\n",
       "\n",
       "| x &lt;dbl&gt; | y &lt;dbl&gt; | z &lt;dbl&gt; |\n",
       "|---|---|---|\n",
       "| 0.0 | 0 |  5 |\n",
       "| 2.0 | 0 |  4 |\n",
       "| 3.0 | 0 | -4 |\n",
       "| 5.0 | 0 | -5 |\n",
       "| 1.0 | 1 |  4 |\n",
       "| 4.0 | 1 | -4 |\n",
       "| 1.0 | 2 |  2 |\n",
       "| 4.0 | 2 | -2 |\n",
       "| 2.5 | 3 |  0 |\n",
       "\n"
      ],
      "text/plain": [
       "  x   y z \n",
       "1 0.0 0  5\n",
       "2 2.0 0  4\n",
       "3 3.0 0 -4\n",
       "4 5.0 0 -5\n",
       "5 1.0 1  4\n",
       "6 4.0 1 -4\n",
       "7 1.0 2  2\n",
       "8 4.0 2 -2\n",
       "9 2.5 3  0"
      ]
     },
     "metadata": {},
     "output_type": "display_data"
    }
   ],
   "source": [
    "as_tibble(cbind(x,y,z))"
   ]
  },
  {
   "cell_type": "code",
   "execution_count": null,
   "metadata": {},
   "outputs": [],
   "source": []
  }
 ],
 "metadata": {
  "kernelspec": {
   "display_name": "R",
   "language": "R",
   "name": "ir"
  },
  "language_info": {
   "codemirror_mode": "r",
   "file_extension": ".r",
   "mimetype": "text/x-r-source",
   "name": "R",
   "pygments_lexer": "r",
   "version": "3.6.1"
  }
 },
 "nbformat": 4,
 "nbformat_minor": 4
}
