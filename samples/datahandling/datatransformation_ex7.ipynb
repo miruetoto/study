{
 "cells": [
  {
   "cell_type": "code",
   "execution_count": 2,
   "metadata": {},
   "outputs": [
    {
     "name": "stdout",
     "output_type": "stream",
     "text": [
      "The rpy2.ipython extension is already loaded. To reload it, use:\n",
      "  %reload_ext rpy2.ipython\n"
     ]
    },
    {
     "data": {
      "text/html": [
       "\n",
       "        <span>StrVector with 19 elements.</span>\n",
       "        <table>\n",
       "        <tbody>\n",
       "          <tr>\n",
       "          \n",
       "            <td>\n",
       "            'forcats'\n",
       "            </td>\n",
       "          \n",
       "            <td>\n",
       "            'stringr'\n",
       "            </td>\n",
       "          \n",
       "            <td>\n",
       "            'dplyr'\n",
       "            </td>\n",
       "          \n",
       "            <td>\n",
       "            ...\n",
       "            </td>\n",
       "          \n",
       "            <td>\n",
       "            'datasets'\n",
       "            </td>\n",
       "          \n",
       "            <td>\n",
       "            'methods'\n",
       "            </td>\n",
       "          \n",
       "            <td>\n",
       "            'base'\n",
       "            </td>\n",
       "          \n",
       "          </tr>\n",
       "        </tbody>\n",
       "        </table>\n",
       "        "
      ],
      "text/plain": [
       "R object with classes: ('character',) mapped to:\n",
       "['forcats', 'stringr', 'dplyr', 'purrr', ..., 'utils', 'datasets', 'methods', 'base']"
      ]
     },
     "execution_count": 2,
     "metadata": {},
     "output_type": "execute_result"
    }
   ],
   "source": [
    "import requests\n",
    "exec(requests.get('http://miruetoto.github.io/my_code/datahandling.py').text)\n",
    "%load_ext rpy2.ipython\n",
    "ro.r('library(devtools)')\n",
    "ro.r('library(tidyverse)')"
   ]
  },
  {
   "cell_type": "code",
   "execution_count": 3,
   "metadata": {},
   "outputs": [
    {
     "data": {
      "text/html": [
       "<div>\n",
       "<style scoped>\n",
       "    .dataframe tbody tr th:only-of-type {\n",
       "        vertical-align: middle;\n",
       "    }\n",
       "\n",
       "    .dataframe tbody tr th {\n",
       "        vertical-align: top;\n",
       "    }\n",
       "\n",
       "    .dataframe thead th {\n",
       "        text-align: right;\n",
       "    }\n",
       "</style>\n",
       "<table border=\"1\" class=\"dataframe\">\n",
       "  <thead>\n",
       "    <tr style=\"text-align: right;\">\n",
       "      <th></th>\n",
       "      <th>XY1</th>\n",
       "      <th>XY2</th>\n",
       "      <th>XZ1</th>\n",
       "      <th>XZ2</th>\n",
       "      <th>X5</th>\n",
       "    </tr>\n",
       "  </thead>\n",
       "  <tbody>\n",
       "    <tr>\n",
       "      <th>0</th>\n",
       "      <td>0.675767</td>\n",
       "      <td>1.028514</td>\n",
       "      <td>-2.293757</td>\n",
       "      <td>1.227938</td>\n",
       "      <td>-0.491147</td>\n",
       "    </tr>\n",
       "    <tr>\n",
       "      <th>1</th>\n",
       "      <td>0.916569</td>\n",
       "      <td>-1.378861</td>\n",
       "      <td>-1.419682</td>\n",
       "      <td>-0.044091</td>\n",
       "      <td>-1.005677</td>\n",
       "    </tr>\n",
       "    <tr>\n",
       "      <th>2</th>\n",
       "      <td>0.074668</td>\n",
       "      <td>-0.899917</td>\n",
       "      <td>0.088174</td>\n",
       "      <td>-0.664053</td>\n",
       "      <td>2.105616</td>\n",
       "    </tr>\n",
       "    <tr>\n",
       "      <th>3</th>\n",
       "      <td>-1.596711</td>\n",
       "      <td>-0.611720</td>\n",
       "      <td>-0.525153</td>\n",
       "      <td>-1.137695</td>\n",
       "      <td>-0.970290</td>\n",
       "    </tr>\n",
       "    <tr>\n",
       "      <th>4</th>\n",
       "      <td>0.352449</td>\n",
       "      <td>-0.079041</td>\n",
       "      <td>-0.435134</td>\n",
       "      <td>-1.106932</td>\n",
       "      <td>-0.969584</td>\n",
       "    </tr>\n",
       "    <tr>\n",
       "      <th>5</th>\n",
       "      <td>0.392162</td>\n",
       "      <td>-1.188099</td>\n",
       "      <td>0.085240</td>\n",
       "      <td>0.619503</td>\n",
       "      <td>1.383734</td>\n",
       "    </tr>\n",
       "    <tr>\n",
       "      <th>6</th>\n",
       "      <td>0.184605</td>\n",
       "      <td>0.967069</td>\n",
       "      <td>1.540843</td>\n",
       "      <td>1.541352</td>\n",
       "      <td>0.328992</td>\n",
       "    </tr>\n",
       "    <tr>\n",
       "      <th>7</th>\n",
       "      <td>0.826029</td>\n",
       "      <td>-0.633755</td>\n",
       "      <td>-0.691732</td>\n",
       "      <td>-0.083241</td>\n",
       "      <td>-0.424969</td>\n",
       "    </tr>\n",
       "    <tr>\n",
       "      <th>8</th>\n",
       "      <td>-0.437380</td>\n",
       "      <td>0.571359</td>\n",
       "      <td>-0.150109</td>\n",
       "      <td>1.017228</td>\n",
       "      <td>-1.254866</td>\n",
       "    </tr>\n",
       "    <tr>\n",
       "      <th>9</th>\n",
       "      <td>1.131400</td>\n",
       "      <td>-0.116461</td>\n",
       "      <td>0.506424</td>\n",
       "      <td>-0.063850</td>\n",
       "      <td>1.420718</td>\n",
       "    </tr>\n",
       "  </tbody>\n",
       "</table>\n",
       "</div>"
      ],
      "text/plain": [
       "        XY1       XY2       XZ1       XZ2        X5\n",
       "0  0.675767  1.028514 -2.293757  1.227938 -0.491147\n",
       "1  0.916569 -1.378861 -1.419682 -0.044091 -1.005677\n",
       "2  0.074668 -0.899917  0.088174 -0.664053  2.105616\n",
       "3 -1.596711 -0.611720 -0.525153 -1.137695 -0.970290\n",
       "4  0.352449 -0.079041 -0.435134 -1.106932 -0.969584\n",
       "5  0.392162 -1.188099  0.085240  0.619503  1.383734\n",
       "6  0.184605  0.967069  1.540843  1.541352  0.328992\n",
       "7  0.826029 -0.633755 -0.691732 -0.083241 -0.424969\n",
       "8 -0.437380  0.571359 -0.150109  1.017228 -1.254866\n",
       "9  1.131400 -0.116461  0.506424 -0.063850  1.420718"
      ]
     },
     "execution_count": 3,
     "metadata": {},
     "output_type": "execute_result"
    }
   ],
   "source": [
    "A=initpd(\"n\",n=10,p=5)\n",
    "A.columns=['XY1','XY2','XZ1','XZ2','X5']\n",
    "A"
   ]
  },
  {
   "cell_type": "code",
   "execution_count": 4,
   "metadata": {},
   "outputs": [],
   "source": [
    "push(A,\"A\")"
   ]
  },
  {
   "cell_type": "code",
   "execution_count": 5,
   "metadata": {},
   "outputs": [
    {
     "name": "stdout",
     "output_type": "stream",
     "text": [
      "          XY1         XY2         XZ1         XZ2        XZ3\n",
      "0  0.67576706  1.02851443 -2.29375667  1.22793799 -0.4911466\n",
      "1  0.91656930 -1.37886149 -1.41968210 -0.04409091 -1.0056772\n",
      "2  0.07466752 -0.89991740  0.08817412 -0.66405294  2.1056156\n",
      "3 -1.59671056 -0.61171969 -0.52515298 -1.13769479 -0.9702899\n",
      "4  0.35244876 -0.07904065 -0.43513431 -1.10693154 -0.9695842\n",
      "5  0.39216250 -1.18809930  0.08523992  0.61950274  1.3837342\n",
      "6  0.18460548  0.96706918  1.54084318  1.54135204  0.3289917\n",
      "7  0.82602929 -0.63375497 -0.69173243 -0.08324139 -0.4249692\n",
      "8 -0.43737978  0.57135887 -0.15010904  1.01722831 -1.2548662\n",
      "9  1.13139953 -0.11646091  0.50642424 -0.06385018  1.4207183\n"
     ]
    }
   ],
   "source": [
    "%%R \n",
    "rename(A,XZ3=X5)"
   ]
  },
  {
   "cell_type": "code",
   "execution_count": null,
   "metadata": {},
   "outputs": [],
   "source": []
  }
 ],
 "metadata": {
  "kernelspec": {
   "display_name": "Python 3",
   "language": "python",
   "name": "python3"
  },
  "language_info": {
   "codemirror_mode": {
    "name": "ipython",
    "version": 3
   },
   "file_extension": ".py",
   "mimetype": "text/x-python",
   "name": "python",
   "nbconvert_exporter": "python",
   "pygments_lexer": "ipython3",
   "version": "3.8.1"
  }
 },
 "nbformat": 4,
 "nbformat_minor": 4
}
