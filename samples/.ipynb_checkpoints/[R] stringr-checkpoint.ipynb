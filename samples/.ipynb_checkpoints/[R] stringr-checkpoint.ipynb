{
 "cells": [
  {
   "cell_type": "markdown",
   "metadata": {},
   "source": [
    "# `stringr`"
   ]
  },
  {
   "cell_type": "markdown",
   "metadata": {},
   "source": [
    "# 1. 패키지읽어오기 "
   ]
  },
  {
   "cell_type": "code",
   "execution_count": 1,
   "metadata": {},
   "outputs": [
    {
     "name": "stderr",
     "output_type": "stream",
     "text": [
      "── \u001b[1mAttaching packages\u001b[22m ─────────────────────────────────────── tidyverse 1.3.0 ──\n",
      "\n",
      "\u001b[32m✔\u001b[39m \u001b[34mggplot2\u001b[39m 3.3.2     \u001b[32m✔\u001b[39m \u001b[34mpurrr  \u001b[39m 0.3.4\n",
      "\u001b[32m✔\u001b[39m \u001b[34mtibble \u001b[39m 3.0.4     \u001b[32m✔\u001b[39m \u001b[34mdplyr  \u001b[39m 1.0.2\n",
      "\u001b[32m✔\u001b[39m \u001b[34mtidyr  \u001b[39m 1.1.2     \u001b[32m✔\u001b[39m \u001b[34mstringr\u001b[39m 1.4.0\n",
      "\u001b[32m✔\u001b[39m \u001b[34mreadr  \u001b[39m 1.4.0     \u001b[32m✔\u001b[39m \u001b[34mforcats\u001b[39m 0.5.0\n",
      "\n",
      "── \u001b[1mConflicts\u001b[22m ────────────────────────────────────────── tidyverse_conflicts() ──\n",
      "\u001b[31m✖\u001b[39m \u001b[34mdplyr\u001b[39m::\u001b[32mfilter()\u001b[39m masks \u001b[34mstats\u001b[39m::filter()\n",
      "\u001b[31m✖\u001b[39m \u001b[34mdplyr\u001b[39m::\u001b[32mlag()\u001b[39m    masks \u001b[34mstats\u001b[39m::lag()\n",
      "\n"
     ]
    }
   ],
   "source": [
    "library(tidyverse)"
   ]
  },
  {
   "cell_type": "markdown",
   "metadata": {},
   "source": [
    "# 2. `str_c()`"
   ]
  },
  {
   "cell_type": "markdown",
   "metadata": {},
   "source": [
    "### (1) 하나의 입력: `int`형을 `str`로 바꿀때 사용할 수 있음 "
   ]
  },
  {
   "cell_type": "code",
   "execution_count": 2,
   "metadata": {},
   "outputs": [
    {
     "data": {
      "text/html": [
       "'1'"
      ],
      "text/latex": [
       "'1'"
      ],
      "text/markdown": [
       "'1'"
      ],
      "text/plain": [
       "[1] \"1\""
      ]
     },
     "metadata": {},
     "output_type": "display_data"
    }
   ],
   "source": [
    "str_c(1)"
   ]
  },
  {
   "cell_type": "markdown",
   "metadata": {},
   "source": [
    "\\begin{align}\n",
    "\\begin{bmatrix} \n",
    "1 \n",
    "\\end{bmatrix} \\Longrightarrow \n",
    "\\begin{bmatrix} \n",
    "\\mbox{\"1\"} \n",
    "\\end{bmatrix}\n",
    "\\end{align}"
   ]
  },
  {
   "cell_type": "markdown",
   "metadata": {},
   "source": [
    "### (2) 하나의 입력: `int`로 이루어진 벡터는 `str`로 이루어진 문자형벡터로 변환"
   ]
  },
  {
   "cell_type": "code",
   "execution_count": 16,
   "metadata": {},
   "outputs": [
    {
     "data": {
      "text/html": [
       "<style>\n",
       ".list-inline {list-style: none; margin:0; padding: 0}\n",
       ".list-inline>li {display: inline-block}\n",
       ".list-inline>li:not(:last-child)::after {content: \"\\00b7\"; padding: 0 .5ex}\n",
       "</style>\n",
       "<ol class=list-inline><li>'1'</li><li>'2'</li><li>'3'</li><li>'4'</li><li>'5'</li></ol>\n"
      ],
      "text/latex": [
       "\\begin{enumerate*}\n",
       "\\item '1'\n",
       "\\item '2'\n",
       "\\item '3'\n",
       "\\item '4'\n",
       "\\item '5'\n",
       "\\end{enumerate*}\n"
      ],
      "text/markdown": [
       "1. '1'\n",
       "2. '2'\n",
       "3. '3'\n",
       "4. '4'\n",
       "5. '5'\n",
       "\n",
       "\n"
      ],
      "text/plain": [
       "[1] \"1\" \"2\" \"3\" \"4\" \"5\""
      ]
     },
     "metadata": {},
     "output_type": "display_data"
    }
   ],
   "source": [
    "str_c(1:5)"
   ]
  },
  {
   "cell_type": "markdown",
   "metadata": {},
   "source": [
    "\\begin{align}\n",
    "\\begin{bmatrix} \n",
    "1 \\\\\n",
    "2 \\\\\n",
    "3 \\\\\n",
    "4 \\\\\n",
    "5\n",
    "\\end{bmatrix} \\Longrightarrow \n",
    "\\begin{bmatrix} \n",
    "\\mbox{\"1\"} \\\\\n",
    "\\mbox{\"2\"} \\\\\n",
    "\\mbox{\"3\"} \\\\\n",
    "\\mbox{\"4\"} \\\\\n",
    "\\mbox{\"5\"} \n",
    "\\end{bmatrix}\n",
    "\\end{align}"
   ]
  },
  {
   "cell_type": "markdown",
   "metadata": {},
   "source": [
    "### (3) 여러개의 입력: 이어붙이는 능력이 있음 "
   ]
  },
  {
   "cell_type": "code",
   "execution_count": 12,
   "metadata": {},
   "outputs": [
    {
     "data": {
      "text/html": [
       "'x12'"
      ],
      "text/latex": [
       "'x12'"
      ],
      "text/markdown": [
       "'x12'"
      ],
      "text/plain": [
       "[1] \"x12\""
      ]
     },
     "metadata": {},
     "output_type": "display_data"
    }
   ],
   "source": [
    "str_c(\"x\",1,2)"
   ]
  },
  {
   "cell_type": "markdown",
   "metadata": {},
   "source": [
    "### (4) 잘 쓰이는 응용1 "
   ]
  },
  {
   "cell_type": "code",
   "execution_count": 17,
   "metadata": {},
   "outputs": [
    {
     "data": {
      "text/html": [
       "<style>\n",
       ".list-inline {list-style: none; margin:0; padding: 0}\n",
       ".list-inline>li {display: inline-block}\n",
       ".list-inline>li:not(:last-child)::after {content: \"\\00b7\"; padding: 0 .5ex}\n",
       "</style>\n",
       "<ol class=list-inline><li>'a1'</li><li>'a2'</li><li>'a3'</li><li>'a4'</li><li>'a5'</li></ol>\n"
      ],
      "text/latex": [
       "\\begin{enumerate*}\n",
       "\\item 'a1'\n",
       "\\item 'a2'\n",
       "\\item 'a3'\n",
       "\\item 'a4'\n",
       "\\item 'a5'\n",
       "\\end{enumerate*}\n"
      ],
      "text/markdown": [
       "1. 'a1'\n",
       "2. 'a2'\n",
       "3. 'a3'\n",
       "4. 'a4'\n",
       "5. 'a5'\n",
       "\n",
       "\n"
      ],
      "text/plain": [
       "[1] \"a1\" \"a2\" \"a3\" \"a4\" \"a5\""
      ]
     },
     "metadata": {},
     "output_type": "display_data"
    }
   ],
   "source": [
    "str_c(\"a\",1:5)"
   ]
  },
  {
   "cell_type": "markdown",
   "metadata": {},
   "source": [
    "\\begin{align}\n",
    "\\begin{bmatrix}\n",
    "\\mbox{\"a\"}\n",
    "\\end{bmatrix}\n",
    "\\begin{bmatrix} \n",
    "1 \\\\\n",
    "2 \\\\\n",
    "3 \\\\\n",
    "4 \\\\\n",
    "5\n",
    "\\end{bmatrix} \\Longrightarrow \n",
    "\\begin{bmatrix} \n",
    "\\mbox{\"a1\"} \\\\\n",
    "\\mbox{\"a2\"} \\\\\n",
    "\\mbox{\"a3\"} \\\\\n",
    "\\mbox{\"a4\"} \\\\\n",
    "\\mbox{\"a5\"} \n",
    "\\end{bmatrix}\n",
    "\\end{align}"
   ]
  },
  {
   "cell_type": "markdown",
   "metadata": {},
   "source": [
    "### (5) 잘 쓰이는 응용2"
   ]
  },
  {
   "cell_type": "code",
   "execution_count": 11,
   "metadata": {},
   "outputs": [
    {
     "data": {
      "text/html": [
       "<style>\n",
       ".list-inline {list-style: none; margin:0; padding: 0}\n",
       ".list-inline>li {display: inline-block}\n",
       ".list-inline>li:not(:last-child)::after {content: \"\\00b7\"; padding: 0 .5ex}\n",
       "</style>\n",
       "<ol class=list-inline><li>'1-2'</li><li>'2-3'</li><li>'3-4'</li><li>'4-5'</li><li>'5-6'</li></ol>\n"
      ],
      "text/latex": [
       "\\begin{enumerate*}\n",
       "\\item '1-2'\n",
       "\\item '2-3'\n",
       "\\item '3-4'\n",
       "\\item '4-5'\n",
       "\\item '5-6'\n",
       "\\end{enumerate*}\n"
      ],
      "text/markdown": [
       "1. '1-2'\n",
       "2. '2-3'\n",
       "3. '3-4'\n",
       "4. '4-5'\n",
       "5. '5-6'\n",
       "\n",
       "\n"
      ],
      "text/plain": [
       "[1] \"1-2\" \"2-3\" \"3-4\" \"4-5\" \"5-6\""
      ]
     },
     "metadata": {},
     "output_type": "display_data"
    }
   ],
   "source": [
    "str_c(1:5,'-',2:6)"
   ]
  },
  {
   "cell_type": "markdown",
   "metadata": {},
   "source": [
    "\\begin{align}\n",
    "\\begin{bmatrix} \n",
    "1 \\\\\n",
    "2 \\\\\n",
    "3 \\\\\n",
    "4 \\\\\n",
    "5\n",
    "\\end{bmatrix}\n",
    "\\begin{bmatrix}\n",
    "\\mbox{\"-\"}\n",
    "\\end{bmatrix}\n",
    "\\begin{bmatrix} \n",
    "2 \\\\\n",
    "3 \\\\\n",
    "4 \\\\\n",
    "5 \\\\\n",
    "6\n",
    "\\end{bmatrix}\n",
    "\\Longrightarrow \n",
    "\\begin{bmatrix} \n",
    "\\mbox{\"1-2\"} \\\\\n",
    "\\mbox{\"2-3\"} \\\\\n",
    "\\mbox{\"3-4\"} \\\\\n",
    "\\mbox{\"4-5\"} \\\\\n",
    "\\mbox{\"5-6\"} \n",
    "\\end{bmatrix}\n",
    "\\end{align}"
   ]
  },
  {
   "cell_type": "markdown",
   "metadata": {},
   "source": [
    "### (6) 잘쓰이는 응용3 "
   ]
  },
  {
   "cell_type": "code",
   "execution_count": 23,
   "metadata": {},
   "outputs": [
    {
     "data": {
      "text/html": [
       "<table>\n",
       "<caption>A tibble: 5 × 3</caption>\n",
       "<thead>\n",
       "\t<tr><th scope=col>year</th><th scope=col>date</th><th scope=col>time</th></tr>\n",
       "\t<tr><th scope=col>&lt;chr&gt;</th><th scope=col>&lt;chr&gt;</th><th scope=col>&lt;chr&gt;</th></tr>\n",
       "</thead>\n",
       "<tbody>\n",
       "\t<tr><td>2020</td><td>03-24</td><td>15:00:00</td></tr>\n",
       "\t<tr><td>2020</td><td>03-25</td><td>15:02:00</td></tr>\n",
       "\t<tr><td>2020</td><td>04-23</td><td>16:00:00</td></tr>\n",
       "\t<tr><td>2020</td><td>04-25</td><td>16:00:02</td></tr>\n",
       "\t<tr><td>2020</td><td>04-26</td><td>16:00:03</td></tr>\n",
       "</tbody>\n",
       "</table>\n"
      ],
      "text/latex": [
       "A tibble: 5 × 3\n",
       "\\begin{tabular}{lll}\n",
       " year & date & time\\\\\n",
       " <chr> & <chr> & <chr>\\\\\n",
       "\\hline\n",
       "\t 2020 & 03-24 & 15:00:00\\\\\n",
       "\t 2020 & 03-25 & 15:02:00\\\\\n",
       "\t 2020 & 04-23 & 16:00:00\\\\\n",
       "\t 2020 & 04-25 & 16:00:02\\\\\n",
       "\t 2020 & 04-26 & 16:00:03\\\\\n",
       "\\end{tabular}\n"
      ],
      "text/markdown": [
       "\n",
       "A tibble: 5 × 3\n",
       "\n",
       "| year &lt;chr&gt; | date &lt;chr&gt; | time &lt;chr&gt; |\n",
       "|---|---|---|\n",
       "| 2020 | 03-24 | 15:00:00 |\n",
       "| 2020 | 03-25 | 15:02:00 |\n",
       "| 2020 | 04-23 | 16:00:00 |\n",
       "| 2020 | 04-25 | 16:00:02 |\n",
       "| 2020 | 04-26 | 16:00:03 |\n",
       "\n"
      ],
      "text/plain": [
       "  year date  time    \n",
       "1 2020 03-24 15:00:00\n",
       "2 2020 03-25 15:02:00\n",
       "3 2020 04-23 16:00:00\n",
       "4 2020 04-25 16:00:02\n",
       "5 2020 04-26 16:00:03"
      ]
     },
     "metadata": {},
     "output_type": "display_data"
    }
   ],
   "source": [
    "year<-c(\"2020\",\"2020\",\"2020\",\"2020\",\"2020\")\n",
    "date<-c(\"03-24\",\"03-25\",\"04-23\",\"04-25\",\"04-26\")\n",
    "time<-c(\"15:00:00\",\"15:02:00\",\"16:00:00\",\"16:00:02\",\"16:00:03\")\n",
    "dfdata<-tibble(year=year,date=date,time=time)\n",
    "dfdata"
   ]
  },
  {
   "cell_type": "code",
   "execution_count": 29,
   "metadata": {},
   "outputs": [
    {
     "data": {
      "text/html": [
       "<table>\n",
       "<caption>A tibble: 5 × 4</caption>\n",
       "<thead>\n",
       "\t<tr><th scope=col>year</th><th scope=col>date</th><th scope=col>time</th><th scope=col>ymdhms</th></tr>\n",
       "\t<tr><th scope=col>&lt;chr&gt;</th><th scope=col>&lt;chr&gt;</th><th scope=col>&lt;chr&gt;</th><th scope=col>&lt;chr&gt;</th></tr>\n",
       "</thead>\n",
       "<tbody>\n",
       "\t<tr><td>2020</td><td>03-24</td><td>15:00:00</td><td>2020/03-24/15:00:00</td></tr>\n",
       "\t<tr><td>2020</td><td>03-25</td><td>15:02:00</td><td>2020/03-25/15:02:00</td></tr>\n",
       "\t<tr><td>2020</td><td>04-23</td><td>16:00:00</td><td>2020/04-23/16:00:00</td></tr>\n",
       "\t<tr><td>2020</td><td>04-25</td><td>16:00:02</td><td>2020/04-25/16:00:02</td></tr>\n",
       "\t<tr><td>2020</td><td>04-26</td><td>16:00:03</td><td>2020/04-26/16:00:03</td></tr>\n",
       "</tbody>\n",
       "</table>\n"
      ],
      "text/latex": [
       "A tibble: 5 × 4\n",
       "\\begin{tabular}{llll}\n",
       " year & date & time & ymdhms\\\\\n",
       " <chr> & <chr> & <chr> & <chr>\\\\\n",
       "\\hline\n",
       "\t 2020 & 03-24 & 15:00:00 & 2020/03-24/15:00:00\\\\\n",
       "\t 2020 & 03-25 & 15:02:00 & 2020/03-25/15:02:00\\\\\n",
       "\t 2020 & 04-23 & 16:00:00 & 2020/04-23/16:00:00\\\\\n",
       "\t 2020 & 04-25 & 16:00:02 & 2020/04-25/16:00:02\\\\\n",
       "\t 2020 & 04-26 & 16:00:03 & 2020/04-26/16:00:03\\\\\n",
       "\\end{tabular}\n"
      ],
      "text/markdown": [
       "\n",
       "A tibble: 5 × 4\n",
       "\n",
       "| year &lt;chr&gt; | date &lt;chr&gt; | time &lt;chr&gt; | ymdhms &lt;chr&gt; |\n",
       "|---|---|---|---|\n",
       "| 2020 | 03-24 | 15:00:00 | 2020/03-24/15:00:00 |\n",
       "| 2020 | 03-25 | 15:02:00 | 2020/03-25/15:02:00 |\n",
       "| 2020 | 04-23 | 16:00:00 | 2020/04-23/16:00:00 |\n",
       "| 2020 | 04-25 | 16:00:02 | 2020/04-25/16:00:02 |\n",
       "| 2020 | 04-26 | 16:00:03 | 2020/04-26/16:00:03 |\n",
       "\n"
      ],
      "text/plain": [
       "  year date  time     ymdhms             \n",
       "1 2020 03-24 15:00:00 2020/03-24/15:00:00\n",
       "2 2020 03-25 15:02:00 2020/03-25/15:02:00\n",
       "3 2020 04-23 16:00:00 2020/04-23/16:00:00\n",
       "4 2020 04-25 16:00:02 2020/04-25/16:00:02\n",
       "5 2020 04-26 16:00:03 2020/04-26/16:00:03"
      ]
     },
     "metadata": {},
     "output_type": "display_data"
    }
   ],
   "source": [
    "dfdata %>% mutate(ymdhms=str_c(year,'/',date,'/',time))"
   ]
  }
 ],
 "metadata": {
  "kernelspec": {
   "display_name": "R",
   "language": "R",
   "name": "ir"
  },
  "language_info": {
   "codemirror_mode": "r",
   "file_extension": ".r",
   "mimetype": "text/x-r-source",
   "name": "R",
   "pygments_lexer": "r",
   "version": "3.6.1"
  }
 },
 "nbformat": 4,
 "nbformat_minor": 4
}
