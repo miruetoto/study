{
 "cells": [
  {
   "cell_type": "markdown",
   "metadata": {},
   "source": [
    "# 1. 분석환경셋팅 "
   ]
  },
  {
   "cell_type": "code",
   "execution_count": 1,
   "metadata": {},
   "outputs": [
    {
     "name": "stderr",
     "output_type": "stream",
     "text": [
      "R[write to console]: Loading required package: usethis\n",
      "\n",
      "R[write to console]: ── \u001b[1mAttaching packages\u001b[22m ─────────────────────────────────────── tidyverse 1.3.0 ──\n",
      "\n",
      "R[write to console]: \u001b[32m✔\u001b[39m \u001b[34mggplot2\u001b[39m 3.3.2     \u001b[32m✔\u001b[39m \u001b[34mpurrr  \u001b[39m 0.3.4\n",
      "\u001b[32m✔\u001b[39m \u001b[34mtibble \u001b[39m 3.0.3     \u001b[32m✔\u001b[39m \u001b[34mdplyr  \u001b[39m 1.0.1\n",
      "\u001b[32m✔\u001b[39m \u001b[34mtidyr  \u001b[39m 1.1.1     \u001b[32m✔\u001b[39m \u001b[34mstringr\u001b[39m 1.4.0\n",
      "\u001b[32m✔\u001b[39m \u001b[34mreadr  \u001b[39m 1.3.1     \u001b[32m✔\u001b[39m \u001b[34mforcats\u001b[39m 0.5.0\n",
      "\n",
      "R[write to console]: ── \u001b[1mConflicts\u001b[22m ────────────────────────────────────────── tidyverse_conflicts() ──\n",
      "\u001b[31m✖\u001b[39m \u001b[34mdplyr\u001b[39m::\u001b[32mfilter()\u001b[39m masks \u001b[34mstats\u001b[39m::filter()\n",
      "\u001b[31m✖\u001b[39m \u001b[34mdplyr\u001b[39m::\u001b[32mlag()\u001b[39m    masks \u001b[34mstats\u001b[39m::lag()\n",
      "\n"
     ]
    }
   ],
   "source": [
    "import tensorflow as tf\n",
    "from tensorflow import keras\n",
    "import requests \n",
    "exec(requests.get(\"http://miruetoto.github.io/source/datahandling.py\").text)\n",
    "%load_ext rpy2.ipython"
   ]
  },
  {
   "cell_type": "code",
   "execution_count": 2,
   "metadata": {},
   "outputs": [
    {
     "name": "stdout",
     "output_type": "stream",
     "text": [
      "2.2.0\n",
      "GPU check 4 TensorFlow: /device:GPU:0\n"
     ]
    }
   ],
   "source": [
    "print(tf.__version__)\n",
    "checkgpu()"
   ]
  },
  {
   "cell_type": "markdown",
   "metadata": {},
   "source": [
    "# 2. Load data"
   ]
  },
  {
   "cell_type": "code",
   "execution_count": 3,
   "metadata": {},
   "outputs": [
    {
     "name": "stdout",
     "output_type": "stream",
     "text": [
      "Downloading data from https://storage.googleapis.com/tensorflow/tf-keras-datasets/mnist.npz\n",
      "11493376/11490434 [==============================] - 1s 0us/step\n"
     ]
    }
   ],
   "source": [
    "mnist=keras.datasets.mnist\n",
    "mnistdata=mnist.load_data()"
   ]
  },
  {
   "cell_type": "markdown",
   "metadata": {},
   "source": [
    "읽힌 자료는 아래와 같은 특징이 있다. \n",
    "- `mnistdata`는 len=2인 튜플이다.\n",
    "- `mnistdata[0]`에는 훈련집합이 담겨있고, `mnistdata[1]`에는 시험집합이 담겨있다. \n",
    "    - `mnistdata[0][0]`에는 train X 가 남겨있고, `mnistdata[0][1]`에는 train Y 가 담겨있다. \n",
    "    - `mnistdata[1][0]`에는 test X 가 남겨있고, `mnistdata[1][1]`에는 test Y 가 담겨있다. \n",
    "- `mnistdata[0][0]` = Xtrain = (60000,28,28) np array \n",
    "- `mnistdata[0][1]` = Ytrain = (60000,) np array \n",
    "- `mnistdata[1][0]` = Xtest = (10000,28,28) np array \n",
    "- `mnistdata[1][1]` = Ytest = (10000,) np array \n"
   ]
  },
  {
   "cell_type": "markdown",
   "metadata": {},
   "source": [
    "아래와 같은 방식으로 자료를 저장한다 "
   ]
  },
  {
   "cell_type": "code",
   "execution_count": 4,
   "metadata": {},
   "outputs": [],
   "source": [
    "(Xtrain,Ytrain),(Xtest,Ytest)= mnistdata"
   ]
  },
  {
   "cell_type": "markdown",
   "metadata": {},
   "source": [
    "# 3. 데이터가공 (reshape,astype)"
   ]
  },
  {
   "cell_type": "code",
   "execution_count": 5,
   "metadata": {},
   "outputs": [],
   "source": [
    "Xtrain=Xtrain.reshape(60000,784)\n",
    "Xtest=Xtest.reshape(10000,784)\n",
    "Xtrain=Xtrain.astype('float32')\n",
    "Xtest=Xtest.astype('float32')\n",
    "Xtrain/=255\n",
    "Xtest/=255\n",
    "Ytrain=tf.keras.utils.to_categorical(Ytrain,10) # 10은 카테고리의 총 수, 즉 0~9까지의 숫자\n",
    "Ytest=tf.keras.utils.to_categorical(Ytest,10) "
   ]
  },
  {
   "cell_type": "markdown",
   "metadata": {},
   "source": [
    "(1) `reshape`: MLP를 돌리기 위해서 X의 차원을 (60000,28,28) np array 에서 (60000,784) np array 로 바꾼다. \n",
    "\n",
    "(2) `astype`: X의 자료형을 'unit8'에서 'float32'로 바꿔준다. \n",
    "\n",
    "(3) X의 값은 0-255로 분포되어 있는데 이를 0-1사이값으로 분포하게 바꾼다.\n",
    "\n",
    "(4) Y의 값은 원핫인코딩 \n",
    "\n",
    "***Note: 원핫인코딩후에는 Y의 차원이 (60000,1) 에서 (60000,10)으로 바뀐다.***\n",
    "\n",
    "***Note: 2)를 거치지 않으면 3)이 실행되지 않음. 즉 자료형이 float32일 경우에만 3)이 실행가능.***"
   ]
  },
  {
   "cell_type": "markdown",
   "metadata": {},
   "source": [
    "# 4. 모델구축 / 아키텍쳐 설계 / 모델링"
   ]
  },
  {
   "cell_type": "code",
   "execution_count": 6,
   "metadata": {},
   "outputs": [
    {
     "name": "stdout",
     "output_type": "stream",
     "text": [
      "Model: \"sequential\"\n",
      "_________________________________________________________________\n",
      "Layer (type)                 Output Shape              Param #   \n",
      "=================================================================\n",
      "inputlayer (Dense)           (None, 128)               100480    \n",
      "_________________________________________________________________\n",
      "hiddenlayer1 (Dense)         (None, 128)               16512     \n",
      "_________________________________________________________________\n",
      "dropout (Dropout)            (None, 128)               0         \n",
      "_________________________________________________________________\n",
      "outputlayer (Dense)          (None, 10)                1290      \n",
      "=================================================================\n",
      "Total params: 118,282\n",
      "Trainable params: 118,282\n",
      "Non-trainable params: 0\n",
      "_________________________________________________________________\n",
      "Failed to import pydot. You must install pydot and graphviz for `pydotprint` to work.\n"
     ]
    }
   ],
   "source": [
    "model1 = tf.keras.models.Sequential()\n",
    "model2 = tf.keras.models.Sequential()\n",
    "model1.add(keras.layers.Dense(128,input_shape=(784,),name='inputlayer',activation='relu'))\n",
    "model1.add(keras.layers.Dense(128,name='hiddenlayer1',activation='relu',\n",
    "                              kernel_regularizer=tf.keras.regularizers.l1(0.01),\n",
    "                              activity_regularizer=tf.keras.regularizers.l1_l2(l1=0.01, l2=0.01)))\n",
    "model1.add(keras.layers.Dropout(0.3))\n",
    "model1.add(keras.layers.Dense(10,name='outputlayer',activation='softmax'))\n",
    "model1.summary()\n",
    "tf.keras.utils.plot_model(model1,to_file='model1.png')\n",
    "model1.compile(optimizer='Adam',loss='categorical_crossentropy',metrics=['accuracy'])"
   ]
  },
  {
   "cell_type": "markdown",
   "metadata": {},
   "source": [
    "## **몇가지노트**\n",
    "\n",
    "(1) 파라메터 계산하는 방법: \n",
    "- L0의 경우 입력이 (n,784)출력이 (n,128)이다. 따라서 추정할 파라메터의 수는 (784+1) * 128 = 100480 이다. \n",
    "\n",
    "(2) 옵티마이저 바꾸는 방법: \n",
    "- `model1.compile(optimizer='SGD',loss='categorical_crossentropy',metrics=['accuracy'])`\n",
    "- `model1.compile(optimizer='RMSprop',loss='categorical_crossentropy',metrics=['accuracy'])`\n",
    "- `model1.compile(optimizer='Adam',loss='categorical_crossentropy',metrics=['accuracy'])`\n",
    "- https://www.tensorflow.org/versions/r2.2/api_docs/python/tf/keras/optimizers\n",
    "\n",
    "(3) 활성화함수 종류: \n",
    "- 'softmax','linear','relu','tanh','elu' \n",
    "- https://www.tensorflow.org/versions/r2.2/api_docs/python/tf/keras/activations\n",
    "\n",
    "(4) regularizers\n",
    "- https://www.tensorflow.org/versions/r2.2/api_docs/python/tf/keras/regularizers\n",
    "\n",
    "(5) metrics\n",
    "- https://www.tensorflow.org/versions/r2.2/api_docs/python/tf/keras/metrics\n",
    "\n",
    "(6) loss\n",
    "- https://www.tensorflow.org/versions/r2.2/api_docs/python/tf/keras/losses"
   ]
  },
  {
   "cell_type": "markdown",
   "metadata": {},
   "source": [
    "# 5. 모델훈련 / 계수찾기 "
   ]
  },
  {
   "cell_type": "code",
   "execution_count": 12,
   "metadata": {},
   "outputs": [
    {
     "name": "stdout",
     "output_type": "stream",
     "text": [
      "Epoch 1/100\n",
      "47/47 [==============================] - 0s 4ms/step - loss: 0.6684 - accuracy: 0.9208 - val_loss: 0.6014 - val_accuracy: 0.9318\n",
      "Epoch 2/100\n",
      "47/47 [==============================] - 0s 3ms/step - loss: 0.6416 - accuracy: 0.9227 - val_loss: 0.5810 - val_accuracy: 0.9335\n",
      "Epoch 3/100\n",
      "47/47 [==============================] - 0s 3ms/step - loss: 0.6158 - accuracy: 0.9248 - val_loss: 0.5604 - val_accuracy: 0.9347\n",
      "Epoch 4/100\n",
      "47/47 [==============================] - 0s 3ms/step - loss: 0.5974 - accuracy: 0.9262 - val_loss: 0.5456 - val_accuracy: 0.9369\n",
      "Epoch 5/100\n",
      "47/47 [==============================] - 0s 3ms/step - loss: 0.5832 - accuracy: 0.9274 - val_loss: 0.5275 - val_accuracy: 0.9370\n",
      "Epoch 6/100\n",
      "47/47 [==============================] - 0s 3ms/step - loss: 0.5657 - accuracy: 0.9293 - val_loss: 0.5162 - val_accuracy: 0.9398\n",
      "Epoch 7/100\n",
      "47/47 [==============================] - 0s 3ms/step - loss: 0.5527 - accuracy: 0.9303 - val_loss: 0.5057 - val_accuracy: 0.9405\n",
      "Epoch 8/100\n",
      "47/47 [==============================] - 0s 3ms/step - loss: 0.5409 - accuracy: 0.9319 - val_loss: 0.4962 - val_accuracy: 0.9397\n",
      "Epoch 9/100\n",
      "47/47 [==============================] - 0s 3ms/step - loss: 0.5276 - accuracy: 0.9337 - val_loss: 0.4839 - val_accuracy: 0.9422\n",
      "Epoch 10/100\n",
      "47/47 [==============================] - 0s 3ms/step - loss: 0.5179 - accuracy: 0.9333 - val_loss: 0.4770 - val_accuracy: 0.9398\n",
      "Epoch 11/100\n",
      "47/47 [==============================] - 0s 3ms/step - loss: 0.5088 - accuracy: 0.9345 - val_loss: 0.4653 - val_accuracy: 0.9438\n",
      "Epoch 12/100\n",
      "47/47 [==============================] - 0s 3ms/step - loss: 0.4979 - accuracy: 0.9356 - val_loss: 0.4583 - val_accuracy: 0.9450\n",
      "Epoch 13/100\n",
      "47/47 [==============================] - 0s 3ms/step - loss: 0.4871 - accuracy: 0.9375 - val_loss: 0.4421 - val_accuracy: 0.9468\n",
      "Epoch 14/100\n",
      "47/47 [==============================] - 0s 3ms/step - loss: 0.4817 - accuracy: 0.9378 - val_loss: 0.4380 - val_accuracy: 0.9468\n",
      "Epoch 15/100\n",
      "47/47 [==============================] - 0s 3ms/step - loss: 0.4732 - accuracy: 0.9393 - val_loss: 0.4291 - val_accuracy: 0.9496\n",
      "Epoch 16/100\n",
      "47/47 [==============================] - 0s 3ms/step - loss: 0.4645 - accuracy: 0.9392 - val_loss: 0.4226 - val_accuracy: 0.9488\n",
      "Epoch 17/100\n",
      "47/47 [==============================] - 0s 3ms/step - loss: 0.4587 - accuracy: 0.9405 - val_loss: 0.4199 - val_accuracy: 0.9504\n",
      "Epoch 18/100\n",
      "47/47 [==============================] - 0s 3ms/step - loss: 0.4516 - accuracy: 0.9417 - val_loss: 0.4099 - val_accuracy: 0.9506\n",
      "Epoch 19/100\n",
      "47/47 [==============================] - 0s 3ms/step - loss: 0.4433 - accuracy: 0.9428 - val_loss: 0.4035 - val_accuracy: 0.9513\n",
      "Epoch 20/100\n",
      "47/47 [==============================] - 0s 3ms/step - loss: 0.4377 - accuracy: 0.9420 - val_loss: 0.4042 - val_accuracy: 0.9508\n",
      "Epoch 21/100\n",
      "47/47 [==============================] - 0s 3ms/step - loss: 0.4312 - accuracy: 0.9446 - val_loss: 0.3970 - val_accuracy: 0.9516\n",
      "Epoch 22/100\n",
      "47/47 [==============================] - 0s 3ms/step - loss: 0.4271 - accuracy: 0.9429 - val_loss: 0.3941 - val_accuracy: 0.9523\n",
      "Epoch 23/100\n",
      "47/47 [==============================] - 0s 3ms/step - loss: 0.4225 - accuracy: 0.9451 - val_loss: 0.3831 - val_accuracy: 0.9533\n",
      "Epoch 24/100\n",
      "47/47 [==============================] - 0s 3ms/step - loss: 0.4153 - accuracy: 0.9456 - val_loss: 0.3796 - val_accuracy: 0.9543\n",
      "Epoch 25/100\n",
      "47/47 [==============================] - 0s 3ms/step - loss: 0.4113 - accuracy: 0.9467 - val_loss: 0.3763 - val_accuracy: 0.9552\n",
      "Epoch 26/100\n",
      "47/47 [==============================] - 0s 3ms/step - loss: 0.4078 - accuracy: 0.9472 - val_loss: 0.3709 - val_accuracy: 0.9553\n",
      "Epoch 27/100\n",
      "47/47 [==============================] - 0s 3ms/step - loss: 0.3996 - accuracy: 0.9479 - val_loss: 0.3674 - val_accuracy: 0.9563\n",
      "Epoch 28/100\n",
      "47/47 [==============================] - 0s 3ms/step - loss: 0.4008 - accuracy: 0.9478 - val_loss: 0.3640 - val_accuracy: 0.9558\n",
      "Epoch 29/100\n",
      "47/47 [==============================] - 0s 3ms/step - loss: 0.3929 - accuracy: 0.9489 - val_loss: 0.3614 - val_accuracy: 0.9564\n",
      "Epoch 30/100\n",
      "47/47 [==============================] - 0s 3ms/step - loss: 0.3873 - accuracy: 0.9510 - val_loss: 0.3574 - val_accuracy: 0.9567\n",
      "Epoch 31/100\n",
      "47/47 [==============================] - 0s 3ms/step - loss: 0.3846 - accuracy: 0.9504 - val_loss: 0.3587 - val_accuracy: 0.9560\n",
      "Epoch 32/100\n",
      "47/47 [==============================] - 0s 3ms/step - loss: 0.3796 - accuracy: 0.9512 - val_loss: 0.3510 - val_accuracy: 0.9572\n",
      "Epoch 33/100\n",
      "47/47 [==============================] - 0s 3ms/step - loss: 0.3769 - accuracy: 0.9520 - val_loss: 0.3459 - val_accuracy: 0.9577\n",
      "Epoch 34/100\n",
      "47/47 [==============================] - 0s 4ms/step - loss: 0.3731 - accuracy: 0.9522 - val_loss: 0.3504 - val_accuracy: 0.9574\n",
      "Epoch 35/100\n",
      "47/47 [==============================] - 0s 3ms/step - loss: 0.3699 - accuracy: 0.9524 - val_loss: 0.3402 - val_accuracy: 0.9588\n",
      "Epoch 36/100\n",
      "47/47 [==============================] - 0s 3ms/step - loss: 0.3679 - accuracy: 0.9523 - val_loss: 0.3383 - val_accuracy: 0.9589\n",
      "Epoch 37/100\n",
      "47/47 [==============================] - 0s 3ms/step - loss: 0.3616 - accuracy: 0.9537 - val_loss: 0.3361 - val_accuracy: 0.9582\n",
      "Epoch 38/100\n",
      "47/47 [==============================] - 0s 3ms/step - loss: 0.3609 - accuracy: 0.9533 - val_loss: 0.3342 - val_accuracy: 0.9603\n",
      "Epoch 39/100\n",
      "47/47 [==============================] - 0s 3ms/step - loss: 0.3567 - accuracy: 0.9543 - val_loss: 0.3323 - val_accuracy: 0.9597\n",
      "Epoch 40/100\n",
      "47/47 [==============================] - 0s 3ms/step - loss: 0.3556 - accuracy: 0.9542 - val_loss: 0.3275 - val_accuracy: 0.9600\n",
      "Epoch 41/100\n",
      "47/47 [==============================] - 0s 3ms/step - loss: 0.3515 - accuracy: 0.9542 - val_loss: 0.3293 - val_accuracy: 0.9586\n",
      "Epoch 42/100\n",
      "47/47 [==============================] - 0s 3ms/step - loss: 0.3476 - accuracy: 0.9561 - val_loss: 0.3220 - val_accuracy: 0.9610\n",
      "Epoch 43/100\n",
      "47/47 [==============================] - 0s 3ms/step - loss: 0.3452 - accuracy: 0.9563 - val_loss: 0.3181 - val_accuracy: 0.9611\n",
      "Epoch 44/100\n",
      "47/47 [==============================] - 0s 3ms/step - loss: 0.3415 - accuracy: 0.9564 - val_loss: 0.3204 - val_accuracy: 0.9610\n",
      "Epoch 45/100\n",
      "47/47 [==============================] - 0s 3ms/step - loss: 0.3386 - accuracy: 0.9563 - val_loss: 0.3175 - val_accuracy: 0.9613\n",
      "Epoch 46/100\n",
      "47/47 [==============================] - 0s 3ms/step - loss: 0.3370 - accuracy: 0.9571 - val_loss: 0.3160 - val_accuracy: 0.9619\n",
      "Epoch 47/100\n",
      "47/47 [==============================] - 0s 3ms/step - loss: 0.3317 - accuracy: 0.9581 - val_loss: 0.3162 - val_accuracy: 0.9588\n",
      "Epoch 48/100\n",
      "47/47 [==============================] - 0s 3ms/step - loss: 0.3328 - accuracy: 0.9570 - val_loss: 0.3114 - val_accuracy: 0.9616\n",
      "Epoch 49/100\n",
      "47/47 [==============================] - 0s 3ms/step - loss: 0.3296 - accuracy: 0.9576 - val_loss: 0.3080 - val_accuracy: 0.9621\n",
      "Epoch 50/100\n",
      "47/47 [==============================] - 0s 3ms/step - loss: 0.3270 - accuracy: 0.9578 - val_loss: 0.3108 - val_accuracy: 0.9617\n",
      "Epoch 51/100\n",
      "47/47 [==============================] - 0s 3ms/step - loss: 0.3209 - accuracy: 0.9600 - val_loss: 0.3021 - val_accuracy: 0.9639\n",
      "Epoch 52/100\n",
      "47/47 [==============================] - 0s 3ms/step - loss: 0.3209 - accuracy: 0.9593 - val_loss: 0.3022 - val_accuracy: 0.9629\n",
      "Epoch 53/100\n",
      "47/47 [==============================] - 0s 3ms/step - loss: 0.3221 - accuracy: 0.9599 - val_loss: 0.3061 - val_accuracy: 0.9631\n",
      "Epoch 54/100\n",
      "47/47 [==============================] - 0s 3ms/step - loss: 0.3186 - accuracy: 0.9593 - val_loss: 0.2996 - val_accuracy: 0.9625\n",
      "Epoch 55/100\n",
      "47/47 [==============================] - 0s 3ms/step - loss: 0.3127 - accuracy: 0.9598 - val_loss: 0.2959 - val_accuracy: 0.9632\n",
      "Epoch 56/100\n",
      "47/47 [==============================] - 0s 3ms/step - loss: 0.3104 - accuracy: 0.9613 - val_loss: 0.2944 - val_accuracy: 0.9635\n",
      "Epoch 57/100\n",
      "47/47 [==============================] - 0s 3ms/step - loss: 0.3123 - accuracy: 0.9598 - val_loss: 0.2962 - val_accuracy: 0.9632\n",
      "Epoch 58/100\n",
      "47/47 [==============================] - 0s 3ms/step - loss: 0.3119 - accuracy: 0.9605 - val_loss: 0.2965 - val_accuracy: 0.9624\n",
      "Epoch 59/100\n",
      "47/47 [==============================] - 0s 3ms/step - loss: 0.3080 - accuracy: 0.9612 - val_loss: 0.2894 - val_accuracy: 0.9636\n",
      "Epoch 60/100\n",
      "47/47 [==============================] - 0s 3ms/step - loss: 0.3031 - accuracy: 0.9623 - val_loss: 0.2938 - val_accuracy: 0.9624\n",
      "Epoch 61/100\n",
      "47/47 [==============================] - 0s 3ms/step - loss: 0.3067 - accuracy: 0.9611 - val_loss: 0.2954 - val_accuracy: 0.9635\n",
      "Epoch 62/100\n",
      "47/47 [==============================] - 0s 3ms/step - loss: 0.3043 - accuracy: 0.9617 - val_loss: 0.2928 - val_accuracy: 0.9627\n",
      "Epoch 63/100\n",
      "47/47 [==============================] - 0s 3ms/step - loss: 0.3043 - accuracy: 0.9612 - val_loss: 0.2892 - val_accuracy: 0.9643\n",
      "Epoch 64/100\n",
      "47/47 [==============================] - 0s 3ms/step - loss: 0.2992 - accuracy: 0.9620 - val_loss: 0.2839 - val_accuracy: 0.9643\n",
      "Epoch 65/100\n",
      "47/47 [==============================] - 0s 3ms/step - loss: 0.2958 - accuracy: 0.9627 - val_loss: 0.2838 - val_accuracy: 0.9640\n",
      "Epoch 66/100\n",
      "47/47 [==============================] - 0s 3ms/step - loss: 0.2964 - accuracy: 0.9635 - val_loss: 0.2803 - val_accuracy: 0.9645\n",
      "Epoch 67/100\n",
      "47/47 [==============================] - 0s 3ms/step - loss: 0.2914 - accuracy: 0.9638 - val_loss: 0.2840 - val_accuracy: 0.9638\n",
      "Epoch 68/100\n",
      "47/47 [==============================] - 0s 3ms/step - loss: 0.2903 - accuracy: 0.9640 - val_loss: 0.2801 - val_accuracy: 0.9648\n",
      "Epoch 69/100\n",
      "47/47 [==============================] - 0s 3ms/step - loss: 0.2875 - accuracy: 0.9639 - val_loss: 0.2807 - val_accuracy: 0.9653\n",
      "Epoch 70/100\n",
      "47/47 [==============================] - 0s 3ms/step - loss: 0.2858 - accuracy: 0.9643 - val_loss: 0.2751 - val_accuracy: 0.9655\n",
      "Epoch 71/100\n",
      "47/47 [==============================] - 0s 3ms/step - loss: 0.2848 - accuracy: 0.9640 - val_loss: 0.2726 - val_accuracy: 0.9661\n",
      "Epoch 72/100\n",
      "47/47 [==============================] - 0s 3ms/step - loss: 0.2847 - accuracy: 0.9647 - val_loss: 0.2746 - val_accuracy: 0.9658\n",
      "Epoch 73/100\n",
      "47/47 [==============================] - 0s 3ms/step - loss: 0.2811 - accuracy: 0.9648 - val_loss: 0.2742 - val_accuracy: 0.9648\n",
      "Epoch 74/100\n",
      "47/47 [==============================] - 0s 3ms/step - loss: 0.2825 - accuracy: 0.9643 - val_loss: 0.2729 - val_accuracy: 0.9649\n",
      "Epoch 75/100\n",
      "47/47 [==============================] - 0s 3ms/step - loss: 0.2819 - accuracy: 0.9656 - val_loss: 0.2760 - val_accuracy: 0.9644\n",
      "Epoch 76/100\n",
      "47/47 [==============================] - 0s 3ms/step - loss: 0.2773 - accuracy: 0.9656 - val_loss: 0.2736 - val_accuracy: 0.9652\n",
      "Epoch 77/100\n",
      "47/47 [==============================] - 0s 3ms/step - loss: 0.2748 - accuracy: 0.9656 - val_loss: 0.2699 - val_accuracy: 0.9661\n",
      "Epoch 78/100\n",
      "47/47 [==============================] - 0s 3ms/step - loss: 0.2771 - accuracy: 0.9650 - val_loss: 0.2725 - val_accuracy: 0.9641\n",
      "Epoch 79/100\n",
      "47/47 [==============================] - 0s 3ms/step - loss: 0.2760 - accuracy: 0.9664 - val_loss: 0.2691 - val_accuracy: 0.9661\n",
      "Epoch 80/100\n",
      "47/47 [==============================] - 0s 3ms/step - loss: 0.2714 - accuracy: 0.9670 - val_loss: 0.2672 - val_accuracy: 0.9668\n",
      "Epoch 81/100\n",
      "47/47 [==============================] - 0s 3ms/step - loss: 0.2725 - accuracy: 0.9663 - val_loss: 0.2678 - val_accuracy: 0.9670\n",
      "Epoch 82/100\n",
      "47/47 [==============================] - 0s 3ms/step - loss: 0.2705 - accuracy: 0.9670 - val_loss: 0.2675 - val_accuracy: 0.9662\n",
      "Epoch 83/100\n",
      "47/47 [==============================] - 0s 3ms/step - loss: 0.2692 - accuracy: 0.9670 - val_loss: 0.2619 - val_accuracy: 0.9682\n",
      "Epoch 84/100\n",
      "47/47 [==============================] - 0s 3ms/step - loss: 0.2671 - accuracy: 0.9672 - val_loss: 0.2633 - val_accuracy: 0.9669\n",
      "Epoch 85/100\n",
      "47/47 [==============================] - 0s 3ms/step - loss: 0.2659 - accuracy: 0.9675 - val_loss: 0.2644 - val_accuracy: 0.9671\n",
      "Epoch 86/100\n",
      "47/47 [==============================] - 0s 3ms/step - loss: 0.2672 - accuracy: 0.9673 - val_loss: 0.2622 - val_accuracy: 0.9663\n",
      "Epoch 87/100\n",
      "47/47 [==============================] - 0s 3ms/step - loss: 0.2643 - accuracy: 0.9677 - val_loss: 0.2640 - val_accuracy: 0.9657\n",
      "Epoch 88/100\n",
      "47/47 [==============================] - 0s 3ms/step - loss: 0.2653 - accuracy: 0.9678 - val_loss: 0.2662 - val_accuracy: 0.9662\n",
      "Epoch 89/100\n",
      "47/47 [==============================] - 0s 3ms/step - loss: 0.2625 - accuracy: 0.9680 - val_loss: 0.2608 - val_accuracy: 0.9655\n",
      "Epoch 90/100\n",
      "47/47 [==============================] - 0s 3ms/step - loss: 0.2602 - accuracy: 0.9687 - val_loss: 0.2614 - val_accuracy: 0.9657\n",
      "Epoch 91/100\n",
      "47/47 [==============================] - 0s 3ms/step - loss: 0.2614 - accuracy: 0.9680 - val_loss: 0.2640 - val_accuracy: 0.9657\n",
      "Epoch 92/100\n",
      "47/47 [==============================] - 0s 3ms/step - loss: 0.2612 - accuracy: 0.9678 - val_loss: 0.2637 - val_accuracy: 0.9647\n",
      "Epoch 93/100\n",
      "47/47 [==============================] - 0s 3ms/step - loss: 0.2590 - accuracy: 0.9683 - val_loss: 0.2551 - val_accuracy: 0.9682\n",
      "Epoch 94/100\n",
      "47/47 [==============================] - 0s 3ms/step - loss: 0.2555 - accuracy: 0.9680 - val_loss: 0.2590 - val_accuracy: 0.9670\n",
      "Epoch 95/100\n",
      "47/47 [==============================] - 0s 3ms/step - loss: 0.2572 - accuracy: 0.9684 - val_loss: 0.2580 - val_accuracy: 0.9668\n",
      "Epoch 96/100\n",
      "47/47 [==============================] - 0s 3ms/step - loss: 0.2565 - accuracy: 0.9688 - val_loss: 0.2595 - val_accuracy: 0.9664\n",
      "Epoch 97/100\n",
      "47/47 [==============================] - 0s 3ms/step - loss: 0.2517 - accuracy: 0.9701 - val_loss: 0.2568 - val_accuracy: 0.9684\n",
      "Epoch 98/100\n",
      "47/47 [==============================] - 0s 3ms/step - loss: 0.2532 - accuracy: 0.9687 - val_loss: 0.2574 - val_accuracy: 0.9663\n",
      "Epoch 99/100\n",
      "47/47 [==============================] - 0s 3ms/step - loss: 0.2529 - accuracy: 0.9697 - val_loss: 0.2561 - val_accuracy: 0.9679\n",
      "Epoch 100/100\n",
      "47/47 [==============================] - 0s 3ms/step - loss: 0.2511 - accuracy: 0.9698 - val_loss: 0.2493 - val_accuracy: 0.9664\n"
     ]
    },
    {
     "data": {
      "text/plain": [
       "<tensorflow.python.keras.callbacks.History at 0x7f79dc0f8dc0>"
      ]
     },
     "execution_count": 12,
     "metadata": {},
     "output_type": "execute_result"
    }
   ],
   "source": [
    "callbacks=[tf.keras.callbacks.TensorBoard(log_dir='./logs')]\n",
    "model1.fit(Xtrain,Ytrain,batch_size=1028,epochs=100,verbose=1, validation_split=0.2,callbacks=callbacks)"
   ]
  },
  {
   "cell_type": "markdown",
   "metadata": {},
   "source": [
    "훈련과정 텐서보드로 확인 : 커멘드에서 `tensorboard --logdir logs --host 192.168.0.25 --port 6007` 를 입력"
   ]
  },
  {
   "cell_type": "markdown",
   "metadata": {},
   "source": [
    "# 6. 모델저장"
   ]
  },
  {
   "cell_type": "code",
   "execution_count": 13,
   "metadata": {
    "scrolled": true
   },
   "outputs": [],
   "source": [
    "# model1.save_weights('./weights/model1')\n",
    "# model1.load_weights('./weights/model1')"
   ]
  },
  {
   "cell_type": "markdown",
   "metadata": {},
   "source": [
    "훈련시킨 model1의 계수를 저장한뒤에 저장된 계수를 다시 불러와서 model1에 덮어씌움. "
   ]
  },
  {
   "cell_type": "code",
   "execution_count": 14,
   "metadata": {},
   "outputs": [],
   "source": [
    "# model1.save('my_model.h5')\n",
    "# model2 = tf.keras.models.load_model('my_model.h5')"
   ]
  },
  {
   "cell_type": "markdown",
   "metadata": {},
   "source": [
    "훈련시킨 model1을 'my_model.h5'에 저장한뒤 그것을 model2에 load함. "
   ]
  },
  {
   "cell_type": "markdown",
   "metadata": {},
   "source": [
    "# 7. $X\\hat{\\beta}$ 구하기 /  Fitted value / Prediction "
   ]
  },
  {
   "cell_type": "code",
   "execution_count": 16,
   "metadata": {},
   "outputs": [
    {
     "data": {
      "text/html": [
       "<div>\n",
       "<style scoped>\n",
       "    .dataframe tbody tr th:only-of-type {\n",
       "        vertical-align: middle;\n",
       "    }\n",
       "\n",
       "    .dataframe tbody tr th {\n",
       "        vertical-align: top;\n",
       "    }\n",
       "\n",
       "    .dataframe thead th {\n",
       "        text-align: right;\n",
       "    }\n",
       "</style>\n",
       "<table border=\"1\" class=\"dataframe\">\n",
       "  <thead>\n",
       "    <tr style=\"text-align: right;\">\n",
       "      <th></th>\n",
       "      <th>0</th>\n",
       "      <th>1</th>\n",
       "      <th>2</th>\n",
       "      <th>3</th>\n",
       "      <th>4</th>\n",
       "      <th>5</th>\n",
       "      <th>6</th>\n",
       "      <th>7</th>\n",
       "      <th>8</th>\n",
       "      <th>9</th>\n",
       "    </tr>\n",
       "  </thead>\n",
       "  <tbody>\n",
       "    <tr>\n",
       "      <th>0</th>\n",
       "      <td>0.000273</td>\n",
       "      <td>0.000408</td>\n",
       "      <td>0.000551</td>\n",
       "      <td>0.1935</td>\n",
       "      <td>0.000014</td>\n",
       "      <td>0.800909</td>\n",
       "      <td>0.000075</td>\n",
       "      <td>0.002489</td>\n",
       "      <td>0.00011</td>\n",
       "      <td>0.001669</td>\n",
       "    </tr>\n",
       "    <tr>\n",
       "      <th>1</th>\n",
       "      <td>0.000000</td>\n",
       "      <td>0.000000</td>\n",
       "      <td>0.000000</td>\n",
       "      <td>0.0000</td>\n",
       "      <td>0.000000</td>\n",
       "      <td>1.000000</td>\n",
       "      <td>0.000000</td>\n",
       "      <td>0.000000</td>\n",
       "      <td>0.00000</td>\n",
       "      <td>0.000000</td>\n",
       "    </tr>\n",
       "  </tbody>\n",
       "</table>\n",
       "</div>"
      ],
      "text/plain": [
       "          0         1         2       3         4         5         6  \\\n",
       "0  0.000273  0.000408  0.000551  0.1935  0.000014  0.800909  0.000075   \n",
       "1  0.000000  0.000000  0.000000  0.0000  0.000000  1.000000  0.000000   \n",
       "\n",
       "          7        8         9  \n",
       "0  0.002489  0.00011  0.001669  \n",
       "1  0.000000  0.00000  0.000000  "
      ]
     },
     "execution_count": 16,
     "metadata": {},
     "output_type": "execute_result"
    }
   ],
   "source": [
    "Yhattrain=model1.predict(Xtrain)\n",
    "Yhattest=model1.predict(Xtest)\n",
    "pd.DataFrame(rbind(Yhattrain[0],Ytrain[0]))"
   ]
  },
  {
   "cell_type": "markdown",
   "metadata": {},
   "source": [
    "## ***모형을 평가하는 방법***"
   ]
  },
  {
   "cell_type": "code",
   "execution_count": 17,
   "metadata": {},
   "outputs": [
    {
     "name": "stdout",
     "output_type": "stream",
     "text": [
      "1875/1875 [==============================] - 2s 1ms/step - loss: 0.2395 - accuracy: 0.9741\n",
      "313/313 [==============================] - 0s 1ms/step - loss: 0.2595 - accuracy: 0.9647\n",
      "0.23953363299369812 0.9740999937057495\n",
      "0.2594677805900574 0.9646999835968018\n"
     ]
    }
   ],
   "source": [
    "trainloss,trainacc = model1.evaluate(Xtrain,Ytrain)\n",
    "testloss,testacc = model1.evaluate(Xtest,Ytest)\n",
    "print(trainloss,trainacc)\n",
    "print(testloss,testacc)"
   ]
  }
 ],
 "metadata": {
  "kernelspec": {
   "display_name": "Python 3",
   "language": "python",
   "name": "python3"
  },
  "language_info": {
   "codemirror_mode": {
    "name": "ipython",
    "version": 3
   },
   "file_extension": ".py",
   "mimetype": "text/x-python",
   "name": "python",
   "nbconvert_exporter": "python",
   "pygments_lexer": "ipython3",
   "version": "3.7.6"
  }
 },
 "nbformat": 4,
 "nbformat_minor": 4
}
