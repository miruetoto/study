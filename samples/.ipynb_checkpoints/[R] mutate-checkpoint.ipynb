{
 "cells": [
  {
   "cell_type": "markdown",
   "metadata": {},
   "source": [
    "# 0. `mutate` 에 대하여 \n",
    "\n",
    "`mutate`는 새로운 열을 `추가`할 때 유용하게 사용할 수 있다. \n",
    "\n",
    "열의 내용을 `update`할때는 그다지 적절하지 않다. \n",
    "\n",
    "왜냐하면 열의 일부내용만 `update` 하기 위해서는 오히려 `modify`가 더 적절하다. "
   ]
  },
  {
   "cell_type": "markdown",
   "metadata": {},
   "source": [
    "# 1. 데이터프레임 `tb`를 만든다. "
   ]
  },
  {
   "cell_type": "code",
   "execution_count": 40,
   "metadata": {},
   "outputs": [
    {
     "data": {
      "text/html": [
       "<table>\n",
       "<caption>A tibble: 10 × 2</caption>\n",
       "<thead>\n",
       "\t<tr><th scope=col>x1</th><th scope=col>x2</th></tr>\n",
       "\t<tr><th scope=col>&lt;int&gt;</th><th scope=col>&lt;dbl&gt;</th></tr>\n",
       "</thead>\n",
       "<tbody>\n",
       "\t<tr><td> 1</td><td> 0.5180116</td></tr>\n",
       "\t<tr><td> 2</td><td> 0.9744405</td></tr>\n",
       "\t<tr><td> 3</td><td> 0.6251501</td></tr>\n",
       "\t<tr><td> 4</td><td>-1.3308200</td></tr>\n",
       "\t<tr><td> 5</td><td>-0.8325119</td></tr>\n",
       "\t<tr><td> 6</td><td>-0.1634481</td></tr>\n",
       "\t<tr><td> 7</td><td> 0.5440492</td></tr>\n",
       "\t<tr><td> 8</td><td>-0.4732586</td></tr>\n",
       "\t<tr><td> 9</td><td>-0.3014033</td></tr>\n",
       "\t<tr><td>10</td><td>-1.1256243</td></tr>\n",
       "</tbody>\n",
       "</table>\n"
      ],
      "text/latex": [
       "A tibble: 10 × 2\n",
       "\\begin{tabular}{ll}\n",
       " x1 & x2\\\\\n",
       " <int> & <dbl>\\\\\n",
       "\\hline\n",
       "\t  1 &  0.5180116\\\\\n",
       "\t  2 &  0.9744405\\\\\n",
       "\t  3 &  0.6251501\\\\\n",
       "\t  4 & -1.3308200\\\\\n",
       "\t  5 & -0.8325119\\\\\n",
       "\t  6 & -0.1634481\\\\\n",
       "\t  7 &  0.5440492\\\\\n",
       "\t  8 & -0.4732586\\\\\n",
       "\t  9 & -0.3014033\\\\\n",
       "\t 10 & -1.1256243\\\\\n",
       "\\end{tabular}\n"
      ],
      "text/markdown": [
       "\n",
       "A tibble: 10 × 2\n",
       "\n",
       "| x1 &lt;int&gt; | x2 &lt;dbl&gt; |\n",
       "|---|---|\n",
       "|  1 |  0.5180116 |\n",
       "|  2 |  0.9744405 |\n",
       "|  3 |  0.6251501 |\n",
       "|  4 | -1.3308200 |\n",
       "|  5 | -0.8325119 |\n",
       "|  6 | -0.1634481 |\n",
       "|  7 |  0.5440492 |\n",
       "|  8 | -0.4732586 |\n",
       "|  9 | -0.3014033 |\n",
       "| 10 | -1.1256243 |\n",
       "\n"
      ],
      "text/plain": [
       "   x1 x2        \n",
       "1   1  0.5180116\n",
       "2   2  0.9744405\n",
       "3   3  0.6251501\n",
       "4   4 -1.3308200\n",
       "5   5 -0.8325119\n",
       "6   6 -0.1634481\n",
       "7   7  0.5440492\n",
       "8   8 -0.4732586\n",
       "9   9 -0.3014033\n",
       "10 10 -1.1256243"
      ]
     },
     "metadata": {},
     "output_type": "display_data"
    }
   ],
   "source": [
    "library(tidyverse)\n",
    "tb<-tibble(x1=1:10,x2=rnorm(10))\n",
    "tb"
   ]
  },
  {
   "cell_type": "markdown",
   "metadata": {},
   "source": [
    "# 2. `x3`=x1+x2\n",
    "\n",
    "벡터+벡터 연산임. "
   ]
  },
  {
   "cell_type": "code",
   "execution_count": 41,
   "metadata": {},
   "outputs": [
    {
     "data": {
      "text/html": [
       "<table>\n",
       "<caption>A tibble: 10 × 3</caption>\n",
       "<thead>\n",
       "\t<tr><th scope=col>x1</th><th scope=col>x2</th><th scope=col>x3</th></tr>\n",
       "\t<tr><th scope=col>&lt;int&gt;</th><th scope=col>&lt;dbl&gt;</th><th scope=col>&lt;dbl&gt;</th></tr>\n",
       "</thead>\n",
       "<tbody>\n",
       "\t<tr><td> 1</td><td> 0.5180116</td><td>1.518012</td></tr>\n",
       "\t<tr><td> 2</td><td> 0.9744405</td><td>2.974441</td></tr>\n",
       "\t<tr><td> 3</td><td> 0.6251501</td><td>3.625150</td></tr>\n",
       "\t<tr><td> 4</td><td>-1.3308200</td><td>2.669180</td></tr>\n",
       "\t<tr><td> 5</td><td>-0.8325119</td><td>4.167488</td></tr>\n",
       "\t<tr><td> 6</td><td>-0.1634481</td><td>5.836552</td></tr>\n",
       "\t<tr><td> 7</td><td> 0.5440492</td><td>7.544049</td></tr>\n",
       "\t<tr><td> 8</td><td>-0.4732586</td><td>7.526741</td></tr>\n",
       "\t<tr><td> 9</td><td>-0.3014033</td><td>8.698597</td></tr>\n",
       "\t<tr><td>10</td><td>-1.1256243</td><td>8.874376</td></tr>\n",
       "</tbody>\n",
       "</table>\n"
      ],
      "text/latex": [
       "A tibble: 10 × 3\n",
       "\\begin{tabular}{lll}\n",
       " x1 & x2 & x3\\\\\n",
       " <int> & <dbl> & <dbl>\\\\\n",
       "\\hline\n",
       "\t  1 &  0.5180116 & 1.518012\\\\\n",
       "\t  2 &  0.9744405 & 2.974441\\\\\n",
       "\t  3 &  0.6251501 & 3.625150\\\\\n",
       "\t  4 & -1.3308200 & 2.669180\\\\\n",
       "\t  5 & -0.8325119 & 4.167488\\\\\n",
       "\t  6 & -0.1634481 & 5.836552\\\\\n",
       "\t  7 &  0.5440492 & 7.544049\\\\\n",
       "\t  8 & -0.4732586 & 7.526741\\\\\n",
       "\t  9 & -0.3014033 & 8.698597\\\\\n",
       "\t 10 & -1.1256243 & 8.874376\\\\\n",
       "\\end{tabular}\n"
      ],
      "text/markdown": [
       "\n",
       "A tibble: 10 × 3\n",
       "\n",
       "| x1 &lt;int&gt; | x2 &lt;dbl&gt; | x3 &lt;dbl&gt; |\n",
       "|---|---|---|\n",
       "|  1 |  0.5180116 | 1.518012 |\n",
       "|  2 |  0.9744405 | 2.974441 |\n",
       "|  3 |  0.6251501 | 3.625150 |\n",
       "|  4 | -1.3308200 | 2.669180 |\n",
       "|  5 | -0.8325119 | 4.167488 |\n",
       "|  6 | -0.1634481 | 5.836552 |\n",
       "|  7 |  0.5440492 | 7.544049 |\n",
       "|  8 | -0.4732586 | 7.526741 |\n",
       "|  9 | -0.3014033 | 8.698597 |\n",
       "| 10 | -1.1256243 | 8.874376 |\n",
       "\n"
      ],
      "text/plain": [
       "   x1 x2         x3      \n",
       "1   1  0.5180116 1.518012\n",
       "2   2  0.9744405 2.974441\n",
       "3   3  0.6251501 3.625150\n",
       "4   4 -1.3308200 2.669180\n",
       "5   5 -0.8325119 4.167488\n",
       "6   6 -0.1634481 5.836552\n",
       "7   7  0.5440492 7.544049\n",
       "8   8 -0.4732586 7.526741\n",
       "9   9 -0.3014033 8.698597\n",
       "10 10 -1.1256243 8.874376"
      ]
     },
     "metadata": {},
     "output_type": "display_data"
    }
   ],
   "source": [
    "mutate(tb,x3=x1+x2)"
   ]
  },
  {
   "cell_type": "markdown",
   "metadata": {},
   "source": [
    "# 3. `mutate`결과의 저장 "
   ]
  },
  {
   "cell_type": "markdown",
   "metadata": {},
   "source": [
    "## (1) `mutate`는 따로 결과가 저장되지는 않음."
   ]
  },
  {
   "cell_type": "code",
   "execution_count": 42,
   "metadata": {},
   "outputs": [
    {
     "data": {
      "text/html": [
       "<table>\n",
       "<caption>A tibble: 10 × 3</caption>\n",
       "<thead>\n",
       "\t<tr><th scope=col>x1</th><th scope=col>x2</th><th scope=col>x3</th></tr>\n",
       "\t<tr><th scope=col>&lt;int&gt;</th><th scope=col>&lt;dbl&gt;</th><th scope=col>&lt;dbl&gt;</th></tr>\n",
       "</thead>\n",
       "<tbody>\n",
       "\t<tr><td> 1</td><td> 0.5180116</td><td>1.518012</td></tr>\n",
       "\t<tr><td> 2</td><td> 0.9744405</td><td>2.974441</td></tr>\n",
       "\t<tr><td> 3</td><td> 0.6251501</td><td>3.625150</td></tr>\n",
       "\t<tr><td> 4</td><td>-1.3308200</td><td>2.669180</td></tr>\n",
       "\t<tr><td> 5</td><td>-0.8325119</td><td>4.167488</td></tr>\n",
       "\t<tr><td> 6</td><td>-0.1634481</td><td>5.836552</td></tr>\n",
       "\t<tr><td> 7</td><td> 0.5440492</td><td>7.544049</td></tr>\n",
       "\t<tr><td> 8</td><td>-0.4732586</td><td>7.526741</td></tr>\n",
       "\t<tr><td> 9</td><td>-0.3014033</td><td>8.698597</td></tr>\n",
       "\t<tr><td>10</td><td>-1.1256243</td><td>8.874376</td></tr>\n",
       "</tbody>\n",
       "</table>\n"
      ],
      "text/latex": [
       "A tibble: 10 × 3\n",
       "\\begin{tabular}{lll}\n",
       " x1 & x2 & x3\\\\\n",
       " <int> & <dbl> & <dbl>\\\\\n",
       "\\hline\n",
       "\t  1 &  0.5180116 & 1.518012\\\\\n",
       "\t  2 &  0.9744405 & 2.974441\\\\\n",
       "\t  3 &  0.6251501 & 3.625150\\\\\n",
       "\t  4 & -1.3308200 & 2.669180\\\\\n",
       "\t  5 & -0.8325119 & 4.167488\\\\\n",
       "\t  6 & -0.1634481 & 5.836552\\\\\n",
       "\t  7 &  0.5440492 & 7.544049\\\\\n",
       "\t  8 & -0.4732586 & 7.526741\\\\\n",
       "\t  9 & -0.3014033 & 8.698597\\\\\n",
       "\t 10 & -1.1256243 & 8.874376\\\\\n",
       "\\end{tabular}\n"
      ],
      "text/markdown": [
       "\n",
       "A tibble: 10 × 3\n",
       "\n",
       "| x1 &lt;int&gt; | x2 &lt;dbl&gt; | x3 &lt;dbl&gt; |\n",
       "|---|---|---|\n",
       "|  1 |  0.5180116 | 1.518012 |\n",
       "|  2 |  0.9744405 | 2.974441 |\n",
       "|  3 |  0.6251501 | 3.625150 |\n",
       "|  4 | -1.3308200 | 2.669180 |\n",
       "|  5 | -0.8325119 | 4.167488 |\n",
       "|  6 | -0.1634481 | 5.836552 |\n",
       "|  7 |  0.5440492 | 7.544049 |\n",
       "|  8 | -0.4732586 | 7.526741 |\n",
       "|  9 | -0.3014033 | 8.698597 |\n",
       "| 10 | -1.1256243 | 8.874376 |\n",
       "\n"
      ],
      "text/plain": [
       "   x1 x2         x3      \n",
       "1   1  0.5180116 1.518012\n",
       "2   2  0.9744405 2.974441\n",
       "3   3  0.6251501 3.625150\n",
       "4   4 -1.3308200 2.669180\n",
       "5   5 -0.8325119 4.167488\n",
       "6   6 -0.1634481 5.836552\n",
       "7   7  0.5440492 7.544049\n",
       "8   8 -0.4732586 7.526741\n",
       "9   9 -0.3014033 8.698597\n",
       "10 10 -1.1256243 8.874376"
      ]
     },
     "metadata": {},
     "output_type": "display_data"
    }
   ],
   "source": [
    "mutate(tb,x3=x1+x2)"
   ]
  },
  {
   "cell_type": "code",
   "execution_count": 43,
   "metadata": {},
   "outputs": [
    {
     "name": "stdout",
     "output_type": "stream",
     "text": [
      "\u001b[38;5;246m# A tibble: 10 x 2\u001b[39m\n",
      "      x1     x2\n",
      "   \u001b[3m\u001b[38;5;246m<int>\u001b[39m\u001b[23m  \u001b[3m\u001b[38;5;246m<dbl>\u001b[39m\u001b[23m\n",
      "\u001b[38;5;250m 1\u001b[39m     1  0.518\n",
      "\u001b[38;5;250m 2\u001b[39m     2  0.974\n",
      "\u001b[38;5;250m 3\u001b[39m     3  0.625\n",
      "\u001b[38;5;250m 4\u001b[39m     4 -\u001b[31m1\u001b[39m\u001b[31m.\u001b[39m\u001b[31m33\u001b[39m \n",
      "\u001b[38;5;250m 5\u001b[39m     5 -\u001b[31m0\u001b[39m\u001b[31m.\u001b[39m\u001b[31m833\u001b[39m\n",
      "\u001b[38;5;250m 6\u001b[39m     6 -\u001b[31m0\u001b[39m\u001b[31m.\u001b[39m\u001b[31m163\u001b[39m\n",
      "\u001b[38;5;250m 7\u001b[39m     7  0.544\n",
      "\u001b[38;5;250m 8\u001b[39m     8 -\u001b[31m0\u001b[39m\u001b[31m.\u001b[39m\u001b[31m473\u001b[39m\n",
      "\u001b[38;5;250m 9\u001b[39m     9 -\u001b[31m0\u001b[39m\u001b[31m.\u001b[39m\u001b[31m301\u001b[39m\n",
      "\u001b[38;5;250m10\u001b[39m    10 -\u001b[31m1\u001b[39m\u001b[31m.\u001b[39m\u001b[31m13\u001b[39m \n"
     ]
    }
   ],
   "source": [
    "print(tb)"
   ]
  },
  {
   "cell_type": "markdown",
   "metadata": {},
   "source": [
    "## (2) 굳이 결과를 저장하고 싶다면 아래와 같은 방법이 있다. "
   ]
  },
  {
   "cell_type": "code",
   "execution_count": 32,
   "metadata": {},
   "outputs": [],
   "source": [
    "tb2 <- tb %>% mutate(x3=x1+x2) "
   ]
  },
  {
   "cell_type": "code",
   "execution_count": 33,
   "metadata": {},
   "outputs": [
    {
     "data": {
      "text/html": [
       "<table>\n",
       "<caption>A tibble: 10 × 3</caption>\n",
       "<thead>\n",
       "\t<tr><th scope=col>x1</th><th scope=col>x2</th><th scope=col>x3</th></tr>\n",
       "\t<tr><th scope=col>&lt;int&gt;</th><th scope=col>&lt;dbl&gt;</th><th scope=col>&lt;dbl&gt;</th></tr>\n",
       "</thead>\n",
       "<tbody>\n",
       "\t<tr><td> 1</td><td> 0.6980523</td><td> 1.698052</td></tr>\n",
       "\t<tr><td> 2</td><td>-0.1266940</td><td> 1.873306</td></tr>\n",
       "\t<tr><td> 3</td><td> 0.4529776</td><td> 3.452978</td></tr>\n",
       "\t<tr><td> 4</td><td> 0.5192793</td><td> 4.519279</td></tr>\n",
       "\t<tr><td> 5</td><td> 0.4563271</td><td> 5.456327</td></tr>\n",
       "\t<tr><td> 6</td><td>-1.7494421</td><td> 4.250558</td></tr>\n",
       "\t<tr><td> 7</td><td> 0.0902628</td><td> 7.090263</td></tr>\n",
       "\t<tr><td> 8</td><td>-0.4175539</td><td> 7.582446</td></tr>\n",
       "\t<tr><td> 9</td><td> 1.1028135</td><td>10.102814</td></tr>\n",
       "\t<tr><td>10</td><td> 0.2276045</td><td>10.227604</td></tr>\n",
       "</tbody>\n",
       "</table>\n"
      ],
      "text/latex": [
       "A tibble: 10 × 3\n",
       "\\begin{tabular}{lll}\n",
       " x1 & x2 & x3\\\\\n",
       " <int> & <dbl> & <dbl>\\\\\n",
       "\\hline\n",
       "\t  1 &  0.6980523 &  1.698052\\\\\n",
       "\t  2 & -0.1266940 &  1.873306\\\\\n",
       "\t  3 &  0.4529776 &  3.452978\\\\\n",
       "\t  4 &  0.5192793 &  4.519279\\\\\n",
       "\t  5 &  0.4563271 &  5.456327\\\\\n",
       "\t  6 & -1.7494421 &  4.250558\\\\\n",
       "\t  7 &  0.0902628 &  7.090263\\\\\n",
       "\t  8 & -0.4175539 &  7.582446\\\\\n",
       "\t  9 &  1.1028135 & 10.102814\\\\\n",
       "\t 10 &  0.2276045 & 10.227604\\\\\n",
       "\\end{tabular}\n"
      ],
      "text/markdown": [
       "\n",
       "A tibble: 10 × 3\n",
       "\n",
       "| x1 &lt;int&gt; | x2 &lt;dbl&gt; | x3 &lt;dbl&gt; |\n",
       "|---|---|---|\n",
       "|  1 |  0.6980523 |  1.698052 |\n",
       "|  2 | -0.1266940 |  1.873306 |\n",
       "|  3 |  0.4529776 |  3.452978 |\n",
       "|  4 |  0.5192793 |  4.519279 |\n",
       "|  5 |  0.4563271 |  5.456327 |\n",
       "|  6 | -1.7494421 |  4.250558 |\n",
       "|  7 |  0.0902628 |  7.090263 |\n",
       "|  8 | -0.4175539 |  7.582446 |\n",
       "|  9 |  1.1028135 | 10.102814 |\n",
       "| 10 |  0.2276045 | 10.227604 |\n",
       "\n"
      ],
      "text/plain": [
       "   x1 x2         x3       \n",
       "1   1  0.6980523  1.698052\n",
       "2   2 -0.1266940  1.873306\n",
       "3   3  0.4529776  3.452978\n",
       "4   4  0.5192793  4.519279\n",
       "5   5  0.4563271  5.456327\n",
       "6   6 -1.7494421  4.250558\n",
       "7   7  0.0902628  7.090263\n",
       "8   8 -0.4175539  7.582446\n",
       "9   9  1.1028135 10.102814\n",
       "10 10  0.2276045 10.227604"
      ]
     },
     "metadata": {},
     "output_type": "display_data"
    }
   ],
   "source": [
    "tb2"
   ]
  },
  {
   "cell_type": "markdown",
   "metadata": {},
   "source": [
    "# 4. 새로운 변수를 추가하지 않고 자기자신에 결과를 업데이트 할 수도 있다. "
   ]
  },
  {
   "cell_type": "markdown",
   "metadata": {},
   "source": [
    "## (1) 예를들면 `x1+x2`의 계산결과를 `x2`에 `update`하기 위해서는 아래와 같이 한다. "
   ]
  },
  {
   "cell_type": "code",
   "execution_count": 34,
   "metadata": {},
   "outputs": [
    {
     "data": {
      "text/html": [
       "<table>\n",
       "<caption>A tibble: 10 × 2</caption>\n",
       "<thead>\n",
       "\t<tr><th scope=col>x1</th><th scope=col>x2</th></tr>\n",
       "\t<tr><th scope=col>&lt;int&gt;</th><th scope=col>&lt;dbl&gt;</th></tr>\n",
       "</thead>\n",
       "<tbody>\n",
       "\t<tr><td> 1</td><td> 0.6980523</td></tr>\n",
       "\t<tr><td> 2</td><td>-0.1266940</td></tr>\n",
       "\t<tr><td> 3</td><td> 0.4529776</td></tr>\n",
       "\t<tr><td> 4</td><td> 0.5192793</td></tr>\n",
       "\t<tr><td> 5</td><td> 0.4563271</td></tr>\n",
       "\t<tr><td> 6</td><td>-1.7494421</td></tr>\n",
       "\t<tr><td> 7</td><td> 0.0902628</td></tr>\n",
       "\t<tr><td> 8</td><td>-0.4175539</td></tr>\n",
       "\t<tr><td> 9</td><td> 1.1028135</td></tr>\n",
       "\t<tr><td>10</td><td> 0.2276045</td></tr>\n",
       "</tbody>\n",
       "</table>\n"
      ],
      "text/latex": [
       "A tibble: 10 × 2\n",
       "\\begin{tabular}{ll}\n",
       " x1 & x2\\\\\n",
       " <int> & <dbl>\\\\\n",
       "\\hline\n",
       "\t  1 &  0.6980523\\\\\n",
       "\t  2 & -0.1266940\\\\\n",
       "\t  3 &  0.4529776\\\\\n",
       "\t  4 &  0.5192793\\\\\n",
       "\t  5 &  0.4563271\\\\\n",
       "\t  6 & -1.7494421\\\\\n",
       "\t  7 &  0.0902628\\\\\n",
       "\t  8 & -0.4175539\\\\\n",
       "\t  9 &  1.1028135\\\\\n",
       "\t 10 &  0.2276045\\\\\n",
       "\\end{tabular}\n"
      ],
      "text/markdown": [
       "\n",
       "A tibble: 10 × 2\n",
       "\n",
       "| x1 &lt;int&gt; | x2 &lt;dbl&gt; |\n",
       "|---|---|\n",
       "|  1 |  0.6980523 |\n",
       "|  2 | -0.1266940 |\n",
       "|  3 |  0.4529776 |\n",
       "|  4 |  0.5192793 |\n",
       "|  5 |  0.4563271 |\n",
       "|  6 | -1.7494421 |\n",
       "|  7 |  0.0902628 |\n",
       "|  8 | -0.4175539 |\n",
       "|  9 |  1.1028135 |\n",
       "| 10 |  0.2276045 |\n",
       "\n"
      ],
      "text/plain": [
       "   x1 x2        \n",
       "1   1  0.6980523\n",
       "2   2 -0.1266940\n",
       "3   3  0.4529776\n",
       "4   4  0.5192793\n",
       "5   5  0.4563271\n",
       "6   6 -1.7494421\n",
       "7   7  0.0902628\n",
       "8   8 -0.4175539\n",
       "9   9  1.1028135\n",
       "10 10  0.2276045"
      ]
     },
     "metadata": {},
     "output_type": "display_data"
    }
   ],
   "source": [
    "tb "
   ]
  },
  {
   "cell_type": "code",
   "execution_count": 35,
   "metadata": {},
   "outputs": [
    {
     "data": {
      "text/html": [
       "<table>\n",
       "<caption>A tibble: 10 × 2</caption>\n",
       "<thead>\n",
       "\t<tr><th scope=col>x1</th><th scope=col>x2</th></tr>\n",
       "\t<tr><th scope=col>&lt;int&gt;</th><th scope=col>&lt;dbl&gt;</th></tr>\n",
       "</thead>\n",
       "<tbody>\n",
       "\t<tr><td> 1</td><td> 1.698052</td></tr>\n",
       "\t<tr><td> 2</td><td> 1.873306</td></tr>\n",
       "\t<tr><td> 3</td><td> 3.452978</td></tr>\n",
       "\t<tr><td> 4</td><td> 4.519279</td></tr>\n",
       "\t<tr><td> 5</td><td> 5.456327</td></tr>\n",
       "\t<tr><td> 6</td><td> 4.250558</td></tr>\n",
       "\t<tr><td> 7</td><td> 7.090263</td></tr>\n",
       "\t<tr><td> 8</td><td> 7.582446</td></tr>\n",
       "\t<tr><td> 9</td><td>10.102814</td></tr>\n",
       "\t<tr><td>10</td><td>10.227604</td></tr>\n",
       "</tbody>\n",
       "</table>\n"
      ],
      "text/latex": [
       "A tibble: 10 × 2\n",
       "\\begin{tabular}{ll}\n",
       " x1 & x2\\\\\n",
       " <int> & <dbl>\\\\\n",
       "\\hline\n",
       "\t  1 &  1.698052\\\\\n",
       "\t  2 &  1.873306\\\\\n",
       "\t  3 &  3.452978\\\\\n",
       "\t  4 &  4.519279\\\\\n",
       "\t  5 &  5.456327\\\\\n",
       "\t  6 &  4.250558\\\\\n",
       "\t  7 &  7.090263\\\\\n",
       "\t  8 &  7.582446\\\\\n",
       "\t  9 & 10.102814\\\\\n",
       "\t 10 & 10.227604\\\\\n",
       "\\end{tabular}\n"
      ],
      "text/markdown": [
       "\n",
       "A tibble: 10 × 2\n",
       "\n",
       "| x1 &lt;int&gt; | x2 &lt;dbl&gt; |\n",
       "|---|---|\n",
       "|  1 |  1.698052 |\n",
       "|  2 |  1.873306 |\n",
       "|  3 |  3.452978 |\n",
       "|  4 |  4.519279 |\n",
       "|  5 |  5.456327 |\n",
       "|  6 |  4.250558 |\n",
       "|  7 |  7.090263 |\n",
       "|  8 |  7.582446 |\n",
       "|  9 | 10.102814 |\n",
       "| 10 | 10.227604 |\n",
       "\n"
      ],
      "text/plain": [
       "   x1 x2       \n",
       "1   1  1.698052\n",
       "2   2  1.873306\n",
       "3   3  3.452978\n",
       "4   4  4.519279\n",
       "5   5  5.456327\n",
       "6   6  4.250558\n",
       "7   7  7.090263\n",
       "8   8  7.582446\n",
       "9   9 10.102814\n",
       "10 10 10.227604"
      ]
     },
     "metadata": {},
     "output_type": "display_data"
    }
   ],
   "source": [
    "tb %>% mutate(x2=x1+x2)"
   ]
  },
  {
   "cell_type": "markdown",
   "metadata": {},
   "source": [
    "## (2) 데이터 프레임의 subset만을 `update`하는 방법 ($\\star\\star\\star$)"
   ]
  },
  {
   "cell_type": "markdown",
   "metadata": {},
   "source": [
    "### **방법1**: `filter(...) %>% mutate(...)` 를 사용 \n",
    "\n",
    "#### `update`까지는 가능하지만 `save`가 안된다!!! $\\to$ 사용할 수 없다. "
   ]
  },
  {
   "cell_type": "markdown",
   "metadata": {},
   "source": [
    "***update***"
   ]
  },
  {
   "cell_type": "code",
   "execution_count": 72,
   "metadata": {},
   "outputs": [
    {
     "data": {
      "text/html": [
       "<table>\n",
       "<caption>A tibble: 2 × 2</caption>\n",
       "<thead>\n",
       "\t<tr><th scope=col>x1</th><th scope=col>x2</th></tr>\n",
       "\t<tr><th scope=col>&lt;int&gt;</th><th scope=col>&lt;dbl&gt;</th></tr>\n",
       "</thead>\n",
       "<tbody>\n",
       "\t<tr><td>6</td><td>5.836552</td></tr>\n",
       "\t<tr><td>7</td><td>7.544049</td></tr>\n",
       "</tbody>\n",
       "</table>\n"
      ],
      "text/latex": [
       "A tibble: 2 × 2\n",
       "\\begin{tabular}{ll}\n",
       " x1 & x2\\\\\n",
       " <int> & <dbl>\\\\\n",
       "\\hline\n",
       "\t 6 & 5.836552\\\\\n",
       "\t 7 & 7.544049\\\\\n",
       "\\end{tabular}\n"
      ],
      "text/markdown": [
       "\n",
       "A tibble: 2 × 2\n",
       "\n",
       "| x1 &lt;int&gt; | x2 &lt;dbl&gt; |\n",
       "|---|---|\n",
       "| 6 | 5.836552 |\n",
       "| 7 | 7.544049 |\n",
       "\n"
      ],
      "text/plain": [
       "  x1 x2      \n",
       "1 6  5.836552\n",
       "2 7  7.544049"
      ]
     },
     "metadata": {},
     "output_type": "display_data"
    }
   ],
   "source": [
    "tb %>% filter(x1>5, x1<8) %>% mutate(x2=x2+x1)"
   ]
  },
  {
   "cell_type": "markdown",
   "metadata": {},
   "source": [
    "***but can't save***"
   ]
  },
  {
   "cell_type": "code",
   "execution_count": 92,
   "metadata": {},
   "outputs": [
    {
     "ename": "ERROR",
     "evalue": "Error in tb2 %>% filter(x1 > 5, x1 < 8) <- tb2 %>% filter(x1 > 5, x1 < : could not find function \"%>%<-\"\n",
     "output_type": "error",
     "traceback": [
      "Error in tb2 %>% filter(x1 > 5, x1 < 8) <- tb2 %>% filter(x1 > 5, x1 < : could not find function \"%>%<-\"\nTraceback:\n"
     ]
    }
   ],
   "source": [
    "tb2<-tb\n",
    "tb2 %>% filter(x1>5, x1<8) <- tb2 %>% filter(x1>5, x1<8) %>% mutate(x2=x2+x1)"
   ]
  },
  {
   "cell_type": "markdown",
   "metadata": {},
   "source": [
    "### **방법2**: `더미함수` 와 `mutate` 를 활용하는 방법 (정말 나쁜코딩) "
   ]
  },
  {
   "cell_type": "markdown",
   "metadata": {},
   "source": [
    "***update***"
   ]
  },
  {
   "cell_type": "code",
   "execution_count": 86,
   "metadata": {},
   "outputs": [
    {
     "data": {
      "text/html": [
       "<table>\n",
       "<caption>A tibble: 10 × 2</caption>\n",
       "<thead>\n",
       "\t<tr><th scope=col>x1</th><th scope=col>x2</th></tr>\n",
       "\t<tr><th scope=col>&lt;int&gt;</th><th scope=col>&lt;dbl&gt;</th></tr>\n",
       "</thead>\n",
       "<tbody>\n",
       "\t<tr><td> 1</td><td> 0.5180116</td></tr>\n",
       "\t<tr><td> 2</td><td> 0.9744405</td></tr>\n",
       "\t<tr><td> 3</td><td> 0.6251501</td></tr>\n",
       "\t<tr><td> 4</td><td>-1.3308200</td></tr>\n",
       "\t<tr><td> 5</td><td>-0.8325119</td></tr>\n",
       "\t<tr><td> 6</td><td> 5.8365519</td></tr>\n",
       "\t<tr><td> 7</td><td> 7.5440492</td></tr>\n",
       "\t<tr><td> 8</td><td>-0.4732586</td></tr>\n",
       "\t<tr><td> 9</td><td>-0.3014033</td></tr>\n",
       "\t<tr><td>10</td><td>-1.1256243</td></tr>\n",
       "</tbody>\n",
       "</table>\n"
      ],
      "text/latex": [
       "A tibble: 10 × 2\n",
       "\\begin{tabular}{ll}\n",
       " x1 & x2\\\\\n",
       " <int> & <dbl>\\\\\n",
       "\\hline\n",
       "\t  1 &  0.5180116\\\\\n",
       "\t  2 &  0.9744405\\\\\n",
       "\t  3 &  0.6251501\\\\\n",
       "\t  4 & -1.3308200\\\\\n",
       "\t  5 & -0.8325119\\\\\n",
       "\t  6 &  5.8365519\\\\\n",
       "\t  7 &  7.5440492\\\\\n",
       "\t  8 & -0.4732586\\\\\n",
       "\t  9 & -0.3014033\\\\\n",
       "\t 10 & -1.1256243\\\\\n",
       "\\end{tabular}\n"
      ],
      "text/markdown": [
       "\n",
       "A tibble: 10 × 2\n",
       "\n",
       "| x1 &lt;int&gt; | x2 &lt;dbl&gt; |\n",
       "|---|---|\n",
       "|  1 |  0.5180116 |\n",
       "|  2 |  0.9744405 |\n",
       "|  3 |  0.6251501 |\n",
       "|  4 | -1.3308200 |\n",
       "|  5 | -0.8325119 |\n",
       "|  6 |  5.8365519 |\n",
       "|  7 |  7.5440492 |\n",
       "|  8 | -0.4732586 |\n",
       "|  9 | -0.3014033 |\n",
       "| 10 | -1.1256243 |\n",
       "\n"
      ],
      "text/plain": [
       "   x1 x2        \n",
       "1   1  0.5180116\n",
       "2   2  0.9744405\n",
       "3   3  0.6251501\n",
       "4   4 -1.3308200\n",
       "5   5 -0.8325119\n",
       "6   6  5.8365519\n",
       "7   7  7.5440492\n",
       "8   8 -0.4732586\n",
       "9   9 -0.3014033\n",
       "10 10 -1.1256243"
      ]
     },
     "metadata": {},
     "output_type": "display_data"
    }
   ],
   "source": [
    "dum<-function(x,y){\n",
    "    idx= (x>5 & x<8)\n",
    "    y[idx]<-x[idx]+y[idx]\n",
    "    y\n",
    "} \n",
    "tb %>% mutate(x2=dum(x1,x2))"
   ]
  },
  {
   "cell_type": "markdown",
   "metadata": {},
   "source": [
    "***save***"
   ]
  },
  {
   "cell_type": "code",
   "execution_count": 94,
   "metadata": {},
   "outputs": [
    {
     "data": {
      "text/html": [
       "<table>\n",
       "<caption>A tibble: 10 × 2</caption>\n",
       "<thead>\n",
       "\t<tr><th scope=col>x1</th><th scope=col>x2</th></tr>\n",
       "\t<tr><th scope=col>&lt;int&gt;</th><th scope=col>&lt;dbl&gt;</th></tr>\n",
       "</thead>\n",
       "<tbody>\n",
       "\t<tr><td> 1</td><td> 0.5180116</td></tr>\n",
       "\t<tr><td> 2</td><td> 0.9744405</td></tr>\n",
       "\t<tr><td> 3</td><td> 0.6251501</td></tr>\n",
       "\t<tr><td> 4</td><td>-1.3308200</td></tr>\n",
       "\t<tr><td> 5</td><td>-0.8325119</td></tr>\n",
       "\t<tr><td> 6</td><td> 5.8365519</td></tr>\n",
       "\t<tr><td> 7</td><td> 7.5440492</td></tr>\n",
       "\t<tr><td> 8</td><td>-0.4732586</td></tr>\n",
       "\t<tr><td> 9</td><td>-0.3014033</td></tr>\n",
       "\t<tr><td>10</td><td>-1.1256243</td></tr>\n",
       "</tbody>\n",
       "</table>\n"
      ],
      "text/latex": [
       "A tibble: 10 × 2\n",
       "\\begin{tabular}{ll}\n",
       " x1 & x2\\\\\n",
       " <int> & <dbl>\\\\\n",
       "\\hline\n",
       "\t  1 &  0.5180116\\\\\n",
       "\t  2 &  0.9744405\\\\\n",
       "\t  3 &  0.6251501\\\\\n",
       "\t  4 & -1.3308200\\\\\n",
       "\t  5 & -0.8325119\\\\\n",
       "\t  6 &  5.8365519\\\\\n",
       "\t  7 &  7.5440492\\\\\n",
       "\t  8 & -0.4732586\\\\\n",
       "\t  9 & -0.3014033\\\\\n",
       "\t 10 & -1.1256243\\\\\n",
       "\\end{tabular}\n"
      ],
      "text/markdown": [
       "\n",
       "A tibble: 10 × 2\n",
       "\n",
       "| x1 &lt;int&gt; | x2 &lt;dbl&gt; |\n",
       "|---|---|\n",
       "|  1 |  0.5180116 |\n",
       "|  2 |  0.9744405 |\n",
       "|  3 |  0.6251501 |\n",
       "|  4 | -1.3308200 |\n",
       "|  5 | -0.8325119 |\n",
       "|  6 |  5.8365519 |\n",
       "|  7 |  7.5440492 |\n",
       "|  8 | -0.4732586 |\n",
       "|  9 | -0.3014033 |\n",
       "| 10 | -1.1256243 |\n",
       "\n"
      ],
      "text/plain": [
       "   x1 x2        \n",
       "1   1  0.5180116\n",
       "2   2  0.9744405\n",
       "3   3  0.6251501\n",
       "4   4 -1.3308200\n",
       "5   5 -0.8325119\n",
       "6   6  5.8365519\n",
       "7   7  7.5440492\n",
       "8   8 -0.4732586\n",
       "9   9 -0.3014033\n",
       "10 10 -1.1256243"
      ]
     },
     "metadata": {},
     "output_type": "display_data"
    }
   ],
   "source": [
    "tb2<- tb %>% mutate(x2=dum(x1,x2))\n",
    "tb2"
   ]
  },
  {
   "cell_type": "markdown",
   "metadata": {},
   "source": [
    "## **방법3:** `mutate(...=ifelse(...))` "
   ]
  },
  {
   "cell_type": "markdown",
   "metadata": {},
   "source": [
    "#### `현재 내가 알아낸 방법중에 가장 깔끔한 방법이다!!!`"
   ]
  },
  {
   "cell_type": "markdown",
   "metadata": {},
   "source": [
    "***update***"
   ]
  },
  {
   "cell_type": "code",
   "execution_count": 88,
   "metadata": {},
   "outputs": [
    {
     "data": {
      "text/html": [
       "<table>\n",
       "<caption>A tibble: 10 × 2</caption>\n",
       "<thead>\n",
       "\t<tr><th scope=col>x1</th><th scope=col>x2</th></tr>\n",
       "\t<tr><th scope=col>&lt;int&gt;</th><th scope=col>&lt;dbl&gt;</th></tr>\n",
       "</thead>\n",
       "<tbody>\n",
       "\t<tr><td> 1</td><td> 0.5180116</td></tr>\n",
       "\t<tr><td> 2</td><td> 0.9744405</td></tr>\n",
       "\t<tr><td> 3</td><td> 0.6251501</td></tr>\n",
       "\t<tr><td> 4</td><td>-1.3308200</td></tr>\n",
       "\t<tr><td> 5</td><td>-0.8325119</td></tr>\n",
       "\t<tr><td> 6</td><td> 5.8365519</td></tr>\n",
       "\t<tr><td> 7</td><td> 7.5440492</td></tr>\n",
       "\t<tr><td> 8</td><td>-0.4732586</td></tr>\n",
       "\t<tr><td> 9</td><td>-0.3014033</td></tr>\n",
       "\t<tr><td>10</td><td>-1.1256243</td></tr>\n",
       "</tbody>\n",
       "</table>\n"
      ],
      "text/latex": [
       "A tibble: 10 × 2\n",
       "\\begin{tabular}{ll}\n",
       " x1 & x2\\\\\n",
       " <int> & <dbl>\\\\\n",
       "\\hline\n",
       "\t  1 &  0.5180116\\\\\n",
       "\t  2 &  0.9744405\\\\\n",
       "\t  3 &  0.6251501\\\\\n",
       "\t  4 & -1.3308200\\\\\n",
       "\t  5 & -0.8325119\\\\\n",
       "\t  6 &  5.8365519\\\\\n",
       "\t  7 &  7.5440492\\\\\n",
       "\t  8 & -0.4732586\\\\\n",
       "\t  9 & -0.3014033\\\\\n",
       "\t 10 & -1.1256243\\\\\n",
       "\\end{tabular}\n"
      ],
      "text/markdown": [
       "\n",
       "A tibble: 10 × 2\n",
       "\n",
       "| x1 &lt;int&gt; | x2 &lt;dbl&gt; |\n",
       "|---|---|\n",
       "|  1 |  0.5180116 |\n",
       "|  2 |  0.9744405 |\n",
       "|  3 |  0.6251501 |\n",
       "|  4 | -1.3308200 |\n",
       "|  5 | -0.8325119 |\n",
       "|  6 |  5.8365519 |\n",
       "|  7 |  7.5440492 |\n",
       "|  8 | -0.4732586 |\n",
       "|  9 | -0.3014033 |\n",
       "| 10 | -1.1256243 |\n",
       "\n"
      ],
      "text/plain": [
       "   x1 x2        \n",
       "1   1  0.5180116\n",
       "2   2  0.9744405\n",
       "3   3  0.6251501\n",
       "4   4 -1.3308200\n",
       "5   5 -0.8325119\n",
       "6   6  5.8365519\n",
       "7   7  7.5440492\n",
       "8   8 -0.4732586\n",
       "9   9 -0.3014033\n",
       "10 10 -1.1256243"
      ]
     },
     "metadata": {},
     "output_type": "display_data"
    }
   ],
   "source": [
    "tb %>% mutate(x2=ifelse(x1>5 & x1<8, x1+x2 ,x2))"
   ]
  },
  {
   "cell_type": "markdown",
   "metadata": {},
   "source": [
    "***save***"
   ]
  },
  {
   "cell_type": "code",
   "execution_count": 96,
   "metadata": {},
   "outputs": [
    {
     "data": {
      "text/html": [
       "<table>\n",
       "<caption>A tibble: 10 × 2</caption>\n",
       "<thead>\n",
       "\t<tr><th scope=col>x1</th><th scope=col>x2</th></tr>\n",
       "\t<tr><th scope=col>&lt;int&gt;</th><th scope=col>&lt;dbl&gt;</th></tr>\n",
       "</thead>\n",
       "<tbody>\n",
       "\t<tr><td> 1</td><td> 0.5180116</td></tr>\n",
       "\t<tr><td> 2</td><td> 0.9744405</td></tr>\n",
       "\t<tr><td> 3</td><td> 0.6251501</td></tr>\n",
       "\t<tr><td> 4</td><td>-1.3308200</td></tr>\n",
       "\t<tr><td> 5</td><td>-0.8325119</td></tr>\n",
       "\t<tr><td> 6</td><td> 5.8365519</td></tr>\n",
       "\t<tr><td> 7</td><td> 7.5440492</td></tr>\n",
       "\t<tr><td> 8</td><td>-0.4732586</td></tr>\n",
       "\t<tr><td> 9</td><td>-0.3014033</td></tr>\n",
       "\t<tr><td>10</td><td>-1.1256243</td></tr>\n",
       "</tbody>\n",
       "</table>\n"
      ],
      "text/latex": [
       "A tibble: 10 × 2\n",
       "\\begin{tabular}{ll}\n",
       " x1 & x2\\\\\n",
       " <int> & <dbl>\\\\\n",
       "\\hline\n",
       "\t  1 &  0.5180116\\\\\n",
       "\t  2 &  0.9744405\\\\\n",
       "\t  3 &  0.6251501\\\\\n",
       "\t  4 & -1.3308200\\\\\n",
       "\t  5 & -0.8325119\\\\\n",
       "\t  6 &  5.8365519\\\\\n",
       "\t  7 &  7.5440492\\\\\n",
       "\t  8 & -0.4732586\\\\\n",
       "\t  9 & -0.3014033\\\\\n",
       "\t 10 & -1.1256243\\\\\n",
       "\\end{tabular}\n"
      ],
      "text/markdown": [
       "\n",
       "A tibble: 10 × 2\n",
       "\n",
       "| x1 &lt;int&gt; | x2 &lt;dbl&gt; |\n",
       "|---|---|\n",
       "|  1 |  0.5180116 |\n",
       "|  2 |  0.9744405 |\n",
       "|  3 |  0.6251501 |\n",
       "|  4 | -1.3308200 |\n",
       "|  5 | -0.8325119 |\n",
       "|  6 |  5.8365519 |\n",
       "|  7 |  7.5440492 |\n",
       "|  8 | -0.4732586 |\n",
       "|  9 | -0.3014033 |\n",
       "| 10 | -1.1256243 |\n",
       "\n"
      ],
      "text/plain": [
       "   x1 x2        \n",
       "1   1  0.5180116\n",
       "2   2  0.9744405\n",
       "3   3  0.6251501\n",
       "4   4 -1.3308200\n",
       "5   5 -0.8325119\n",
       "6   6  5.8365519\n",
       "7   7  7.5440492\n",
       "8   8 -0.4732586\n",
       "9   9 -0.3014033\n",
       "10 10 -1.1256243"
      ]
     },
     "metadata": {},
     "output_type": "display_data"
    }
   ],
   "source": [
    "tb2 <- tb %>% mutate(x2=ifelse(x1>5 & x1<8, x1+x2 ,x2))\n",
    "tb2"
   ]
  },
  {
   "cell_type": "markdown",
   "metadata": {},
   "source": [
    "## **방법4**: `mutate(...=replace(...))`\n",
    "\n",
    "바꾸고 싶은 것이 하나의 `값`이라면 `replace`를 사용해도 무방하다. "
   ]
  },
  {
   "cell_type": "code",
   "execution_count": 106,
   "metadata": {},
   "outputs": [
    {
     "data": {
      "text/html": [
       "<table>\n",
       "<caption>A tibble: 10 × 2</caption>\n",
       "<thead>\n",
       "\t<tr><th scope=col>x1</th><th scope=col>x2</th></tr>\n",
       "\t<tr><th scope=col>&lt;int&gt;</th><th scope=col>&lt;dbl&gt;</th></tr>\n",
       "</thead>\n",
       "<tbody>\n",
       "\t<tr><td> 1</td><td>  0.5180116</td></tr>\n",
       "\t<tr><td> 2</td><td>  0.9744405</td></tr>\n",
       "\t<tr><td> 3</td><td>  0.6251501</td></tr>\n",
       "\t<tr><td> 4</td><td> -1.3308200</td></tr>\n",
       "\t<tr><td> 5</td><td> -0.8325119</td></tr>\n",
       "\t<tr><td> 6</td><td>100.0000000</td></tr>\n",
       "\t<tr><td> 7</td><td>100.0000000</td></tr>\n",
       "\t<tr><td> 8</td><td> -0.4732586</td></tr>\n",
       "\t<tr><td> 9</td><td> -0.3014033</td></tr>\n",
       "\t<tr><td>10</td><td> -1.1256243</td></tr>\n",
       "</tbody>\n",
       "</table>\n"
      ],
      "text/latex": [
       "A tibble: 10 × 2\n",
       "\\begin{tabular}{ll}\n",
       " x1 & x2\\\\\n",
       " <int> & <dbl>\\\\\n",
       "\\hline\n",
       "\t  1 &   0.5180116\\\\\n",
       "\t  2 &   0.9744405\\\\\n",
       "\t  3 &   0.6251501\\\\\n",
       "\t  4 &  -1.3308200\\\\\n",
       "\t  5 &  -0.8325119\\\\\n",
       "\t  6 & 100.0000000\\\\\n",
       "\t  7 & 100.0000000\\\\\n",
       "\t  8 &  -0.4732586\\\\\n",
       "\t  9 &  -0.3014033\\\\\n",
       "\t 10 &  -1.1256243\\\\\n",
       "\\end{tabular}\n"
      ],
      "text/markdown": [
       "\n",
       "A tibble: 10 × 2\n",
       "\n",
       "| x1 &lt;int&gt; | x2 &lt;dbl&gt; |\n",
       "|---|---|\n",
       "|  1 |   0.5180116 |\n",
       "|  2 |   0.9744405 |\n",
       "|  3 |   0.6251501 |\n",
       "|  4 |  -1.3308200 |\n",
       "|  5 |  -0.8325119 |\n",
       "|  6 | 100.0000000 |\n",
       "|  7 | 100.0000000 |\n",
       "|  8 |  -0.4732586 |\n",
       "|  9 |  -0.3014033 |\n",
       "| 10 |  -1.1256243 |\n",
       "\n"
      ],
      "text/plain": [
       "   x1 x2         \n",
       "1   1   0.5180116\n",
       "2   2   0.9744405\n",
       "3   3   0.6251501\n",
       "4   4  -1.3308200\n",
       "5   5  -0.8325119\n",
       "6   6 100.0000000\n",
       "7   7 100.0000000\n",
       "8   8  -0.4732586\n",
       "9   9  -0.3014033\n",
       "10 10  -1.1256243"
      ]
     },
     "metadata": {},
     "output_type": "display_data"
    }
   ],
   "source": [
    "tb %>% mutate(x2=replace(x2, x1>5 & x1<8,100))"
   ]
  },
  {
   "cell_type": "markdown",
   "metadata": {},
   "source": [
    "하지만 아래와 같은 식으로는 변환할 수 없다. "
   ]
  },
  {
   "cell_type": "code",
   "execution_count": 105,
   "metadata": {},
   "outputs": [
    {
     "name": "stderr",
     "output_type": "stream",
     "text": [
      "Warning message:\n",
      "“Problem with `mutate()` input `x2`.\n",
      "\u001b[34mℹ\u001b[39m number of items to replace is not a multiple of replacement length\n",
      "\u001b[34mℹ\u001b[39m Input `x2` is `replace(x2, x1 > 5 & x1 < 8, x1 + x2)`.”\n",
      "Warning message in x[list] <- values:\n",
      "“number of items to replace is not a multiple of replacement length”\n"
     ]
    },
    {
     "data": {
      "text/html": [
       "<table>\n",
       "<caption>A tibble: 10 × 2</caption>\n",
       "<thead>\n",
       "\t<tr><th scope=col>x1</th><th scope=col>x2</th></tr>\n",
       "\t<tr><th scope=col>&lt;int&gt;</th><th scope=col>&lt;dbl&gt;</th></tr>\n",
       "</thead>\n",
       "<tbody>\n",
       "\t<tr><td> 1</td><td> 0.5180116</td></tr>\n",
       "\t<tr><td> 2</td><td> 0.9744405</td></tr>\n",
       "\t<tr><td> 3</td><td> 0.6251501</td></tr>\n",
       "\t<tr><td> 4</td><td>-1.3308200</td></tr>\n",
       "\t<tr><td> 5</td><td>-0.8325119</td></tr>\n",
       "\t<tr><td> 6</td><td> 1.5180116</td></tr>\n",
       "\t<tr><td> 7</td><td> 2.9744405</td></tr>\n",
       "\t<tr><td> 8</td><td>-0.4732586</td></tr>\n",
       "\t<tr><td> 9</td><td>-0.3014033</td></tr>\n",
       "\t<tr><td>10</td><td>-1.1256243</td></tr>\n",
       "</tbody>\n",
       "</table>\n"
      ],
      "text/latex": [
       "A tibble: 10 × 2\n",
       "\\begin{tabular}{ll}\n",
       " x1 & x2\\\\\n",
       " <int> & <dbl>\\\\\n",
       "\\hline\n",
       "\t  1 &  0.5180116\\\\\n",
       "\t  2 &  0.9744405\\\\\n",
       "\t  3 &  0.6251501\\\\\n",
       "\t  4 & -1.3308200\\\\\n",
       "\t  5 & -0.8325119\\\\\n",
       "\t  6 &  1.5180116\\\\\n",
       "\t  7 &  2.9744405\\\\\n",
       "\t  8 & -0.4732586\\\\\n",
       "\t  9 & -0.3014033\\\\\n",
       "\t 10 & -1.1256243\\\\\n",
       "\\end{tabular}\n"
      ],
      "text/markdown": [
       "\n",
       "A tibble: 10 × 2\n",
       "\n",
       "| x1 &lt;int&gt; | x2 &lt;dbl&gt; |\n",
       "|---|---|\n",
       "|  1 |  0.5180116 |\n",
       "|  2 |  0.9744405 |\n",
       "|  3 |  0.6251501 |\n",
       "|  4 | -1.3308200 |\n",
       "|  5 | -0.8325119 |\n",
       "|  6 |  1.5180116 |\n",
       "|  7 |  2.9744405 |\n",
       "|  8 | -0.4732586 |\n",
       "|  9 | -0.3014033 |\n",
       "| 10 | -1.1256243 |\n",
       "\n"
      ],
      "text/plain": [
       "   x1 x2        \n",
       "1   1  0.5180116\n",
       "2   2  0.9744405\n",
       "3   3  0.6251501\n",
       "4   4 -1.3308200\n",
       "5   5 -0.8325119\n",
       "6   6  1.5180116\n",
       "7   7  2.9744405\n",
       "8   8 -0.4732586\n",
       "9   9 -0.3014033\n",
       "10 10 -1.1256243"
      ]
     },
     "metadata": {},
     "output_type": "display_data"
    }
   ],
   "source": [
    "tb %>% mutate(x2=replace(x2, x1>5 & x1<8,x1+x2))"
   ]
  },
  {
   "cell_type": "markdown",
   "metadata": {},
   "source": [
    "결국 `mutate(...=replace(...))`으로 구현하고 싶은것은 모두 `mutate(...=ifelse(...))`으로 구현가능하다. "
   ]
  },
  {
   "cell_type": "code",
   "execution_count": 107,
   "metadata": {},
   "outputs": [
    {
     "data": {
      "text/html": [
       "<table>\n",
       "<caption>A tibble: 10 × 2</caption>\n",
       "<thead>\n",
       "\t<tr><th scope=col>x1</th><th scope=col>x2</th></tr>\n",
       "\t<tr><th scope=col>&lt;int&gt;</th><th scope=col>&lt;dbl&gt;</th></tr>\n",
       "</thead>\n",
       "<tbody>\n",
       "\t<tr><td> 1</td><td>  0.5180116</td></tr>\n",
       "\t<tr><td> 2</td><td>  0.9744405</td></tr>\n",
       "\t<tr><td> 3</td><td>  0.6251501</td></tr>\n",
       "\t<tr><td> 4</td><td> -1.3308200</td></tr>\n",
       "\t<tr><td> 5</td><td> -0.8325119</td></tr>\n",
       "\t<tr><td> 6</td><td>100.0000000</td></tr>\n",
       "\t<tr><td> 7</td><td>100.0000000</td></tr>\n",
       "\t<tr><td> 8</td><td> -0.4732586</td></tr>\n",
       "\t<tr><td> 9</td><td> -0.3014033</td></tr>\n",
       "\t<tr><td>10</td><td> -1.1256243</td></tr>\n",
       "</tbody>\n",
       "</table>\n"
      ],
      "text/latex": [
       "A tibble: 10 × 2\n",
       "\\begin{tabular}{ll}\n",
       " x1 & x2\\\\\n",
       " <int> & <dbl>\\\\\n",
       "\\hline\n",
       "\t  1 &   0.5180116\\\\\n",
       "\t  2 &   0.9744405\\\\\n",
       "\t  3 &   0.6251501\\\\\n",
       "\t  4 &  -1.3308200\\\\\n",
       "\t  5 &  -0.8325119\\\\\n",
       "\t  6 & 100.0000000\\\\\n",
       "\t  7 & 100.0000000\\\\\n",
       "\t  8 &  -0.4732586\\\\\n",
       "\t  9 &  -0.3014033\\\\\n",
       "\t 10 &  -1.1256243\\\\\n",
       "\\end{tabular}\n"
      ],
      "text/markdown": [
       "\n",
       "A tibble: 10 × 2\n",
       "\n",
       "| x1 &lt;int&gt; | x2 &lt;dbl&gt; |\n",
       "|---|---|\n",
       "|  1 |   0.5180116 |\n",
       "|  2 |   0.9744405 |\n",
       "|  3 |   0.6251501 |\n",
       "|  4 |  -1.3308200 |\n",
       "|  5 |  -0.8325119 |\n",
       "|  6 | 100.0000000 |\n",
       "|  7 | 100.0000000 |\n",
       "|  8 |  -0.4732586 |\n",
       "|  9 |  -0.3014033 |\n",
       "| 10 |  -1.1256243 |\n",
       "\n"
      ],
      "text/plain": [
       "   x1 x2         \n",
       "1   1   0.5180116\n",
       "2   2   0.9744405\n",
       "3   3   0.6251501\n",
       "4   4  -1.3308200\n",
       "5   5  -0.8325119\n",
       "6   6 100.0000000\n",
       "7   7 100.0000000\n",
       "8   8  -0.4732586\n",
       "9   9  -0.3014033\n",
       "10 10  -1.1256243"
      ]
     },
     "metadata": {},
     "output_type": "display_data"
    }
   ],
   "source": [
    "tb %>% mutate(x2=ifelse(x1>5 & x1<8,100, x2))"
   ]
  },
  {
   "cell_type": "markdown",
   "metadata": {},
   "source": [
    "# 5. `mutate`로 방금 생성한 열을 참조할 수 있다. \n",
    "- `x3=x1+x2`\n",
    "- `x4=x1-mean(x3)`"
   ]
  },
  {
   "cell_type": "code",
   "execution_count": 38,
   "metadata": {},
   "outputs": [
    {
     "data": {
      "text/html": [
       "<table>\n",
       "<caption>A tibble: 5 × 4</caption>\n",
       "<thead>\n",
       "\t<tr><th scope=col>x1</th><th scope=col>x2</th><th scope=col>x3</th><th scope=col>x4</th></tr>\n",
       "\t<tr><th scope=col>&lt;int&gt;</th><th scope=col>&lt;dbl&gt;</th><th scope=col>&lt;dbl&gt;</th><th scope=col>&lt;dbl&gt;</th></tr>\n",
       "</thead>\n",
       "<tbody>\n",
       "\t<tr><td> 6</td><td> 4.250558</td><td>10.25056</td><td>-9.850737</td></tr>\n",
       "\t<tr><td> 7</td><td> 7.090263</td><td>14.09026</td><td>-8.850737</td></tr>\n",
       "\t<tr><td> 8</td><td> 7.582446</td><td>15.58245</td><td>-7.850737</td></tr>\n",
       "\t<tr><td> 9</td><td>10.102814</td><td>19.10281</td><td>-6.850737</td></tr>\n",
       "\t<tr><td>10</td><td>10.227604</td><td>20.22760</td><td>-5.850737</td></tr>\n",
       "</tbody>\n",
       "</table>\n"
      ],
      "text/latex": [
       "A tibble: 5 × 4\n",
       "\\begin{tabular}{llll}\n",
       " x1 & x2 & x3 & x4\\\\\n",
       " <int> & <dbl> & <dbl> & <dbl>\\\\\n",
       "\\hline\n",
       "\t  6 &  4.250558 & 10.25056 & -9.850737\\\\\n",
       "\t  7 &  7.090263 & 14.09026 & -8.850737\\\\\n",
       "\t  8 &  7.582446 & 15.58245 & -7.850737\\\\\n",
       "\t  9 & 10.102814 & 19.10281 & -6.850737\\\\\n",
       "\t 10 & 10.227604 & 20.22760 & -5.850737\\\\\n",
       "\\end{tabular}\n"
      ],
      "text/markdown": [
       "\n",
       "A tibble: 5 × 4\n",
       "\n",
       "| x1 &lt;int&gt; | x2 &lt;dbl&gt; | x3 &lt;dbl&gt; | x4 &lt;dbl&gt; |\n",
       "|---|---|---|---|\n",
       "|  6 |  4.250558 | 10.25056 | -9.850737 |\n",
       "|  7 |  7.090263 | 14.09026 | -8.850737 |\n",
       "|  8 |  7.582446 | 15.58245 | -7.850737 |\n",
       "|  9 | 10.102814 | 19.10281 | -6.850737 |\n",
       "| 10 | 10.227604 | 20.22760 | -5.850737 |\n",
       "\n"
      ],
      "text/plain": [
       "  x1 x2        x3       x4       \n",
       "1  6  4.250558 10.25056 -9.850737\n",
       "2  7  7.090263 14.09026 -8.850737\n",
       "3  8  7.582446 15.58245 -7.850737\n",
       "4  9 10.102814 19.10281 -6.850737\n",
       "5 10 10.227604 20.22760 -5.850737"
      ]
     },
     "metadata": {},
     "output_type": "display_data"
    }
   ],
   "source": [
    "mutate(tb,x3=x1+x2,x4=x1-mean(x3))"
   ]
  },
  {
   "cell_type": "markdown",
   "metadata": {},
   "source": [
    "# 6. 생성된결과만 보고 싶다면 `transmute`를 써라. "
   ]
  },
  {
   "cell_type": "code",
   "execution_count": 39,
   "metadata": {},
   "outputs": [
    {
     "data": {
      "text/html": [
       "<table>\n",
       "<caption>A tibble: 5 × 2</caption>\n",
       "<thead>\n",
       "\t<tr><th scope=col>x3</th><th scope=col>x4</th></tr>\n",
       "\t<tr><th scope=col>&lt;dbl&gt;</th><th scope=col>&lt;dbl&gt;</th></tr>\n",
       "</thead>\n",
       "<tbody>\n",
       "\t<tr><td>10.25056</td><td>-9.850737</td></tr>\n",
       "\t<tr><td>14.09026</td><td>-8.850737</td></tr>\n",
       "\t<tr><td>15.58245</td><td>-7.850737</td></tr>\n",
       "\t<tr><td>19.10281</td><td>-6.850737</td></tr>\n",
       "\t<tr><td>20.22760</td><td>-5.850737</td></tr>\n",
       "</tbody>\n",
       "</table>\n"
      ],
      "text/latex": [
       "A tibble: 5 × 2\n",
       "\\begin{tabular}{ll}\n",
       " x3 & x4\\\\\n",
       " <dbl> & <dbl>\\\\\n",
       "\\hline\n",
       "\t 10.25056 & -9.850737\\\\\n",
       "\t 14.09026 & -8.850737\\\\\n",
       "\t 15.58245 & -7.850737\\\\\n",
       "\t 19.10281 & -6.850737\\\\\n",
       "\t 20.22760 & -5.850737\\\\\n",
       "\\end{tabular}\n"
      ],
      "text/markdown": [
       "\n",
       "A tibble: 5 × 2\n",
       "\n",
       "| x3 &lt;dbl&gt; | x4 &lt;dbl&gt; |\n",
       "|---|---|\n",
       "| 10.25056 | -9.850737 |\n",
       "| 14.09026 | -8.850737 |\n",
       "| 15.58245 | -7.850737 |\n",
       "| 19.10281 | -6.850737 |\n",
       "| 20.22760 | -5.850737 |\n",
       "\n"
      ],
      "text/plain": [
       "  x3       x4       \n",
       "1 10.25056 -9.850737\n",
       "2 14.09026 -8.850737\n",
       "3 15.58245 -7.850737\n",
       "4 19.10281 -6.850737\n",
       "5 20.22760 -5.850737"
      ]
     },
     "metadata": {},
     "output_type": "display_data"
    }
   ],
   "source": [
    "transmute(tb,x3=x1+x2,x4=x1-mean(x3))"
   ]
  },
  {
   "cell_type": "markdown",
   "metadata": {},
   "source": [
    "# 7. `lag`함수와 `mutate`를 쓰면 매우 강력하다. 이유는 `NA`를 잘 처리하기 때문임. "
   ]
  },
  {
   "cell_type": "code",
   "execution_count": 9,
   "metadata": {},
   "outputs": [
    {
     "data": {
      "text/html": [
       "<table>\n",
       "<caption>A tibble: 10 × 3</caption>\n",
       "<thead>\n",
       "\t<tr><th scope=col>x1</th><th scope=col>x2</th><th scope=col>x3</th></tr>\n",
       "\t<tr><th scope=col>&lt;int&gt;</th><th scope=col>&lt;dbl&gt;</th><th scope=col>&lt;dbl&gt;</th></tr>\n",
       "</thead>\n",
       "<tbody>\n",
       "\t<tr><td> 1</td><td>-0.66774172</td><td>         NA</td></tr>\n",
       "\t<tr><td> 2</td><td> 0.97955613</td><td>-0.66774172</td></tr>\n",
       "\t<tr><td> 3</td><td>-0.23543652</td><td> 0.97955613</td></tr>\n",
       "\t<tr><td> 4</td><td>-0.05123645</td><td>-0.23543652</td></tr>\n",
       "\t<tr><td> 5</td><td>-0.92831697</td><td>-0.05123645</td></tr>\n",
       "\t<tr><td> 6</td><td>-0.24151830</td><td>-0.92831697</td></tr>\n",
       "\t<tr><td> 7</td><td>-2.29371835</td><td>-0.24151830</td></tr>\n",
       "\t<tr><td> 8</td><td> 1.84967922</td><td>-2.29371835</td></tr>\n",
       "\t<tr><td> 9</td><td>-0.85967047</td><td> 1.84967922</td></tr>\n",
       "\t<tr><td>10</td><td>-0.28646204</td><td>-0.85967047</td></tr>\n",
       "</tbody>\n",
       "</table>\n"
      ],
      "text/latex": [
       "A tibble: 10 × 3\n",
       "\\begin{tabular}{lll}\n",
       " x1 & x2 & x3\\\\\n",
       " <int> & <dbl> & <dbl>\\\\\n",
       "\\hline\n",
       "\t  1 & -0.66774172 &          NA\\\\\n",
       "\t  2 &  0.97955613 & -0.66774172\\\\\n",
       "\t  3 & -0.23543652 &  0.97955613\\\\\n",
       "\t  4 & -0.05123645 & -0.23543652\\\\\n",
       "\t  5 & -0.92831697 & -0.05123645\\\\\n",
       "\t  6 & -0.24151830 & -0.92831697\\\\\n",
       "\t  7 & -2.29371835 & -0.24151830\\\\\n",
       "\t  8 &  1.84967922 & -2.29371835\\\\\n",
       "\t  9 & -0.85967047 &  1.84967922\\\\\n",
       "\t 10 & -0.28646204 & -0.85967047\\\\\n",
       "\\end{tabular}\n"
      ],
      "text/markdown": [
       "\n",
       "A tibble: 10 × 3\n",
       "\n",
       "| x1 &lt;int&gt; | x2 &lt;dbl&gt; | x3 &lt;dbl&gt; |\n",
       "|---|---|---|\n",
       "|  1 | -0.66774172 |          NA |\n",
       "|  2 |  0.97955613 | -0.66774172 |\n",
       "|  3 | -0.23543652 |  0.97955613 |\n",
       "|  4 | -0.05123645 | -0.23543652 |\n",
       "|  5 | -0.92831697 | -0.05123645 |\n",
       "|  6 | -0.24151830 | -0.92831697 |\n",
       "|  7 | -2.29371835 | -0.24151830 |\n",
       "|  8 |  1.84967922 | -2.29371835 |\n",
       "|  9 | -0.85967047 |  1.84967922 |\n",
       "| 10 | -0.28646204 | -0.85967047 |\n",
       "\n"
      ],
      "text/plain": [
       "   x1 x2          x3         \n",
       "1   1 -0.66774172          NA\n",
       "2   2  0.97955613 -0.66774172\n",
       "3   3 -0.23543652  0.97955613\n",
       "4   4 -0.05123645 -0.23543652\n",
       "5   5 -0.92831697 -0.05123645\n",
       "6   6 -0.24151830 -0.92831697\n",
       "7   7 -2.29371835 -0.24151830\n",
       "8   8  1.84967922 -2.29371835\n",
       "9   9 -0.85967047  1.84967922\n",
       "10 10 -0.28646204 -0.85967047"
      ]
     },
     "metadata": {},
     "output_type": "display_data"
    }
   ],
   "source": [
    "mutate(tb,x3=lag(x2))"
   ]
  },
  {
   "cell_type": "code",
   "execution_count": 10,
   "metadata": {},
   "outputs": [
    {
     "data": {
      "text/html": [
       "<table>\n",
       "<caption>A tibble: 10 × 4</caption>\n",
       "<thead>\n",
       "\t<tr><th scope=col>x1</th><th scope=col>x2</th><th scope=col>x3</th><th scope=col>x4</th></tr>\n",
       "\t<tr><th scope=col>&lt;int&gt;</th><th scope=col>&lt;dbl&gt;</th><th scope=col>&lt;dbl&gt;</th><th scope=col>&lt;dbl&gt;</th></tr>\n",
       "</thead>\n",
       "<tbody>\n",
       "\t<tr><td> 1</td><td>-0.66774172</td><td>         NA</td><td>        NA</td></tr>\n",
       "\t<tr><td> 2</td><td> 0.97955613</td><td>-0.66774172</td><td> 1.6472979</td></tr>\n",
       "\t<tr><td> 3</td><td>-0.23543652</td><td> 0.97955613</td><td>-1.2149926</td></tr>\n",
       "\t<tr><td> 4</td><td>-0.05123645</td><td>-0.23543652</td><td> 0.1842001</td></tr>\n",
       "\t<tr><td> 5</td><td>-0.92831697</td><td>-0.05123645</td><td>-0.8770805</td></tr>\n",
       "\t<tr><td> 6</td><td>-0.24151830</td><td>-0.92831697</td><td> 0.6867987</td></tr>\n",
       "\t<tr><td> 7</td><td>-2.29371835</td><td>-0.24151830</td><td>-2.0522001</td></tr>\n",
       "\t<tr><td> 8</td><td> 1.84967922</td><td>-2.29371835</td><td> 4.1433976</td></tr>\n",
       "\t<tr><td> 9</td><td>-0.85967047</td><td> 1.84967922</td><td>-2.7093497</td></tr>\n",
       "\t<tr><td>10</td><td>-0.28646204</td><td>-0.85967047</td><td> 0.5732084</td></tr>\n",
       "</tbody>\n",
       "</table>\n"
      ],
      "text/latex": [
       "A tibble: 10 × 4\n",
       "\\begin{tabular}{llll}\n",
       " x1 & x2 & x3 & x4\\\\\n",
       " <int> & <dbl> & <dbl> & <dbl>\\\\\n",
       "\\hline\n",
       "\t  1 & -0.66774172 &          NA &         NA\\\\\n",
       "\t  2 &  0.97955613 & -0.66774172 &  1.6472979\\\\\n",
       "\t  3 & -0.23543652 &  0.97955613 & -1.2149926\\\\\n",
       "\t  4 & -0.05123645 & -0.23543652 &  0.1842001\\\\\n",
       "\t  5 & -0.92831697 & -0.05123645 & -0.8770805\\\\\n",
       "\t  6 & -0.24151830 & -0.92831697 &  0.6867987\\\\\n",
       "\t  7 & -2.29371835 & -0.24151830 & -2.0522001\\\\\n",
       "\t  8 &  1.84967922 & -2.29371835 &  4.1433976\\\\\n",
       "\t  9 & -0.85967047 &  1.84967922 & -2.7093497\\\\\n",
       "\t 10 & -0.28646204 & -0.85967047 &  0.5732084\\\\\n",
       "\\end{tabular}\n"
      ],
      "text/markdown": [
       "\n",
       "A tibble: 10 × 4\n",
       "\n",
       "| x1 &lt;int&gt; | x2 &lt;dbl&gt; | x3 &lt;dbl&gt; | x4 &lt;dbl&gt; |\n",
       "|---|---|---|---|\n",
       "|  1 | -0.66774172 |          NA |         NA |\n",
       "|  2 |  0.97955613 | -0.66774172 |  1.6472979 |\n",
       "|  3 | -0.23543652 |  0.97955613 | -1.2149926 |\n",
       "|  4 | -0.05123645 | -0.23543652 |  0.1842001 |\n",
       "|  5 | -0.92831697 | -0.05123645 | -0.8770805 |\n",
       "|  6 | -0.24151830 | -0.92831697 |  0.6867987 |\n",
       "|  7 | -2.29371835 | -0.24151830 | -2.0522001 |\n",
       "|  8 |  1.84967922 | -2.29371835 |  4.1433976 |\n",
       "|  9 | -0.85967047 |  1.84967922 | -2.7093497 |\n",
       "| 10 | -0.28646204 | -0.85967047 |  0.5732084 |\n",
       "\n"
      ],
      "text/plain": [
       "   x1 x2          x3          x4        \n",
       "1   1 -0.66774172          NA         NA\n",
       "2   2  0.97955613 -0.66774172  1.6472979\n",
       "3   3 -0.23543652  0.97955613 -1.2149926\n",
       "4   4 -0.05123645 -0.23543652  0.1842001\n",
       "5   5 -0.92831697 -0.05123645 -0.8770805\n",
       "6   6 -0.24151830 -0.92831697  0.6867987\n",
       "7   7 -2.29371835 -0.24151830 -2.0522001\n",
       "8   8  1.84967922 -2.29371835  4.1433976\n",
       "9   9 -0.85967047  1.84967922 -2.7093497\n",
       "10 10 -0.28646204 -0.85967047  0.5732084"
      ]
     },
     "metadata": {},
     "output_type": "display_data"
    }
   ],
   "source": [
    "mutate(tb,x3=lag(x2),x4=x2-x3)"
   ]
  },
  {
   "cell_type": "markdown",
   "metadata": {},
   "source": [
    "차분을 구하기 위해서 아래와 같이 더 간단히 쓸 수도 있다. "
   ]
  },
  {
   "cell_type": "code",
   "execution_count": 11,
   "metadata": {},
   "outputs": [
    {
     "data": {
      "text/html": [
       "<table>\n",
       "<caption>A tibble: 10 × 3</caption>\n",
       "<thead>\n",
       "\t<tr><th scope=col>x1</th><th scope=col>x2</th><th scope=col>x3</th></tr>\n",
       "\t<tr><th scope=col>&lt;int&gt;</th><th scope=col>&lt;dbl&gt;</th><th scope=col>&lt;dbl&gt;</th></tr>\n",
       "</thead>\n",
       "<tbody>\n",
       "\t<tr><td> 1</td><td>-0.66774172</td><td>        NA</td></tr>\n",
       "\t<tr><td> 2</td><td> 0.97955613</td><td> 1.6472979</td></tr>\n",
       "\t<tr><td> 3</td><td>-0.23543652</td><td>-1.2149926</td></tr>\n",
       "\t<tr><td> 4</td><td>-0.05123645</td><td> 0.1842001</td></tr>\n",
       "\t<tr><td> 5</td><td>-0.92831697</td><td>-0.8770805</td></tr>\n",
       "\t<tr><td> 6</td><td>-0.24151830</td><td> 0.6867987</td></tr>\n",
       "\t<tr><td> 7</td><td>-2.29371835</td><td>-2.0522001</td></tr>\n",
       "\t<tr><td> 8</td><td> 1.84967922</td><td> 4.1433976</td></tr>\n",
       "\t<tr><td> 9</td><td>-0.85967047</td><td>-2.7093497</td></tr>\n",
       "\t<tr><td>10</td><td>-0.28646204</td><td> 0.5732084</td></tr>\n",
       "</tbody>\n",
       "</table>\n"
      ],
      "text/latex": [
       "A tibble: 10 × 3\n",
       "\\begin{tabular}{lll}\n",
       " x1 & x2 & x3\\\\\n",
       " <int> & <dbl> & <dbl>\\\\\n",
       "\\hline\n",
       "\t  1 & -0.66774172 &         NA\\\\\n",
       "\t  2 &  0.97955613 &  1.6472979\\\\\n",
       "\t  3 & -0.23543652 & -1.2149926\\\\\n",
       "\t  4 & -0.05123645 &  0.1842001\\\\\n",
       "\t  5 & -0.92831697 & -0.8770805\\\\\n",
       "\t  6 & -0.24151830 &  0.6867987\\\\\n",
       "\t  7 & -2.29371835 & -2.0522001\\\\\n",
       "\t  8 &  1.84967922 &  4.1433976\\\\\n",
       "\t  9 & -0.85967047 & -2.7093497\\\\\n",
       "\t 10 & -0.28646204 &  0.5732084\\\\\n",
       "\\end{tabular}\n"
      ],
      "text/markdown": [
       "\n",
       "A tibble: 10 × 3\n",
       "\n",
       "| x1 &lt;int&gt; | x2 &lt;dbl&gt; | x3 &lt;dbl&gt; |\n",
       "|---|---|---|\n",
       "|  1 | -0.66774172 |         NA |\n",
       "|  2 |  0.97955613 |  1.6472979 |\n",
       "|  3 | -0.23543652 | -1.2149926 |\n",
       "|  4 | -0.05123645 |  0.1842001 |\n",
       "|  5 | -0.92831697 | -0.8770805 |\n",
       "|  6 | -0.24151830 |  0.6867987 |\n",
       "|  7 | -2.29371835 | -2.0522001 |\n",
       "|  8 |  1.84967922 |  4.1433976 |\n",
       "|  9 | -0.85967047 | -2.7093497 |\n",
       "| 10 | -0.28646204 |  0.5732084 |\n",
       "\n"
      ],
      "text/plain": [
       "   x1 x2          x3        \n",
       "1   1 -0.66774172         NA\n",
       "2   2  0.97955613  1.6472979\n",
       "3   3 -0.23543652 -1.2149926\n",
       "4   4 -0.05123645  0.1842001\n",
       "5   5 -0.92831697 -0.8770805\n",
       "6   6 -0.24151830  0.6867987\n",
       "7   7 -2.29371835 -2.0522001\n",
       "8   8  1.84967922  4.1433976\n",
       "9   9 -0.85967047 -2.7093497\n",
       "10 10 -0.28646204  0.5732084"
      ]
     },
     "metadata": {},
     "output_type": "display_data"
    }
   ],
   "source": [
    "mutate(tb,x3=x2-lag(x2))"
   ]
  },
  {
   "cell_type": "markdown",
   "metadata": {},
   "source": [
    "### 참고로 위를 구현하기위해서 `mutate(tb,x3=diff(x2))`와 같이 입력하면 에러가 난다. \n",
    "### 결론: `diff`함수보다 `lag`함수를 활용하여 `NA`를 처리하기에 좋다. 그러니까 `diff`를 쓰지말자. "
   ]
  },
  {
   "cell_type": "markdown",
   "metadata": {},
   "source": [
    "# 8. 변화점을 찾을때 `x!=lag(x)`와 같이 활용하면 유용하다. "
   ]
  },
  {
   "cell_type": "markdown",
   "metadata": {},
   "source": [
    "아래와 같이 새로운 데이터셋 `tb2`를 만들자. "
   ]
  },
  {
   "cell_type": "code",
   "execution_count": 12,
   "metadata": {},
   "outputs": [
    {
     "data": {
      "text/html": [
       "<table>\n",
       "<caption>A tibble: 10 × 3</caption>\n",
       "<thead>\n",
       "\t<tr><th scope=col>x1</th><th scope=col>x2</th><th scope=col>comp</th></tr>\n",
       "\t<tr><th scope=col>&lt;int&gt;</th><th scope=col>&lt;dbl&gt;</th><th scope=col>&lt;dbl&gt;</th></tr>\n",
       "</thead>\n",
       "<tbody>\n",
       "\t<tr><td> 1</td><td>-0.66774172</td><td> 0</td></tr>\n",
       "\t<tr><td> 2</td><td> 0.97955613</td><td> 0</td></tr>\n",
       "\t<tr><td> 3</td><td>-0.23543652</td><td> 0</td></tr>\n",
       "\t<tr><td> 4</td><td>-0.05123645</td><td> 0</td></tr>\n",
       "\t<tr><td> 5</td><td>-0.92831697</td><td> 0</td></tr>\n",
       "\t<tr><td> 6</td><td>-0.24151830</td><td>40</td></tr>\n",
       "\t<tr><td> 7</td><td>-2.29371835</td><td>40</td></tr>\n",
       "\t<tr><td> 8</td><td> 1.84967922</td><td>40</td></tr>\n",
       "\t<tr><td> 9</td><td>-0.85967047</td><td>40</td></tr>\n",
       "\t<tr><td>10</td><td>-0.28646204</td><td>40</td></tr>\n",
       "</tbody>\n",
       "</table>\n"
      ],
      "text/latex": [
       "A tibble: 10 × 3\n",
       "\\begin{tabular}{lll}\n",
       " x1 & x2 & comp\\\\\n",
       " <int> & <dbl> & <dbl>\\\\\n",
       "\\hline\n",
       "\t  1 & -0.66774172 &  0\\\\\n",
       "\t  2 &  0.97955613 &  0\\\\\n",
       "\t  3 & -0.23543652 &  0\\\\\n",
       "\t  4 & -0.05123645 &  0\\\\\n",
       "\t  5 & -0.92831697 &  0\\\\\n",
       "\t  6 & -0.24151830 & 40\\\\\n",
       "\t  7 & -2.29371835 & 40\\\\\n",
       "\t  8 &  1.84967922 & 40\\\\\n",
       "\t  9 & -0.85967047 & 40\\\\\n",
       "\t 10 & -0.28646204 & 40\\\\\n",
       "\\end{tabular}\n"
      ],
      "text/markdown": [
       "\n",
       "A tibble: 10 × 3\n",
       "\n",
       "| x1 &lt;int&gt; | x2 &lt;dbl&gt; | comp &lt;dbl&gt; |\n",
       "|---|---|---|\n",
       "|  1 | -0.66774172 |  0 |\n",
       "|  2 |  0.97955613 |  0 |\n",
       "|  3 | -0.23543652 |  0 |\n",
       "|  4 | -0.05123645 |  0 |\n",
       "|  5 | -0.92831697 |  0 |\n",
       "|  6 | -0.24151830 | 40 |\n",
       "|  7 | -2.29371835 | 40 |\n",
       "|  8 |  1.84967922 | 40 |\n",
       "|  9 | -0.85967047 | 40 |\n",
       "| 10 | -0.28646204 | 40 |\n",
       "\n"
      ],
      "text/plain": [
       "   x1 x2          comp\n",
       "1   1 -0.66774172  0  \n",
       "2   2  0.97955613  0  \n",
       "3   3 -0.23543652  0  \n",
       "4   4 -0.05123645  0  \n",
       "5   5 -0.92831697  0  \n",
       "6   6 -0.24151830 40  \n",
       "7   7 -2.29371835 40  \n",
       "8   8  1.84967922 40  \n",
       "9   9 -0.85967047 40  \n",
       "10 10 -0.28646204 40  "
      ]
     },
     "metadata": {},
     "output_type": "display_data"
    }
   ],
   "source": [
    "tb2<-as_tibble(cbind(tb,comp=c(0,0,0,0,0,40,40,40,40,40)))\n",
    "tb2"
   ]
  },
  {
   "cell_type": "markdown",
   "metadata": {},
   "source": [
    "`tb2`에서 컴프값이 `0`에서 `40`으로 바뀌는 시점에 관심이 있다고 하자. "
   ]
  },
  {
   "cell_type": "code",
   "execution_count": 13,
   "metadata": {},
   "outputs": [
    {
     "data": {
      "text/html": [
       "<table>\n",
       "<caption>A tibble: 10 × 4</caption>\n",
       "<thead>\n",
       "\t<tr><th scope=col>x1</th><th scope=col>x2</th><th scope=col>comp</th><th scope=col>comp != lag(comp)</th></tr>\n",
       "\t<tr><th scope=col>&lt;int&gt;</th><th scope=col>&lt;dbl&gt;</th><th scope=col>&lt;dbl&gt;</th><th scope=col>&lt;lgl&gt;</th></tr>\n",
       "</thead>\n",
       "<tbody>\n",
       "\t<tr><td> 1</td><td>-0.66774172</td><td> 0</td><td>   NA</td></tr>\n",
       "\t<tr><td> 2</td><td> 0.97955613</td><td> 0</td><td>FALSE</td></tr>\n",
       "\t<tr><td> 3</td><td>-0.23543652</td><td> 0</td><td>FALSE</td></tr>\n",
       "\t<tr><td> 4</td><td>-0.05123645</td><td> 0</td><td>FALSE</td></tr>\n",
       "\t<tr><td> 5</td><td>-0.92831697</td><td> 0</td><td>FALSE</td></tr>\n",
       "\t<tr><td> 6</td><td>-0.24151830</td><td>40</td><td> TRUE</td></tr>\n",
       "\t<tr><td> 7</td><td>-2.29371835</td><td>40</td><td>FALSE</td></tr>\n",
       "\t<tr><td> 8</td><td> 1.84967922</td><td>40</td><td>FALSE</td></tr>\n",
       "\t<tr><td> 9</td><td>-0.85967047</td><td>40</td><td>FALSE</td></tr>\n",
       "\t<tr><td>10</td><td>-0.28646204</td><td>40</td><td>FALSE</td></tr>\n",
       "</tbody>\n",
       "</table>\n"
      ],
      "text/latex": [
       "A tibble: 10 × 4\n",
       "\\begin{tabular}{llll}\n",
       " x1 & x2 & comp & comp != lag(comp)\\\\\n",
       " <int> & <dbl> & <dbl> & <lgl>\\\\\n",
       "\\hline\n",
       "\t  1 & -0.66774172 &  0 &    NA\\\\\n",
       "\t  2 &  0.97955613 &  0 & FALSE\\\\\n",
       "\t  3 & -0.23543652 &  0 & FALSE\\\\\n",
       "\t  4 & -0.05123645 &  0 & FALSE\\\\\n",
       "\t  5 & -0.92831697 &  0 & FALSE\\\\\n",
       "\t  6 & -0.24151830 & 40 &  TRUE\\\\\n",
       "\t  7 & -2.29371835 & 40 & FALSE\\\\\n",
       "\t  8 &  1.84967922 & 40 & FALSE\\\\\n",
       "\t  9 & -0.85967047 & 40 & FALSE\\\\\n",
       "\t 10 & -0.28646204 & 40 & FALSE\\\\\n",
       "\\end{tabular}\n"
      ],
      "text/markdown": [
       "\n",
       "A tibble: 10 × 4\n",
       "\n",
       "| x1 &lt;int&gt; | x2 &lt;dbl&gt; | comp &lt;dbl&gt; | comp != lag(comp) &lt;lgl&gt; |\n",
       "|---|---|---|---|\n",
       "|  1 | -0.66774172 |  0 |    NA |\n",
       "|  2 |  0.97955613 |  0 | FALSE |\n",
       "|  3 | -0.23543652 |  0 | FALSE |\n",
       "|  4 | -0.05123645 |  0 | FALSE |\n",
       "|  5 | -0.92831697 |  0 | FALSE |\n",
       "|  6 | -0.24151830 | 40 |  TRUE |\n",
       "|  7 | -2.29371835 | 40 | FALSE |\n",
       "|  8 |  1.84967922 | 40 | FALSE |\n",
       "|  9 | -0.85967047 | 40 | FALSE |\n",
       "| 10 | -0.28646204 | 40 | FALSE |\n",
       "\n"
      ],
      "text/plain": [
       "   x1 x2          comp comp != lag(comp)\n",
       "1   1 -0.66774172  0      NA            \n",
       "2   2  0.97955613  0   FALSE            \n",
       "3   3 -0.23543652  0   FALSE            \n",
       "4   4 -0.05123645  0   FALSE            \n",
       "5   5 -0.92831697  0   FALSE            \n",
       "6   6 -0.24151830 40    TRUE            \n",
       "7   7 -2.29371835 40   FALSE            \n",
       "8   8  1.84967922 40   FALSE            \n",
       "9   9 -0.85967047 40   FALSE            \n",
       "10 10 -0.28646204 40   FALSE            "
      ]
     },
     "metadata": {},
     "output_type": "display_data"
    }
   ],
   "source": [
    "mutate(tb2,comp!=lag(comp))"
   ]
  },
  {
   "cell_type": "markdown",
   "metadata": {},
   "source": [
    "해당시점의 값들만 뽑아내고 싶다면 아래와 같이 하면 된다. "
   ]
  },
  {
   "cell_type": "code",
   "execution_count": 14,
   "metadata": {},
   "outputs": [
    {
     "data": {
      "text/html": [
       "<table>\n",
       "<caption>A tibble: 1 × 3</caption>\n",
       "<thead>\n",
       "\t<tr><th scope=col>x1</th><th scope=col>x2</th><th scope=col>comp</th></tr>\n",
       "\t<tr><th scope=col>&lt;int&gt;</th><th scope=col>&lt;dbl&gt;</th><th scope=col>&lt;dbl&gt;</th></tr>\n",
       "</thead>\n",
       "<tbody>\n",
       "\t<tr><td>6</td><td>-0.2415183</td><td>40</td></tr>\n",
       "</tbody>\n",
       "</table>\n"
      ],
      "text/latex": [
       "A tibble: 1 × 3\n",
       "\\begin{tabular}{lll}\n",
       " x1 & x2 & comp\\\\\n",
       " <int> & <dbl> & <dbl>\\\\\n",
       "\\hline\n",
       "\t 6 & -0.2415183 & 40\\\\\n",
       "\\end{tabular}\n"
      ],
      "text/markdown": [
       "\n",
       "A tibble: 1 × 3\n",
       "\n",
       "| x1 &lt;int&gt; | x2 &lt;dbl&gt; | comp &lt;dbl&gt; |\n",
       "|---|---|---|\n",
       "| 6 | -0.2415183 | 40 |\n",
       "\n"
      ],
      "text/plain": [
       "  x1 x2         comp\n",
       "1 6  -0.2415183 40  "
      ]
     },
     "metadata": {},
     "output_type": "display_data"
    }
   ],
   "source": [
    "filter(tb2,comp!=lag(comp))"
   ]
  }
 ],
 "metadata": {
  "kernelspec": {
   "display_name": "R",
   "language": "R",
   "name": "ir"
  },
  "language_info": {
   "codemirror_mode": "r",
   "file_extension": ".r",
   "mimetype": "text/x-r-source",
   "name": "R",
   "pygments_lexer": "r",
   "version": "3.6.1"
  }
 },
 "nbformat": 4,
 "nbformat_minor": 4
}
