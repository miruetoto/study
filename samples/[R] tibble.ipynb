{
 "cells": [
  {
   "cell_type": "markdown",
   "metadata": {},
   "source": [
    "# `tribble`"
   ]
  },
  {
   "cell_type": "markdown",
   "metadata": {},
   "source": [
    "# 1. `tibble`"
   ]
  },
  {
   "cell_type": "markdown",
   "metadata": {},
   "source": [
    "`tibble`을 선언하는 방법 "
   ]
  },
  {
   "cell_type": "code",
   "execution_count": 7,
   "metadata": {},
   "outputs": [
    {
     "data": {
      "text/html": [
       "<table>\n",
       "<caption>A tibble: 3 × 2</caption>\n",
       "<thead>\n",
       "\t<tr><th scope=col>f</th><th scope=col>params</th></tr>\n",
       "\t<tr><th scope=col>&lt;chr&gt;</th><th scope=col>&lt;list&gt;</th></tr>\n",
       "</thead>\n",
       "<tbody>\n",
       "\t<tr><td>runif</td><td>-1, 1</td></tr>\n",
       "\t<tr><td>rnorm</td><td>5</td></tr>\n",
       "\t<tr><td>rpois</td><td>10</td></tr>\n",
       "</tbody>\n",
       "</table>\n"
      ],
      "text/latex": [
       "A tibble: 3 × 2\n",
       "\\begin{tabular}{ll}\n",
       " f & params\\\\\n",
       " <chr> & <list>\\\\\n",
       "\\hline\n",
       "\t runif & -1, 1\\\\\n",
       "\t rnorm & 5\\\\\n",
       "\t rpois & 10\\\\\n",
       "\\end{tabular}\n"
      ],
      "text/markdown": [
       "\n",
       "A tibble: 3 × 2\n",
       "\n",
       "| f &lt;chr&gt; | params &lt;list&gt; |\n",
       "|---|---|\n",
       "| runif | -1, 1 |\n",
       "| rnorm | 5 |\n",
       "| rpois | 10 |\n",
       "\n"
      ],
      "text/plain": [
       "  f     params\n",
       "1 runif -1, 1 \n",
       "2 rnorm 5     \n",
       "3 rpois 10    "
      ]
     },
     "metadata": {},
     "output_type": "display_data"
    }
   ],
   "source": [
    "library(tidyverse)\n",
    "f=c(\"runif\",\"rnorm\",\"rpois\") \n",
    "params=list(list(min=-1,max=1),list(sd=5),list(lambda=10))\n",
    "tibble(f=f,params=params)"
   ]
  },
  {
   "cell_type": "markdown",
   "metadata": {},
   "source": [
    "# 2. `tribble`"
   ]
  },
  {
   "cell_type": "markdown",
   "metadata": {},
   "source": [
    "`tibble`을 선언하는 또다른 방법"
   ]
  },
  {
   "cell_type": "code",
   "execution_count": 9,
   "metadata": {},
   "outputs": [
    {
     "data": {
      "text/html": [
       "<table>\n",
       "<caption>A tibble: 3 × 2</caption>\n",
       "<thead>\n",
       "\t<tr><th scope=col>f</th><th scope=col>params</th></tr>\n",
       "\t<tr><th scope=col>&lt;chr&gt;</th><th scope=col>&lt;list&gt;</th></tr>\n",
       "</thead>\n",
       "<tbody>\n",
       "\t<tr><td>runif</td><td>-1, 1</td></tr>\n",
       "\t<tr><td>rnorm</td><td>5</td></tr>\n",
       "\t<tr><td>rpois</td><td>10</td></tr>\n",
       "</tbody>\n",
       "</table>\n"
      ],
      "text/latex": [
       "A tibble: 3 × 2\n",
       "\\begin{tabular}{ll}\n",
       " f & params\\\\\n",
       " <chr> & <list>\\\\\n",
       "\\hline\n",
       "\t runif & -1, 1\\\\\n",
       "\t rnorm & 5\\\\\n",
       "\t rpois & 10\\\\\n",
       "\\end{tabular}\n"
      ],
      "text/markdown": [
       "\n",
       "A tibble: 3 × 2\n",
       "\n",
       "| f &lt;chr&gt; | params &lt;list&gt; |\n",
       "|---|---|\n",
       "| runif | -1, 1 |\n",
       "| rnorm | 5 |\n",
       "| rpois | 10 |\n",
       "\n"
      ],
      "text/plain": [
       "  f     params\n",
       "1 runif -1, 1 \n",
       "2 rnorm 5     \n",
       "3 rpois 10    "
      ]
     },
     "metadata": {},
     "output_type": "display_data"
    }
   ],
   "source": [
    "tribble(\n",
    "  ~f,      ~params,\n",
    "  \"runif\", list(min = -1, max = 1),\n",
    "  \"rnorm\", list(sd = 5),\n",
    "  \"rpois\", list(lambda = 10)\n",
    ")"
   ]
  }
 ],
 "metadata": {
  "kernelspec": {
   "display_name": "R",
   "language": "R",
   "name": "ir"
  },
  "language_info": {
   "codemirror_mode": "r",
   "file_extension": ".r",
   "mimetype": "text/x-r-source",
   "name": "R",
   "pygments_lexer": "r",
   "version": "3.6.1"
  }
 },
 "nbformat": 4,
 "nbformat_minor": 4
}
