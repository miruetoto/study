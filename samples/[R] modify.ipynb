{
 "cells": [
  {
   "cell_type": "markdown",
   "metadata": {},
   "source": [
    "# 0. ```modify()```에 대하여 알아보자. \n",
    "\n",
    "- 여러개의 열을 동시에 수정할 수 있다. \n",
    "- 한번에 한 열을 생성하거나 수정할 수 있는 `mutate`와 살짝 다르다. "
   ]
  },
  {
   "cell_type": "markdown",
   "metadata": {},
   "source": [
    "# 1. 데이터를 만든다. "
   ]
  },
  {
   "cell_type": "code",
   "execution_count": 2,
   "metadata": {},
   "outputs": [
    {
     "data": {
      "text/html": [
       "<table>\n",
       "<caption>A tibble: 10 × 2</caption>\n",
       "<thead>\n",
       "\t<tr><th scope=col>x</th><th scope=col>y</th></tr>\n",
       "\t<tr><th scope=col>&lt;int&gt;</th><th scope=col>&lt;dbl&gt;</th></tr>\n",
       "</thead>\n",
       "<tbody>\n",
       "\t<tr><td> 1</td><td>10.138004</td></tr>\n",
       "\t<tr><td> 2</td><td>10.955395</td></tr>\n",
       "\t<tr><td> 3</td><td> 9.832382</td></tr>\n",
       "\t<tr><td> 4</td><td>11.028371</td></tr>\n",
       "\t<tr><td> 5</td><td> 9.467363</td></tr>\n",
       "\t<tr><td> 6</td><td> 9.150900</td></tr>\n",
       "\t<tr><td> 7</td><td>10.059193</td></tr>\n",
       "\t<tr><td> 8</td><td> 9.429763</td></tr>\n",
       "\t<tr><td> 9</td><td> 9.824664</td></tr>\n",
       "\t<tr><td>10</td><td> 7.254830</td></tr>\n",
       "</tbody>\n",
       "</table>\n"
      ],
      "text/latex": [
       "A tibble: 10 × 2\n",
       "\\begin{tabular}{ll}\n",
       " x & y\\\\\n",
       " <int> & <dbl>\\\\\n",
       "\\hline\n",
       "\t  1 & 10.138004\\\\\n",
       "\t  2 & 10.955395\\\\\n",
       "\t  3 &  9.832382\\\\\n",
       "\t  4 & 11.028371\\\\\n",
       "\t  5 &  9.467363\\\\\n",
       "\t  6 &  9.150900\\\\\n",
       "\t  7 & 10.059193\\\\\n",
       "\t  8 &  9.429763\\\\\n",
       "\t  9 &  9.824664\\\\\n",
       "\t 10 &  7.254830\\\\\n",
       "\\end{tabular}\n"
      ],
      "text/markdown": [
       "\n",
       "A tibble: 10 × 2\n",
       "\n",
       "| x &lt;int&gt; | y &lt;dbl&gt; |\n",
       "|---|---|\n",
       "|  1 | 10.138004 |\n",
       "|  2 | 10.955395 |\n",
       "|  3 |  9.832382 |\n",
       "|  4 | 11.028371 |\n",
       "|  5 |  9.467363 |\n",
       "|  6 |  9.150900 |\n",
       "|  7 | 10.059193 |\n",
       "|  8 |  9.429763 |\n",
       "|  9 |  9.824664 |\n",
       "| 10 |  7.254830 |\n",
       "\n"
      ],
      "text/plain": [
       "   x  y        \n",
       "1   1 10.138004\n",
       "2   2 10.955395\n",
       "3   3  9.832382\n",
       "4   4 11.028371\n",
       "5   5  9.467363\n",
       "6   6  9.150900\n",
       "7   7 10.059193\n",
       "8   8  9.429763\n",
       "9   9  9.824664\n",
       "10 10  7.254830"
      ]
     },
     "metadata": {},
     "output_type": "display_data"
    }
   ],
   "source": [
    "library(tidyverse)\n",
    "tb<-tibble(x=1:10,y=rnorm(10,mean=10))\n",
    "tb"
   ]
  },
  {
   "cell_type": "markdown",
   "metadata": {},
   "source": [
    "# 2. `modify()`"
   ]
  },
  {
   "cell_type": "markdown",
   "metadata": {},
   "source": [
    "## (1) `tb`의 모든값에 2를 더하고 싶다. "
   ]
  },
  {
   "cell_type": "code",
   "execution_count": 3,
   "metadata": {},
   "outputs": [
    {
     "data": {
      "text/html": [
       "<table>\n",
       "<caption>A tibble: 10 × 2</caption>\n",
       "<thead>\n",
       "\t<tr><th scope=col>x</th><th scope=col>y</th></tr>\n",
       "\t<tr><th scope=col>&lt;dbl&gt;</th><th scope=col>&lt;dbl&gt;</th></tr>\n",
       "</thead>\n",
       "<tbody>\n",
       "\t<tr><td> 3</td><td>12.13800</td></tr>\n",
       "\t<tr><td> 4</td><td>12.95540</td></tr>\n",
       "\t<tr><td> 5</td><td>11.83238</td></tr>\n",
       "\t<tr><td> 6</td><td>13.02837</td></tr>\n",
       "\t<tr><td> 7</td><td>11.46736</td></tr>\n",
       "\t<tr><td> 8</td><td>11.15090</td></tr>\n",
       "\t<tr><td> 9</td><td>12.05919</td></tr>\n",
       "\t<tr><td>10</td><td>11.42976</td></tr>\n",
       "\t<tr><td>11</td><td>11.82466</td></tr>\n",
       "\t<tr><td>12</td><td> 9.25483</td></tr>\n",
       "</tbody>\n",
       "</table>\n"
      ],
      "text/latex": [
       "A tibble: 10 × 2\n",
       "\\begin{tabular}{ll}\n",
       " x & y\\\\\n",
       " <dbl> & <dbl>\\\\\n",
       "\\hline\n",
       "\t  3 & 12.13800\\\\\n",
       "\t  4 & 12.95540\\\\\n",
       "\t  5 & 11.83238\\\\\n",
       "\t  6 & 13.02837\\\\\n",
       "\t  7 & 11.46736\\\\\n",
       "\t  8 & 11.15090\\\\\n",
       "\t  9 & 12.05919\\\\\n",
       "\t 10 & 11.42976\\\\\n",
       "\t 11 & 11.82466\\\\\n",
       "\t 12 &  9.25483\\\\\n",
       "\\end{tabular}\n"
      ],
      "text/markdown": [
       "\n",
       "A tibble: 10 × 2\n",
       "\n",
       "| x &lt;dbl&gt; | y &lt;dbl&gt; |\n",
       "|---|---|\n",
       "|  3 | 12.13800 |\n",
       "|  4 | 12.95540 |\n",
       "|  5 | 11.83238 |\n",
       "|  6 | 13.02837 |\n",
       "|  7 | 11.46736 |\n",
       "|  8 | 11.15090 |\n",
       "|  9 | 12.05919 |\n",
       "| 10 | 11.42976 |\n",
       "| 11 | 11.82466 |\n",
       "| 12 |  9.25483 |\n",
       "\n"
      ],
      "text/plain": [
       "   x  y       \n",
       "1   3 12.13800\n",
       "2   4 12.95540\n",
       "3   5 11.83238\n",
       "4   6 13.02837\n",
       "5   7 11.46736\n",
       "6   8 11.15090\n",
       "7   9 12.05919\n",
       "8  10 11.42976\n",
       "9  11 11.82466\n",
       "10 12  9.25483"
      ]
     },
     "metadata": {},
     "output_type": "display_data"
    }
   ],
   "source": [
    "modify(tb,~.+2)"
   ]
  },
  {
   "cell_type": "markdown",
   "metadata": {},
   "source": [
    "# 3. `iris`자료를 불러오자. "
   ]
  },
  {
   "cell_type": "markdown",
   "metadata": {},
   "source": [
    "딱히 멀 부른다기보다 그냥 `iris`라고 타이핑하면 알아서 나온다. "
   ]
  },
  {
   "cell_type": "code",
   "execution_count": 4,
   "metadata": {},
   "outputs": [
    {
     "data": {
      "text/html": [
       "<table>\n",
       "<caption>A data.frame: 6 × 5</caption>\n",
       "<thead>\n",
       "\t<tr><th></th><th scope=col>Sepal.Length</th><th scope=col>Sepal.Width</th><th scope=col>Petal.Length</th><th scope=col>Petal.Width</th><th scope=col>Species</th></tr>\n",
       "\t<tr><th></th><th scope=col>&lt;dbl&gt;</th><th scope=col>&lt;dbl&gt;</th><th scope=col>&lt;dbl&gt;</th><th scope=col>&lt;dbl&gt;</th><th scope=col>&lt;fct&gt;</th></tr>\n",
       "</thead>\n",
       "<tbody>\n",
       "\t<tr><th scope=row>1</th><td>5.1</td><td>3.5</td><td>1.4</td><td>0.2</td><td>setosa</td></tr>\n",
       "\t<tr><th scope=row>2</th><td>4.9</td><td>3.0</td><td>1.4</td><td>0.2</td><td>setosa</td></tr>\n",
       "\t<tr><th scope=row>3</th><td>4.7</td><td>3.2</td><td>1.3</td><td>0.2</td><td>setosa</td></tr>\n",
       "\t<tr><th scope=row>4</th><td>4.6</td><td>3.1</td><td>1.5</td><td>0.2</td><td>setosa</td></tr>\n",
       "\t<tr><th scope=row>5</th><td>5.0</td><td>3.6</td><td>1.4</td><td>0.2</td><td>setosa</td></tr>\n",
       "\t<tr><th scope=row>6</th><td>5.4</td><td>3.9</td><td>1.7</td><td>0.4</td><td>setosa</td></tr>\n",
       "</tbody>\n",
       "</table>\n"
      ],
      "text/latex": [
       "A data.frame: 6 × 5\n",
       "\\begin{tabular}{r|lllll}\n",
       "  & Sepal.Length & Sepal.Width & Petal.Length & Petal.Width & Species\\\\\n",
       "  & <dbl> & <dbl> & <dbl> & <dbl> & <fct>\\\\\n",
       "\\hline\n",
       "\t1 & 5.1 & 3.5 & 1.4 & 0.2 & setosa\\\\\n",
       "\t2 & 4.9 & 3.0 & 1.4 & 0.2 & setosa\\\\\n",
       "\t3 & 4.7 & 3.2 & 1.3 & 0.2 & setosa\\\\\n",
       "\t4 & 4.6 & 3.1 & 1.5 & 0.2 & setosa\\\\\n",
       "\t5 & 5.0 & 3.6 & 1.4 & 0.2 & setosa\\\\\n",
       "\t6 & 5.4 & 3.9 & 1.7 & 0.4 & setosa\\\\\n",
       "\\end{tabular}\n"
      ],
      "text/markdown": [
       "\n",
       "A data.frame: 6 × 5\n",
       "\n",
       "| <!--/--> | Sepal.Length &lt;dbl&gt; | Sepal.Width &lt;dbl&gt; | Petal.Length &lt;dbl&gt; | Petal.Width &lt;dbl&gt; | Species &lt;fct&gt; |\n",
       "|---|---|---|---|---|---|\n",
       "| 1 | 5.1 | 3.5 | 1.4 | 0.2 | setosa |\n",
       "| 2 | 4.9 | 3.0 | 1.4 | 0.2 | setosa |\n",
       "| 3 | 4.7 | 3.2 | 1.3 | 0.2 | setosa |\n",
       "| 4 | 4.6 | 3.1 | 1.5 | 0.2 | setosa |\n",
       "| 5 | 5.0 | 3.6 | 1.4 | 0.2 | setosa |\n",
       "| 6 | 5.4 | 3.9 | 1.7 | 0.4 | setosa |\n",
       "\n"
      ],
      "text/plain": [
       "  Sepal.Length Sepal.Width Petal.Length Petal.Width Species\n",
       "1 5.1          3.5         1.4          0.2         setosa \n",
       "2 4.9          3.0         1.4          0.2         setosa \n",
       "3 4.7          3.2         1.3          0.2         setosa \n",
       "4 4.6          3.1         1.5          0.2         setosa \n",
       "5 5.0          3.6         1.4          0.2         setosa \n",
       "6 5.4          3.9         1.7          0.4         setosa "
      ]
     },
     "metadata": {},
     "output_type": "display_data"
    }
   ],
   "source": [
    "head(iris)"
   ]
  },
  {
   "cell_type": "markdown",
   "metadata": {},
   "source": [
    "# 4. `modify_if()`"
   ]
  },
  {
   "cell_type": "markdown",
   "metadata": {},
   "source": [
    "## (1) `iris`에서 `Species`가 `fct`형으로 되어있는데 이것을 `chr`형으로 바꾸고 싶다. "
   ]
  },
  {
   "cell_type": "code",
   "execution_count": 5,
   "metadata": {},
   "outputs": [
    {
     "data": {
      "text/html": [
       "<table>\n",
       "<caption>A data.frame: 6 × 5</caption>\n",
       "<thead>\n",
       "\t<tr><th></th><th scope=col>Sepal.Length</th><th scope=col>Sepal.Width</th><th scope=col>Petal.Length</th><th scope=col>Petal.Width</th><th scope=col>Species</th></tr>\n",
       "\t<tr><th></th><th scope=col>&lt;dbl&gt;</th><th scope=col>&lt;dbl&gt;</th><th scope=col>&lt;dbl&gt;</th><th scope=col>&lt;dbl&gt;</th><th scope=col>&lt;chr&gt;</th></tr>\n",
       "</thead>\n",
       "<tbody>\n",
       "\t<tr><th scope=row>1</th><td>5.1</td><td>3.5</td><td>1.4</td><td>0.2</td><td>setosa</td></tr>\n",
       "\t<tr><th scope=row>2</th><td>4.9</td><td>3.0</td><td>1.4</td><td>0.2</td><td>setosa</td></tr>\n",
       "\t<tr><th scope=row>3</th><td>4.7</td><td>3.2</td><td>1.3</td><td>0.2</td><td>setosa</td></tr>\n",
       "\t<tr><th scope=row>4</th><td>4.6</td><td>3.1</td><td>1.5</td><td>0.2</td><td>setosa</td></tr>\n",
       "\t<tr><th scope=row>5</th><td>5.0</td><td>3.6</td><td>1.4</td><td>0.2</td><td>setosa</td></tr>\n",
       "\t<tr><th scope=row>6</th><td>5.4</td><td>3.9</td><td>1.7</td><td>0.4</td><td>setosa</td></tr>\n",
       "</tbody>\n",
       "</table>\n"
      ],
      "text/latex": [
       "A data.frame: 6 × 5\n",
       "\\begin{tabular}{r|lllll}\n",
       "  & Sepal.Length & Sepal.Width & Petal.Length & Petal.Width & Species\\\\\n",
       "  & <dbl> & <dbl> & <dbl> & <dbl> & <chr>\\\\\n",
       "\\hline\n",
       "\t1 & 5.1 & 3.5 & 1.4 & 0.2 & setosa\\\\\n",
       "\t2 & 4.9 & 3.0 & 1.4 & 0.2 & setosa\\\\\n",
       "\t3 & 4.7 & 3.2 & 1.3 & 0.2 & setosa\\\\\n",
       "\t4 & 4.6 & 3.1 & 1.5 & 0.2 & setosa\\\\\n",
       "\t5 & 5.0 & 3.6 & 1.4 & 0.2 & setosa\\\\\n",
       "\t6 & 5.4 & 3.9 & 1.7 & 0.4 & setosa\\\\\n",
       "\\end{tabular}\n"
      ],
      "text/markdown": [
       "\n",
       "A data.frame: 6 × 5\n",
       "\n",
       "| <!--/--> | Sepal.Length &lt;dbl&gt; | Sepal.Width &lt;dbl&gt; | Petal.Length &lt;dbl&gt; | Petal.Width &lt;dbl&gt; | Species &lt;chr&gt; |\n",
       "|---|---|---|---|---|---|\n",
       "| 1 | 5.1 | 3.5 | 1.4 | 0.2 | setosa |\n",
       "| 2 | 4.9 | 3.0 | 1.4 | 0.2 | setosa |\n",
       "| 3 | 4.7 | 3.2 | 1.3 | 0.2 | setosa |\n",
       "| 4 | 4.6 | 3.1 | 1.5 | 0.2 | setosa |\n",
       "| 5 | 5.0 | 3.6 | 1.4 | 0.2 | setosa |\n",
       "| 6 | 5.4 | 3.9 | 1.7 | 0.4 | setosa |\n",
       "\n"
      ],
      "text/plain": [
       "  Sepal.Length Sepal.Width Petal.Length Petal.Width Species\n",
       "1 5.1          3.5         1.4          0.2         setosa \n",
       "2 4.9          3.0         1.4          0.2         setosa \n",
       "3 4.7          3.2         1.3          0.2         setosa \n",
       "4 4.6          3.1         1.5          0.2         setosa \n",
       "5 5.0          3.6         1.4          0.2         setosa \n",
       "6 5.4          3.9         1.7          0.4         setosa "
      ]
     },
     "metadata": {},
     "output_type": "display_data"
    }
   ],
   "source": [
    "iris %>% modify_if(is.factor, as.character) %>% head"
   ]
  },
  {
   "cell_type": "markdown",
   "metadata": {},
   "source": [
    "## (2) 응용하면 당연히 아래와 같은것도 가능하다. "
   ]
  },
  {
   "cell_type": "code",
   "execution_count": 26,
   "metadata": {},
   "outputs": [
    {
     "data": {
      "text/html": [
       "<table>\n",
       "<caption>A tibble: 10 × 3</caption>\n",
       "<thead>\n",
       "\t<tr><th scope=col>x</th><th scope=col>y</th><th scope=col>z</th></tr>\n",
       "\t<tr><th scope=col>&lt;int&gt;</th><th scope=col>&lt;int&gt;</th><th scope=col>&lt;dbl&gt;</th></tr>\n",
       "</thead>\n",
       "<tbody>\n",
       "\t<tr><td> 1</td><td>10</td><td> 0.9418810</td></tr>\n",
       "\t<tr><td> 2</td><td> 9</td><td> 1.0862178</td></tr>\n",
       "\t<tr><td> 3</td><td> 8</td><td>-1.4832486</td></tr>\n",
       "\t<tr><td> 4</td><td> 7</td><td>-1.2726457</td></tr>\n",
       "\t<tr><td> 5</td><td> 6</td><td> 0.1427523</td></tr>\n",
       "\t<tr><td> 6</td><td> 5</td><td> 0.2776324</td></tr>\n",
       "\t<tr><td> 7</td><td> 4</td><td>-1.6800579</td></tr>\n",
       "\t<tr><td> 8</td><td> 3</td><td>-0.4282898</td></tr>\n",
       "\t<tr><td> 9</td><td> 2</td><td> 0.7373347</td></tr>\n",
       "\t<tr><td>10</td><td> 1</td><td>-1.0542865</td></tr>\n",
       "</tbody>\n",
       "</table>\n"
      ],
      "text/latex": [
       "A tibble: 10 × 3\n",
       "\\begin{tabular}{lll}\n",
       " x & y & z\\\\\n",
       " <int> & <int> & <dbl>\\\\\n",
       "\\hline\n",
       "\t  1 & 10 &  0.9418810\\\\\n",
       "\t  2 &  9 &  1.0862178\\\\\n",
       "\t  3 &  8 & -1.4832486\\\\\n",
       "\t  4 &  7 & -1.2726457\\\\\n",
       "\t  5 &  6 &  0.1427523\\\\\n",
       "\t  6 &  5 &  0.2776324\\\\\n",
       "\t  7 &  4 & -1.6800579\\\\\n",
       "\t  8 &  3 & -0.4282898\\\\\n",
       "\t  9 &  2 &  0.7373347\\\\\n",
       "\t 10 &  1 & -1.0542865\\\\\n",
       "\\end{tabular}\n"
      ],
      "text/markdown": [
       "\n",
       "A tibble: 10 × 3\n",
       "\n",
       "| x &lt;int&gt; | y &lt;int&gt; | z &lt;dbl&gt; |\n",
       "|---|---|---|\n",
       "|  1 | 10 |  0.9418810 |\n",
       "|  2 |  9 |  1.0862178 |\n",
       "|  3 |  8 | -1.4832486 |\n",
       "|  4 |  7 | -1.2726457 |\n",
       "|  5 |  6 |  0.1427523 |\n",
       "|  6 |  5 |  0.2776324 |\n",
       "|  7 |  4 | -1.6800579 |\n",
       "|  8 |  3 | -0.4282898 |\n",
       "|  9 |  2 |  0.7373347 |\n",
       "| 10 |  1 | -1.0542865 |\n",
       "\n"
      ],
      "text/plain": [
       "   x  y  z         \n",
       "1   1 10  0.9418810\n",
       "2   2  9  1.0862178\n",
       "3   3  8 -1.4832486\n",
       "4   4  7 -1.2726457\n",
       "5   5  6  0.1427523\n",
       "6   6  5  0.2776324\n",
       "7   7  4 -1.6800579\n",
       "8   8  3 -0.4282898\n",
       "9   9  2  0.7373347\n",
       "10 10  1 -1.0542865"
      ]
     },
     "metadata": {},
     "output_type": "display_data"
    }
   ],
   "source": [
    "tb2<-tibble(x=1:10,y=10:1,z=rnorm(10))\n",
    "tb2"
   ]
  },
  {
   "cell_type": "code",
   "execution_count": 27,
   "metadata": {},
   "outputs": [
    {
     "data": {
      "text/html": [
       "<table>\n",
       "<caption>A tibble: 10 × 3</caption>\n",
       "<thead>\n",
       "\t<tr><th scope=col>x</th><th scope=col>y</th><th scope=col>z</th></tr>\n",
       "\t<tr><th scope=col>&lt;dbl&gt;</th><th scope=col>&lt;dbl&gt;</th><th scope=col>&lt;dbl&gt;</th></tr>\n",
       "</thead>\n",
       "<tbody>\n",
       "\t<tr><td> 1</td><td>10</td><td> 0.9418810</td></tr>\n",
       "\t<tr><td> 2</td><td> 9</td><td> 1.0862178</td></tr>\n",
       "\t<tr><td> 3</td><td> 8</td><td>-1.4832486</td></tr>\n",
       "\t<tr><td> 4</td><td> 7</td><td>-1.2726457</td></tr>\n",
       "\t<tr><td> 5</td><td> 6</td><td> 0.1427523</td></tr>\n",
       "\t<tr><td> 6</td><td> 5</td><td> 0.2776324</td></tr>\n",
       "\t<tr><td> 7</td><td> 4</td><td>-1.6800579</td></tr>\n",
       "\t<tr><td> 8</td><td> 3</td><td>-0.4282898</td></tr>\n",
       "\t<tr><td> 9</td><td> 2</td><td> 0.7373347</td></tr>\n",
       "\t<tr><td>10</td><td> 1</td><td>-1.0542865</td></tr>\n",
       "</tbody>\n",
       "</table>\n"
      ],
      "text/latex": [
       "A tibble: 10 × 3\n",
       "\\begin{tabular}{lll}\n",
       " x & y & z\\\\\n",
       " <dbl> & <dbl> & <dbl>\\\\\n",
       "\\hline\n",
       "\t  1 & 10 &  0.9418810\\\\\n",
       "\t  2 &  9 &  1.0862178\\\\\n",
       "\t  3 &  8 & -1.4832486\\\\\n",
       "\t  4 &  7 & -1.2726457\\\\\n",
       "\t  5 &  6 &  0.1427523\\\\\n",
       "\t  6 &  5 &  0.2776324\\\\\n",
       "\t  7 &  4 & -1.6800579\\\\\n",
       "\t  8 &  3 & -0.4282898\\\\\n",
       "\t  9 &  2 &  0.7373347\\\\\n",
       "\t 10 &  1 & -1.0542865\\\\\n",
       "\\end{tabular}\n"
      ],
      "text/markdown": [
       "\n",
       "A tibble: 10 × 3\n",
       "\n",
       "| x &lt;dbl&gt; | y &lt;dbl&gt; | z &lt;dbl&gt; |\n",
       "|---|---|---|\n",
       "|  1 | 10 |  0.9418810 |\n",
       "|  2 |  9 |  1.0862178 |\n",
       "|  3 |  8 | -1.4832486 |\n",
       "|  4 |  7 | -1.2726457 |\n",
       "|  5 |  6 |  0.1427523 |\n",
       "|  6 |  5 |  0.2776324 |\n",
       "|  7 |  4 | -1.6800579 |\n",
       "|  8 |  3 | -0.4282898 |\n",
       "|  9 |  2 |  0.7373347 |\n",
       "| 10 |  1 | -1.0542865 |\n",
       "\n"
      ],
      "text/plain": [
       "   x  y  z         \n",
       "1   1 10  0.9418810\n",
       "2   2  9  1.0862178\n",
       "3   3  8 -1.4832486\n",
       "4   4  7 -1.2726457\n",
       "5   5  6  0.1427523\n",
       "6   6  5  0.2776324\n",
       "7   7  4 -1.6800579\n",
       "8   8  3 -0.4282898\n",
       "9   9  2  0.7373347\n",
       "10 10  1 -1.0542865"
      ]
     },
     "metadata": {},
     "output_type": "display_data"
    }
   ],
   "source": [
    "tb2 %>% modify_if(is.integer,as.double)"
   ]
  },
  {
   "cell_type": "markdown",
   "metadata": {},
   "source": [
    "# 5. `modify_if(...)`와 유사한 함수 비교 \n",
    "\n",
    "- `map_if(...)`, `map(keep(...),...)`와의 비교 "
   ]
  },
  {
   "cell_type": "code",
   "execution_count": 41,
   "metadata": {},
   "outputs": [
    {
     "data": {
      "text/html": [
       "<table>\n",
       "<caption>A tibble: 3 × 3</caption>\n",
       "<thead>\n",
       "\t<tr><th scope=col>num1</th><th scope=col>num2</th><th scope=col>chr1</th></tr>\n",
       "\t<tr><th scope=col>&lt;dbl&gt;</th><th scope=col>&lt;dbl&gt;</th><th scope=col>&lt;chr&gt;</th></tr>\n",
       "</thead>\n",
       "<tbody>\n",
       "\t<tr><td> 0</td><td>5</td><td>a</td></tr>\n",
       "\t<tr><td>10</td><td>6</td><td>b</td></tr>\n",
       "\t<tr><td>20</td><td>7</td><td>c</td></tr>\n",
       "</tbody>\n",
       "</table>\n"
      ],
      "text/latex": [
       "A tibble: 3 × 3\n",
       "\\begin{tabular}{lll}\n",
       " num1 & num2 & chr1\\\\\n",
       " <dbl> & <dbl> & <chr>\\\\\n",
       "\\hline\n",
       "\t  0 & 5 & a\\\\\n",
       "\t 10 & 6 & b\\\\\n",
       "\t 20 & 7 & c\\\\\n",
       "\\end{tabular}\n"
      ],
      "text/markdown": [
       "\n",
       "A tibble: 3 × 3\n",
       "\n",
       "| num1 &lt;dbl&gt; | num2 &lt;dbl&gt; | chr1 &lt;chr&gt; |\n",
       "|---|---|---|\n",
       "|  0 | 5 | a |\n",
       "| 10 | 6 | b |\n",
       "| 20 | 7 | c |\n",
       "\n"
      ],
      "text/plain": [
       "  num1 num2 chr1\n",
       "1  0   5    a   \n",
       "2 10   6    b   \n",
       "3 20   7    c   "
      ]
     },
     "metadata": {},
     "output_type": "display_data"
    }
   ],
   "source": [
    "tb <- tibble(\n",
    "  num1 = c(0, 10, 20),\n",
    "  num2 = c(5, 6, 7),\n",
    "  chr1 = c(\"a\", \"b\", \"c\")\n",
    ")\n",
    "tb"
   ]
  },
  {
   "cell_type": "code",
   "execution_count": 42,
   "metadata": {},
   "outputs": [
    {
     "data": {
      "text/html": [
       "<table>\n",
       "<caption>A tibble: 3 × 3</caption>\n",
       "<thead>\n",
       "\t<tr><th scope=col>num1</th><th scope=col>num2</th><th scope=col>chr1</th></tr>\n",
       "\t<tr><th scope=col>&lt;dbl&gt;</th><th scope=col>&lt;dbl&gt;</th><th scope=col>&lt;chr&gt;</th></tr>\n",
       "</thead>\n",
       "<tbody>\n",
       "\t<tr><td>10</td><td>6</td><td>a</td></tr>\n",
       "\t<tr><td>10</td><td>6</td><td>b</td></tr>\n",
       "\t<tr><td>10</td><td>6</td><td>c</td></tr>\n",
       "</tbody>\n",
       "</table>\n"
      ],
      "text/latex": [
       "A tibble: 3 × 3\n",
       "\\begin{tabular}{lll}\n",
       " num1 & num2 & chr1\\\\\n",
       " <dbl> & <dbl> & <chr>\\\\\n",
       "\\hline\n",
       "\t 10 & 6 & a\\\\\n",
       "\t 10 & 6 & b\\\\\n",
       "\t 10 & 6 & c\\\\\n",
       "\\end{tabular}\n"
      ],
      "text/markdown": [
       "\n",
       "A tibble: 3 × 3\n",
       "\n",
       "| num1 &lt;dbl&gt; | num2 &lt;dbl&gt; | chr1 &lt;chr&gt; |\n",
       "|---|---|---|\n",
       "| 10 | 6 | a |\n",
       "| 10 | 6 | b |\n",
       "| 10 | 6 | c |\n",
       "\n"
      ],
      "text/plain": [
       "  num1 num2 chr1\n",
       "1 10   6    a   \n",
       "2 10   6    b   \n",
       "3 10   6    c   "
      ]
     },
     "metadata": {},
     "output_type": "display_data"
    }
   ],
   "source": [
    "modify_if(tb, is.numeric, mean)"
   ]
  },
  {
   "cell_type": "code",
   "execution_count": 43,
   "metadata": {},
   "outputs": [
    {
     "data": {
      "text/html": [
       "<dl>\n",
       "\t<dt>$num1</dt>\n",
       "\t\t<dd>10</dd>\n",
       "\t<dt>$num2</dt>\n",
       "\t\t<dd>6</dd>\n",
       "\t<dt>$chr1</dt>\n",
       "\t\t<dd><style>\n",
       ".list-inline {list-style: none; margin:0; padding: 0}\n",
       ".list-inline>li {display: inline-block}\n",
       ".list-inline>li:not(:last-child)::after {content: \"\\00b7\"; padding: 0 .5ex}\n",
       "</style>\n",
       "<ol class=list-inline><li>'a'</li><li>'b'</li><li>'c'</li></ol>\n",
       "</dd>\n",
       "</dl>\n"
      ],
      "text/latex": [
       "\\begin{description}\n",
       "\\item[\\$num1] 10\n",
       "\\item[\\$num2] 6\n",
       "\\item[\\$chr1] \\begin{enumerate*}\n",
       "\\item 'a'\n",
       "\\item 'b'\n",
       "\\item 'c'\n",
       "\\end{enumerate*}\n",
       "\n",
       "\\end{description}\n"
      ],
      "text/markdown": [
       "$num1\n",
       ":   10\n",
       "$num2\n",
       ":   6\n",
       "$chr1\n",
       ":   1. 'a'\n",
       "2. 'b'\n",
       "3. 'c'\n",
       "\n",
       "\n",
       "\n",
       "\n",
       "\n"
      ],
      "text/plain": [
       "$num1\n",
       "[1] 10\n",
       "\n",
       "$num2\n",
       "[1] 6\n",
       "\n",
       "$chr1\n",
       "[1] \"a\" \"b\" \"c\"\n"
      ]
     },
     "metadata": {},
     "output_type": "display_data"
    }
   ],
   "source": [
    "map_if(tb, is.numeric, mean)"
   ]
  },
  {
   "cell_type": "code",
   "execution_count": 44,
   "metadata": {},
   "outputs": [
    {
     "data": {
      "text/html": [
       "<dl>\n",
       "\t<dt>$num1</dt>\n",
       "\t\t<dd>10</dd>\n",
       "\t<dt>$num2</dt>\n",
       "\t\t<dd>6</dd>\n",
       "</dl>\n"
      ],
      "text/latex": [
       "\\begin{description}\n",
       "\\item[\\$num1] 10\n",
       "\\item[\\$num2] 6\n",
       "\\end{description}\n"
      ],
      "text/markdown": [
       "$num1\n",
       ":   10\n",
       "$num2\n",
       ":   6\n",
       "\n",
       "\n"
      ],
      "text/plain": [
       "$num1\n",
       "[1] 10\n",
       "\n",
       "$num2\n",
       "[1] 6\n"
      ]
     },
     "metadata": {},
     "output_type": "display_data"
    }
   ],
   "source": [
    "map(keep(tb, is.numeric), mean)"
   ]
  }
 ],
 "metadata": {
  "kernelspec": {
   "display_name": "R",
   "language": "R",
   "name": "ir"
  },
  "language_info": {
   "codemirror_mode": "r",
   "file_extension": ".r",
   "mimetype": "text/x-r-source",
   "name": "R",
   "pygments_lexer": "r",
   "version": "3.6.1"
  }
 },
 "nbformat": 4,
 "nbformat_minor": 4
}
