{
 "cells": [
  {
   "cell_type": "markdown",
   "metadata": {},
   "source": [
    "# 0. 선행\n",
    "\n",
    "`pmap`을 먼저 알아야 함"
   ]
  },
  {
   "cell_type": "markdown",
   "metadata": {},
   "source": [
    "# 1. `pmap`복습 "
   ]
  },
  {
   "cell_type": "code",
   "execution_count": 4,
   "metadata": {},
   "outputs": [
    {
     "name": "stdout",
     "output_type": "stream",
     "text": [
      "\u001b[38;5;246m# A tibble: 5 x 3\u001b[39m\n",
      "     sd     n  mean\n",
      "  \u001b[3m\u001b[38;5;246m<dbl>\u001b[39m\u001b[23m \u001b[3m\u001b[38;5;246m<dbl>\u001b[39m\u001b[23m \u001b[3m\u001b[38;5;246m<dbl>\u001b[39m\u001b[23m\n",
      "\u001b[38;5;250m1\u001b[39m     1     1    10\n",
      "\u001b[38;5;250m2\u001b[39m     1     4    10\n",
      "\u001b[38;5;250m3\u001b[39m     1     6    10\n",
      "\u001b[38;5;250m4\u001b[39m     5     3     5\n",
      "\u001b[38;5;250m5\u001b[39m     5     5     5\n"
     ]
    },
    {
     "data": {
      "text/html": [
       "<ol>\n",
       "\t<li>10.0265969790322</li>\n",
       "\t<li><style>\n",
       ".list-inline {list-style: none; margin:0; padding: 0}\n",
       ".list-inline>li {display: inline-block}\n",
       ".list-inline>li:not(:last-child)::after {content: \"\\00b7\"; padding: 0 .5ex}\n",
       "</style>\n",
       "<ol class=list-inline><li>9.52939251785242</li><li>10.6992434020174</li><li>10.1927714795667</li><li>10.7722410046836</li></ol>\n",
       "</li>\n",
       "\t<li><style>\n",
       ".list-inline {list-style: none; margin:0; padding: 0}\n",
       ".list-inline>li {display: inline-block}\n",
       ".list-inline>li:not(:last-child)::after {content: \"\\00b7\"; padding: 0 .5ex}\n",
       "</style>\n",
       "<ol class=list-inline><li>8.55294212744449</li><li>10.6473367992428</li><li>9.54567520327639</li><li>9.40314927232069</li><li>12.1945863245565</li><li>9.16720666421951</li></ol>\n",
       "</li>\n",
       "\t<li><style>\n",
       ".list-inline {list-style: none; margin:0; padding: 0}\n",
       ".list-inline>li {display: inline-block}\n",
       ".list-inline>li:not(:last-child)::after {content: \"\\00b7\"; padding: 0 .5ex}\n",
       "</style>\n",
       "<ol class=list-inline><li>2.52950078777415</li><li>1.64324250036121</li><li>11.4314754965259</li></ol>\n",
       "</li>\n",
       "\t<li><style>\n",
       ".list-inline {list-style: none; margin:0; padding: 0}\n",
       ".list-inline>li {display: inline-block}\n",
       ".list-inline>li:not(:last-child)::after {content: \"\\00b7\"; padding: 0 .5ex}\n",
       "</style>\n",
       "<ol class=list-inline><li>3.89793532069598</li><li>-0.923598231196978</li><li>4.63266570659288</li><li>-2.06387080638362</li><li>1.93806931307945</li></ol>\n",
       "</li>\n",
       "</ol>\n"
      ],
      "text/latex": [
       "\\begin{enumerate}\n",
       "\\item 10.0265969790322\n",
       "\\item \\begin{enumerate*}\n",
       "\\item 9.52939251785242\n",
       "\\item 10.6992434020174\n",
       "\\item 10.1927714795667\n",
       "\\item 10.7722410046836\n",
       "\\end{enumerate*}\n",
       "\n",
       "\\item \\begin{enumerate*}\n",
       "\\item 8.55294212744449\n",
       "\\item 10.6473367992428\n",
       "\\item 9.54567520327639\n",
       "\\item 9.40314927232069\n",
       "\\item 12.1945863245565\n",
       "\\item 9.16720666421951\n",
       "\\end{enumerate*}\n",
       "\n",
       "\\item \\begin{enumerate*}\n",
       "\\item 2.52950078777415\n",
       "\\item 1.64324250036121\n",
       "\\item 11.4314754965259\n",
       "\\end{enumerate*}\n",
       "\n",
       "\\item \\begin{enumerate*}\n",
       "\\item 3.89793532069598\n",
       "\\item -0.923598231196978\n",
       "\\item 4.63266570659288\n",
       "\\item -2.06387080638362\n",
       "\\item 1.93806931307945\n",
       "\\end{enumerate*}\n",
       "\n",
       "\\end{enumerate}\n"
      ],
      "text/markdown": [
       "1. 10.0265969790322\n",
       "2. 1. 9.52939251785242\n",
       "2. 10.6992434020174\n",
       "3. 10.1927714795667\n",
       "4. 10.7722410046836\n",
       "\n",
       "\n",
       "\n",
       "3. 1. 8.55294212744449\n",
       "2. 10.6473367992428\n",
       "3. 9.54567520327639\n",
       "4. 9.40314927232069\n",
       "5. 12.1945863245565\n",
       "6. 9.16720666421951\n",
       "\n",
       "\n",
       "\n",
       "4. 1. 2.52950078777415\n",
       "2. 1.64324250036121\n",
       "3. 11.4314754965259\n",
       "\n",
       "\n",
       "\n",
       "5. 1. 3.89793532069598\n",
       "2. -0.923598231196978\n",
       "3. 4.63266570659288\n",
       "4. -2.06387080638362\n",
       "5. 1.93806931307945\n",
       "\n",
       "\n",
       "\n",
       "\n",
       "\n"
      ],
      "text/plain": [
       "[[1]]\n",
       "[1] 10.0266\n",
       "\n",
       "[[2]]\n",
       "[1]  9.529393 10.699243 10.192771 10.772241\n",
       "\n",
       "[[3]]\n",
       "[1]  8.552942 10.647337  9.545675  9.403149 12.194586  9.167207\n",
       "\n",
       "[[4]]\n",
       "[1]  2.529501  1.643243 11.431475\n",
       "\n",
       "[[5]]\n",
       "[1]  3.8979353 -0.9235982  4.6326657 -2.0638708  1.9380693\n"
      ]
     },
     "metadata": {},
     "output_type": "display_data"
    }
   ],
   "source": [
    "library(tidyverse)\n",
    "mu<-c(10,10,10,5,5)\n",
    "n<-c(1,4,6,3,5)\n",
    "sigma<-c(1,1,1,5,5)\n",
    "args<-tibble(sd=sigma,n=n,mean=mu)\n",
    "print(args4)\n",
    "args %>% pmap(rnorm)"
   ]
  },
  {
   "cell_type": "markdown",
   "metadata": {},
   "source": [
    "# 2. `mutate(...=invoke_map(...))`"
   ]
  },
  {
   "cell_type": "markdown",
   "metadata": {},
   "source": [
    "위의 `pmap`예제의 경우 함수의 종류 `rnorm`은 고정되었음. \n",
    "\n",
    "대신에 그안의 `argument`만 바뀜 \n",
    "\n",
    "하지만 `invokemap`의 경우 함수의 종류 `rnorm`까지도 자유자재로 바꿀 수 있다. "
   ]
  },
  {
   "cell_type": "code",
   "execution_count": 19,
   "metadata": {},
   "outputs": [
    {
     "data": {
      "text/html": [
       "<table>\n",
       "<caption>A tibble: 3 × 2</caption>\n",
       "<thead>\n",
       "\t<tr><th scope=col>f</th><th scope=col>params</th></tr>\n",
       "\t<tr><th scope=col>&lt;chr&gt;</th><th scope=col>&lt;list&gt;</th></tr>\n",
       "</thead>\n",
       "<tbody>\n",
       "\t<tr><td>runif</td><td>-1, 1</td></tr>\n",
       "\t<tr><td>rnorm</td><td>5</td></tr>\n",
       "\t<tr><td>rpois</td><td>10</td></tr>\n",
       "</tbody>\n",
       "</table>\n"
      ],
      "text/latex": [
       "A tibble: 3 × 2\n",
       "\\begin{tabular}{ll}\n",
       " f & params\\\\\n",
       " <chr> & <list>\\\\\n",
       "\\hline\n",
       "\t runif & -1, 1\\\\\n",
       "\t rnorm & 5\\\\\n",
       "\t rpois & 10\\\\\n",
       "\\end{tabular}\n"
      ],
      "text/markdown": [
       "\n",
       "A tibble: 3 × 2\n",
       "\n",
       "| f &lt;chr&gt; | params &lt;list&gt; |\n",
       "|---|---|\n",
       "| runif | -1, 1 |\n",
       "| rnorm | 5 |\n",
       "| rpois | 10 |\n",
       "\n"
      ],
      "text/plain": [
       "  f     params\n",
       "1 runif -1, 1 \n",
       "2 rnorm 5     \n",
       "3 rpois 10    "
      ]
     },
     "metadata": {},
     "output_type": "display_data"
    }
   ],
   "source": [
    "args2 <- tribble(\n",
    "  ~f,      ~params,\n",
    "  \"runif\", list(min = -1, max = 1),\n",
    "  \"rnorm\", list(sd = 5),\n",
    "  \"rpois\", list(lambda = 10)\n",
    ")\n",
    "args2"
   ]
  },
  {
   "cell_type": "code",
   "execution_count": 20,
   "metadata": {},
   "outputs": [
    {
     "data": {
      "text/html": [
       "<dl>\n",
       "\t<dt>$min</dt>\n",
       "\t\t<dd>-1</dd>\n",
       "\t<dt>$max</dt>\n",
       "\t\t<dd>1</dd>\n",
       "</dl>\n"
      ],
      "text/latex": [
       "\\begin{description}\n",
       "\\item[\\$min] -1\n",
       "\\item[\\$max] 1\n",
       "\\end{description}\n"
      ],
      "text/markdown": [
       "$min\n",
       ":   -1\n",
       "$max\n",
       ":   1\n",
       "\n",
       "\n"
      ],
      "text/plain": [
       "$min\n",
       "[1] -1\n",
       "\n",
       "$max\n",
       "[1] 1\n"
      ]
     },
     "metadata": {},
     "output_type": "display_data"
    }
   ],
   "source": [
    "args2[[2]][[1]]"
   ]
  },
  {
   "cell_type": "code",
   "execution_count": 21,
   "metadata": {},
   "outputs": [
    {
     "data": {
      "text/html": [
       "<strong>$sd</strong> = 5"
      ],
      "text/latex": [
       "\\textbf{\\$sd} = 5"
      ],
      "text/markdown": [
       "**$sd** = 5"
      ],
      "text/plain": [
       "$sd\n",
       "[1] 5\n"
      ]
     },
     "metadata": {},
     "output_type": "display_data"
    }
   ],
   "source": [
    "args2[[2]][[2]]"
   ]
  },
  {
   "cell_type": "code",
   "execution_count": 22,
   "metadata": {},
   "outputs": [
    {
     "data": {
      "text/html": [
       "<strong>$lambda</strong> = 10"
      ],
      "text/latex": [
       "\\textbf{\\$lambda} = 10"
      ],
      "text/markdown": [
       "**$lambda** = 10"
      ],
      "text/plain": [
       "$lambda\n",
       "[1] 10\n"
      ]
     },
     "metadata": {},
     "output_type": "display_data"
    }
   ],
   "source": [
    "args2[[2]][[3]]"
   ]
  },
  {
   "cell_type": "code",
   "execution_count": 24,
   "metadata": {},
   "outputs": [
    {
     "data": {
      "text/html": [
       "<table>\n",
       "<caption>A tibble: 3 × 3</caption>\n",
       "<thead>\n",
       "\t<tr><th scope=col>f</th><th scope=col>params</th><th scope=col>simrslt</th></tr>\n",
       "\t<tr><th scope=col>&lt;chr&gt;</th><th scope=col>&lt;list&gt;</th><th scope=col>&lt;list&gt;</th></tr>\n",
       "</thead>\n",
       "<tbody>\n",
       "\t<tr><td>runif</td><td>-1, 1</td><td>-0.99150953, -0.99263436, 0.21922757, -0.68958411, -0.93768158, 0.70080305, -0.05669339, -0.22254530, 0.39702508, -0.57001105, -0.26102789, -0.96144474, 0.10488338, 0.89339942, 0.53167436, 0.99016294, 0.22051857, 0.13738792, -0.82491617, -0.18405713</td></tr>\n",
       "\t<tr><td>rnorm</td><td>5</td><td>-0.2607774, 2.7190788, -5.1567559, -2.6241018, 1.3296374, 1.3013293, 4.2987480, -0.8425853, -4.5575232, 12.9207046, 0.9416103, -4.1568284, -9.1735152, 9.9168916, -8.4292317, -3.8408687, 1.7011974, -0.6964201, 14.0632001, -1.6556429</td></tr>\n",
       "\t<tr><td>rpois</td><td>10</td><td>11, 13, 12, 11, 13, 11, 11, 4, 11, 10, 6, 14, 9, 5, 12, 9, 10, 13, 14, 6</td></tr>\n",
       "</tbody>\n",
       "</table>\n"
      ],
      "text/latex": [
       "A tibble: 3 × 3\n",
       "\\begin{tabular}{lll}\n",
       " f & params & simrslt\\\\\n",
       " <chr> & <list> & <list>\\\\\n",
       "\\hline\n",
       "\t runif & -1, 1 & -0.99150953, -0.99263436, 0.21922757, -0.68958411, -0.93768158, 0.70080305, -0.05669339, -0.22254530, 0.39702508, -0.57001105, -0.26102789, -0.96144474, 0.10488338, 0.89339942, 0.53167436, 0.99016294, 0.22051857, 0.13738792, -0.82491617, -0.18405713\\\\\n",
       "\t rnorm & 5 & -0.2607774, 2.7190788, -5.1567559, -2.6241018, 1.3296374, 1.3013293, 4.2987480, -0.8425853, -4.5575232, 12.9207046, 0.9416103, -4.1568284, -9.1735152, 9.9168916, -8.4292317, -3.8408687, 1.7011974, -0.6964201, 14.0632001, -1.6556429\\\\\n",
       "\t rpois & 10 & 11, 13, 12, 11, 13, 11, 11, 4, 11, 10, 6, 14, 9, 5, 12, 9, 10, 13, 14, 6\\\\\n",
       "\\end{tabular}\n"
      ],
      "text/markdown": [
       "\n",
       "A tibble: 3 × 3\n",
       "\n",
       "| f &lt;chr&gt; | params &lt;list&gt; | simrslt &lt;list&gt; |\n",
       "|---|---|---|\n",
       "| runif | -1, 1 | -0.99150953, -0.99263436, 0.21922757, -0.68958411, -0.93768158, 0.70080305, -0.05669339, -0.22254530, 0.39702508, -0.57001105, -0.26102789, -0.96144474, 0.10488338, 0.89339942, 0.53167436, 0.99016294, 0.22051857, 0.13738792, -0.82491617, -0.18405713 |\n",
       "| rnorm | 5 | -0.2607774, 2.7190788, -5.1567559, -2.6241018, 1.3296374, 1.3013293, 4.2987480, -0.8425853, -4.5575232, 12.9207046, 0.9416103, -4.1568284, -9.1735152, 9.9168916, -8.4292317, -3.8408687, 1.7011974, -0.6964201, 14.0632001, -1.6556429 |\n",
       "| rpois | 10 | 11, 13, 12, 11, 13, 11, 11, 4, 11, 10, 6, 14, 9, 5, 12, 9, 10, 13, 14, 6 |\n",
       "\n"
      ],
      "text/plain": [
       "  f     params\n",
       "1 runif -1, 1 \n",
       "2 rnorm 5     \n",
       "3 rpois 10    \n",
       "  simrslt                                                                                                                                                                                                                                                  \n",
       "1 -0.99150953, -0.99263436, 0.21922757, -0.68958411, -0.93768158, 0.70080305, -0.05669339, -0.22254530, 0.39702508, -0.57001105, -0.26102789, -0.96144474, 0.10488338, 0.89339942, 0.53167436, 0.99016294, 0.22051857, 0.13738792, -0.82491617, -0.18405713\n",
       "2 -0.2607774, 2.7190788, -5.1567559, -2.6241018, 1.3296374, 1.3013293, 4.2987480, -0.8425853, -4.5575232, 12.9207046, 0.9416103, -4.1568284, -9.1735152, 9.9168916, -8.4292317, -3.8408687, 1.7011974, -0.6964201, 14.0632001, -1.6556429                  \n",
       "3 11, 13, 12, 11, 13, 11, 11, 4, 11, 10, 6, 14, 9, 5, 12, 9, 10, 13, 14, 6                                                                                                                                                                                 "
      ]
     },
     "metadata": {},
     "output_type": "display_data"
    }
   ],
   "source": [
    "args2 %>% mutate(simrslt=invoke_map(f,params,n=20))"
   ]
  }
 ],
 "metadata": {
  "kernelspec": {
   "display_name": "R",
   "language": "R",
   "name": "ir"
  },
  "language_info": {
   "codemirror_mode": "r",
   "file_extension": ".r",
   "mimetype": "text/x-r-source",
   "name": "R",
   "pygments_lexer": "r",
   "version": "3.6.1"
  }
 },
 "nbformat": 4,
 "nbformat_minor": 4
}
