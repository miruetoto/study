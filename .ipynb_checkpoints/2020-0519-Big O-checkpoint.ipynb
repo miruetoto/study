{
 "cells": [
  {
   "cell_type": "markdown",
   "id": "failing-lounge",
   "metadata": {},
   "source": [
    "### ref "
   ]
  },
  {
   "cell_type": "markdown",
   "id": "conservative-haven",
   "metadata": {},
   "source": [
    "`-` Van der Vaart, A. W. (2000). Asymptotic statistics (Vol. 3). Cambridge university press."
   ]
  },
  {
   "cell_type": "markdown",
   "id": "vertical-ambassador",
   "metadata": {},
   "source": [
    "`-` 김우철, 수리통계학."
   ]
  },
  {
   "cell_type": "markdown",
   "id": "continental-archive",
   "metadata": {},
   "source": [
    "`-` 김우철, 통계이론1 강의노트."
   ]
  },
  {
   "cell_type": "markdown",
   "id": "published-complexity",
   "metadata": {},
   "source": [
    "### little $o$ "
   ]
  },
  {
   "cell_type": "markdown",
   "id": "actual-assets",
   "metadata": {},
   "source": [
    "---\n",
    "`(정의)` $\\{x_n\\}$, $\\{r_n\\}$은 실수열이라고 하자. \n",
    "\n",
    "$\n",
    "x_n=o(r_n) \\quad as~  n\\to \\infty\n",
    "$\n",
    "\n",
    "$\n",
    "\\Longleftrightarrow x_n/r_n \\to 0 \\quad as ~ n \\to \\infty \n",
    "$\n",
    "\n",
    "---"
   ]
  },
  {
   "cell_type": "markdown",
   "id": "dressed-hopkins",
   "metadata": {},
   "source": [
    "`-` $x_n=o(1)$의 의미는 $x_n\\to 0$의 의미이다. "
   ]
  },
  {
   "cell_type": "markdown",
   "id": "vocational-ready",
   "metadata": {},
   "source": [
    "`-`  $x_n=o(r_n)$의 의미는 $x_n/r_n \\to 0$의 의미이다. "
   ]
  },
  {
   "cell_type": "markdown",
   "id": "resident-director",
   "metadata": {},
   "source": [
    "`-` $x_n=1/n$ 이면 $x_n=o(1)$. "
   ]
  },
  {
   "cell_type": "markdown",
   "id": "usual-journalism",
   "metadata": {},
   "source": [
    "`-` $x_n=1/n^2$ 이면 $x_n=o(1/n)$"
   ]
  },
  {
   "cell_type": "markdown",
   "id": "raised-pride",
   "metadata": {},
   "source": [
    "`-` $x_n=1/n^2$ 일 경우 $x_n=o(1)$, $x_n=o(1/\\sqrt{n})$, $x_n=o(1/n\\sqrt{n})$도 가능함. \n",
    "\n",
    "`-` $x_n=n^2$이면 $x_n=o(n^3)$. "
   ]
  },
  {
   "cell_type": "markdown",
   "id": "peripheral-kingston",
   "metadata": {},
   "source": [
    "`-` $x_n=o(\\bigstar_n)$ 의 표현은 $x_n$이 $\\bigstar_n$ 보다 빠르게 $0$으로 수렴 (혹은 천천히 $\\infty$ 로 발산) 하기만 하면 된다. \n"
   ]
  },
  {
   "cell_type": "markdown",
   "id": "promising-solution",
   "metadata": {},
   "source": [
    "---\n",
    "`(정의)` \n",
    "$f(x)$, $g(x)$는 실변수 함수 \n",
    "\n",
    "$\n",
    "f(x)=o\\big(g(x)\\big) \\quad as~  x\\to a \n",
    "$\n",
    "\n",
    "$\n",
    "\\Longleftrightarrow f(x)/g(x) \\to 0 \\quad as ~ x \\to a\n",
    "$\n",
    "\n",
    "---"
   ]
  },
  {
   "cell_type": "markdown",
   "id": "seventh-excess",
   "metadata": {},
   "source": [
    "`-`  함수열의 경우도 실수열과 비슷하게 해석할 수 있다. \n",
    "\n",
    "$\n",
    "f(x)=o\\big(\\bigstar(x)\\big) \\quad ~ x \\to a\n",
    "$\n",
    "\n",
    "는 $x$가 점점 $a$로 가까워질때 $f(x)$가 $\\bigstar(x)$보다 빠르게 $0$으로 수렴하거나 천천히 $\\infty$로 발산하면 된다. "
   ]
  },
  {
   "cell_type": "markdown",
   "id": "human-lighting",
   "metadata": {},
   "source": [
    "---\n",
    "\n",
    "`(정의)`  $\\{X_n\\}$, $\\{R_n\\}$은 확률변수열이라고 하자.\n",
    "\n",
    "$X_n=O_p(R_n) \\quad as ~ n\\to \\infty$\n",
    "\n",
    "$\\Longleftrightarrow \\sup_{n}P\\{|X_n/R_n|>M\\} \\underset{M\\to\\infty}{\\to} 0$\n",
    "\n",
    "---"
   ]
  },
  {
   "cell_type": "code",
   "execution_count": null,
   "id": "excellent-cover",
   "metadata": {},
   "outputs": [],
   "source": []
  }
 ],
 "metadata": {
  "kernelspec": {
   "display_name": "Python 3",
   "language": "python",
   "name": "python3"
  },
  "language_info": {
   "codemirror_mode": {
    "name": "ipython",
    "version": 3
   },
   "file_extension": ".py",
   "mimetype": "text/x-python",
   "name": "python",
   "nbconvert_exporter": "python",
   "pygments_lexer": "ipython3",
   "version": "3.8.5"
  }
 },
 "nbformat": 4,
 "nbformat_minor": 5
}
